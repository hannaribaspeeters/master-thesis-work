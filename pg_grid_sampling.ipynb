{
 "cells": [
  {
   "cell_type": "code",
   "execution_count": 1,
   "id": "c21faa08-1d33-4ab2-ab22-81c32352c306",
   "metadata": {
    "editable": true,
    "execution": {
     "iopub.execute_input": "2024-07-31T10:30:43.903863Z",
     "iopub.status.busy": "2024-07-31T10:30:43.903081Z",
     "iopub.status.idle": "2024-07-31T10:31:03.712313Z",
     "shell.execute_reply": "2024-07-31T10:31:03.711436Z",
     "shell.execute_reply.started": "2024-07-31T10:30:43.903833Z"
    },
    "slideshow": {
     "slide_type": ""
    },
    "tags": []
   },
   "outputs": [],
   "source": [
    "import pandas as pd\n",
    "import geopandas as gpd\n",
    "import numpy as np\n",
    "import seaborn as sns\n",
    "import random\n",
    "import matplotlib.pyplot as plt\n",
    "from time import time\n",
    "import torch\n",
    "from mpl_toolkits.mplot3d import Axes3D\n",
    "from src.utils.grid_thinning.grid_sampling_functionalities import GridSampling, spherical_to_cartesian, sample_data\n",
    "from src.utils.grid_thinning.thinning_strategies import thin_all_species, thin_majority_species"
   ]
  },
  {
   "cell_type": "code",
   "execution_count": 2,
   "id": "0ceccdde-8c49-4589-b739-c00b3dd75443",
   "metadata": {
    "execution": {
     "iopub.execute_input": "2024-07-31T10:31:03.721583Z",
     "iopub.status.busy": "2024-07-31T10:31:03.721403Z",
     "iopub.status.idle": "2024-07-31T10:31:10.762064Z",
     "shell.execute_reply": "2024-07-31T10:31:10.761163Z",
     "shell.execute_reply.started": "2024-07-31T10:31:03.721551Z"
    }
   },
   "outputs": [],
   "source": [
    "po_dataset_path = \"/shares/wegner.ics.uzh/glc23_data/Presences_only_train.csv\"\n",
    "po_dataset = pd.read_csv(po_dataset_path, sep=\";\")"
   ]
  },
  {
   "cell_type": "markdown",
   "id": "f61a618d-1351-4186-9ccb-97e5f901ddc0",
   "metadata": {},
   "source": [
    "# 3D spatial sampling"
   ]
  },
  {
   "cell_type": "code",
   "execution_count": 11,
   "id": "402101fa-fd79-4223-884c-96279578a66e",
   "metadata": {
    "execution": {
     "iopub.execute_input": "2024-05-06T07:29:04.880088Z",
     "iopub.status.busy": "2024-05-06T07:29:04.879286Z",
     "iopub.status.idle": "2024-05-06T07:29:35.137806Z",
     "shell.execute_reply": "2024-05-06T07:29:35.136715Z",
     "shell.execute_reply.started": "2024-05-06T07:29:04.880048Z"
    }
   },
   "outputs": [],
   "source": [
    "grid_size = 1\n",
    "dataset = po_dataset.copy()\n",
    "radius_earth = 6731\n",
    "# Extract longitude and latitude from the DataFrame\n",
    "lon = dataset['lon'].values\n",
    "lat = dataset['lat'].values\n",
    "\n",
    "# Convert spherical coordinates to Cartesian coordinates\n",
    "x, y, z = spherical_to_cartesian(lon, lat, radius_earth)\n",
    "\n",
    "coordinates = torch.stack(\n",
    "        [torch.tensor(x), torch.tensor(y), torch.tensor(z)],\n",
    "        dim=1\n",
    "    )\n",
    "\n",
    "sampler = GridSampling3D(grid_size)\n",
    "indices, cluster_density = sampler(coordinates)"
   ]
  },
  {
   "cell_type": "code",
   "execution_count": 3,
   "id": "b671029d-8e5c-4109-8c4b-2e0d9c62132f",
   "metadata": {
    "execution": {
     "iopub.execute_input": "2024-04-25T08:42:47.811765Z",
     "iopub.status.busy": "2024-04-25T08:42:47.810276Z",
     "iopub.status.idle": "2024-04-25T08:42:47.882582Z",
     "shell.execute_reply": "2024-04-25T08:42:47.881346Z",
     "shell.execute_reply.started": "2024-04-25T08:42:47.811726Z"
    }
   },
   "outputs": [],
   "source": [
    "species_data = po_dataset[po_dataset[\"speciesId\"] == 1995].copy()\n",
    "species_thinned_data, cluster_density = sample_data(species_data, 1)\n",
    "s1 = pd.Series(index=species_data.index, data=cluster_density, name='cluster_density_1995')"
   ]
  },
  {
   "cell_type": "code",
   "execution_count": 5,
   "id": "e1ce9283-e362-4e3e-8e4d-d3a79ddedec5",
   "metadata": {
    "execution": {
     "iopub.execute_input": "2024-04-25T08:42:56.121011Z",
     "iopub.status.busy": "2024-04-25T08:42:56.120470Z",
     "iopub.status.idle": "2024-04-25T08:42:56.197982Z",
     "shell.execute_reply": "2024-04-25T08:42:56.196881Z",
     "shell.execute_reply.started": "2024-04-25T08:42:56.120971Z"
    }
   },
   "outputs": [],
   "source": [
    "species_data = po_dataset[po_dataset[\"speciesId\"] == 729].copy()\n",
    "species_thinned_data, cluster_density = sample_data(species_data, 1)\n",
    "s2 = pd.Series(index=species_data.index, data=cluster_density, name='cluster_density_729')"
   ]
  },
  {
   "cell_type": "code",
   "execution_count": 6,
   "id": "1bb87ae7-053a-4180-a39c-c32f810b581d",
   "metadata": {
    "execution": {
     "iopub.execute_input": "2024-04-25T08:42:57.137598Z",
     "iopub.status.busy": "2024-04-25T08:42:57.137050Z",
     "iopub.status.idle": "2024-04-25T08:42:57.226682Z",
     "shell.execute_reply": "2024-04-25T08:42:57.225728Z",
     "shell.execute_reply.started": "2024-04-25T08:42:57.137560Z"
    }
   },
   "outputs": [],
   "source": [
    "df = po_dataset[po_dataset[\"speciesId\"].isin([1995, 729])].copy()"
   ]
  },
  {
   "cell_type": "code",
   "execution_count": 7,
   "id": "3479685d-91c8-4e19-8bbc-7420317915ab",
   "metadata": {
    "execution": {
     "iopub.execute_input": "2024-04-25T08:42:58.025151Z",
     "iopub.status.busy": "2024-04-25T08:42:58.024635Z",
     "iopub.status.idle": "2024-04-25T08:42:58.030852Z",
     "shell.execute_reply": "2024-04-25T08:42:58.029927Z",
     "shell.execute_reply.started": "2024-04-25T08:42:58.025115Z"
    }
   },
   "outputs": [],
   "source": [
    "densities = pd.concat([s1, s2])"
   ]
  },
  {
   "cell_type": "code",
   "execution_count": 8,
   "id": "a5561d5e-9e6c-475f-b9d5-34f5d1900bb0",
   "metadata": {
    "execution": {
     "iopub.execute_input": "2024-04-25T08:42:59.161456Z",
     "iopub.status.busy": "2024-04-25T08:42:59.161087Z",
     "iopub.status.idle": "2024-04-25T08:42:59.172708Z",
     "shell.execute_reply": "2024-04-25T08:42:59.171757Z",
     "shell.execute_reply.started": "2024-04-25T08:42:59.161375Z"
    }
   },
   "outputs": [
    {
     "data": {
      "text/plain": [
       "9095"
      ]
     },
     "execution_count": 8,
     "metadata": {},
     "output_type": "execute_result"
    }
   ],
   "source": [
    "len(set(df.index).intersection(set(densities.index)))"
   ]
  },
  {
   "cell_type": "code",
   "execution_count": 9,
   "id": "82c83393-2e5d-4c05-b41d-f7c711e0be58",
   "metadata": {
    "execution": {
     "iopub.execute_input": "2024-04-25T08:42:59.873206Z",
     "iopub.status.busy": "2024-04-25T08:42:59.872892Z",
     "iopub.status.idle": "2024-04-25T08:42:59.879263Z",
     "shell.execute_reply": "2024-04-25T08:42:59.878297Z",
     "shell.execute_reply.started": "2024-04-25T08:42:59.873176Z"
    }
   },
   "outputs": [
    {
     "data": {
      "text/plain": [
       "array([1, 1, 1, ..., 1, 1, 1])"
      ]
     },
     "execution_count": 9,
     "metadata": {},
     "output_type": "execute_result"
    }
   ],
   "source": [
    "densities.values"
   ]
  },
  {
   "cell_type": "code",
   "execution_count": 10,
   "id": "6ebf42e0-054d-4f49-a442-1c4519b42c9a",
   "metadata": {
    "execution": {
     "iopub.execute_input": "2024-04-25T08:43:02.649102Z",
     "iopub.status.busy": "2024-04-25T08:43:02.648600Z",
     "iopub.status.idle": "2024-04-25T08:43:02.696267Z",
     "shell.execute_reply": "2024-04-25T08:43:02.695249Z",
     "shell.execute_reply.started": "2024-04-25T08:43:02.649066Z"
    }
   },
   "outputs": [],
   "source": [
    "sampled_species_counts = df[\"speciesId\"].value_counts()\n",
    "                \n",
    "class_weights =  [\n",
    "    1/sampled_species_counts[i] for i in\\\n",
    "    df[\"speciesId\"].values\n",
    "]"
   ]
  },
  {
   "cell_type": "code",
   "execution_count": 11,
   "id": "a0a59635-60c7-44e8-b71c-56e4b1ffd296",
   "metadata": {
    "execution": {
     "iopub.execute_input": "2024-04-25T08:43:03.809000Z",
     "iopub.status.busy": "2024-04-25T08:43:03.808571Z",
     "iopub.status.idle": "2024-04-25T08:43:03.820369Z",
     "shell.execute_reply": "2024-04-25T08:43:03.819045Z",
     "shell.execute_reply.started": "2024-04-25T08:43:03.808966Z"
    }
   },
   "outputs": [],
   "source": [
    "data_train = df.merge(right=densities.rename(\"cluster_density\"), right_index=True, left_index=True)\n",
    "cluster_density = data_train[\"cluster_density\"].values"
   ]
  },
  {
   "cell_type": "code",
   "execution_count": 12,
   "id": "6fcbfcc4-054e-48b2-a772-4d56bb595de3",
   "metadata": {
    "execution": {
     "iopub.execute_input": "2024-04-25T08:43:09.831778Z",
     "iopub.status.busy": "2024-04-25T08:43:09.831220Z",
     "iopub.status.idle": "2024-04-25T08:43:09.841128Z",
     "shell.execute_reply": "2024-04-25T08:43:09.839961Z",
     "shell.execute_reply.started": "2024-04-25T08:43:09.831740Z"
    }
   },
   "outputs": [
    {
     "data": {
      "text/plain": [
       "array([0.00021993, 0.00021993, 0.00021993, ..., 0.00021988, 0.00021988,\n",
       "       0.00021988])"
      ]
     },
     "execution_count": 12,
     "metadata": {},
     "output_type": "execute_result"
    }
   ],
   "source": [
    "class_weights/cluster_density"
   ]
  },
  {
   "cell_type": "code",
   "execution_count": null,
   "id": "b03c69ec-0c89-4cde-a71b-06a1d79aca62",
   "metadata": {},
   "outputs": [],
   "source": [
    "assert(len(data_train)==len(cluster_density))\n",
    "assert(len(set(data_train.index)-set(cluster_density.index))==0)\n",
    "\n",
    "data_train = data_train.merge(\n",
    "    cluster_density.rename(\"cluster_density\"),\n",
    "    left_index=True,\n",
    "    right_index=True\n",
    ")\n",
    "\n",
    "cluster_density = data_train[\"cluster_density\"].values\n",
    "assert(len(class_weights)==len(cluster_density))\n",
    "\n",
    "sample_weights = class_weights/cluster_density"
   ]
  },
  {
   "cell_type": "code",
   "execution_count": 4,
   "id": "9c165a43-603f-4f90-9ded-3018898e0c5e",
   "metadata": {
    "collapsed": true,
    "execution": {
     "iopub.execute_input": "2024-05-06T14:26:55.796303Z",
     "iopub.status.busy": "2024-05-06T14:26:55.795681Z",
     "iopub.status.idle": "2024-05-06T14:27:10.797564Z",
     "shell.execute_reply": "2024-05-06T14:27:10.797092Z",
     "shell.execute_reply.started": "2024-05-06T14:26:55.796281Z"
    },
    "jupyter": {
     "outputs_hidden": true
    }
   },
   "outputs": [
    {
     "name": "stdout",
     "output_type": "stream",
     "text": [
      "Start thinning of 5930 species...\n",
      "Thinned speciesId 200/5930 in 0.0077 seconds.\n",
      "Thinned speciesId 400/5930 in 0.0022 seconds.\n",
      "Thinned speciesId 600/5930 in 0.002 seconds.\n",
      "Thinned speciesId 800/5930 in 0.0056 seconds.\n",
      "Thinned speciesId 1000/5930 in 0.0033 seconds.\n",
      "Thinned speciesId 1200/5930 in 0.0016 seconds.\n",
      "Thinned speciesId 1400/5930 in 0.0014 seconds.\n",
      "Thinned speciesId 1600/5930 in 0.0015 seconds.\n",
      "Thinned speciesId 1800/5930 in 0.0018 seconds.\n",
      "Thinned speciesId 2000/5930 in 0.0016 seconds.\n",
      "Thinned speciesId 2200/5930 in 0.0015 seconds.\n",
      "Thinned speciesId 2400/5930 in 0.0034 seconds.\n",
      "Thinned speciesId 2600/5930 in 0.0039 seconds.\n",
      "Thinned speciesId 2800/5930 in 0.0016 seconds.\n",
      "Thinned speciesId 3000/5930 in 0.0023 seconds.\n",
      "Thinned speciesId 3200/5930 in 0.0021 seconds.\n",
      "Thinned speciesId 3400/5930 in 0.0013 seconds.\n",
      "Thinned speciesId 3600/5930 in 0.0015 seconds.\n",
      "Thinned speciesId 3800/5930 in 0.0014 seconds.\n",
      "Thinned speciesId 4000/5930 in 0.0017 seconds.\n",
      "Thinned speciesId 4200/5930 in 0.0014 seconds.\n",
      "Thinned speciesId 4400/5930 in 0.0015 seconds.\n",
      "Thinned speciesId 4600/5930 in 0.0013 seconds.\n",
      "Thinned speciesId 4800/5930 in 0.0013 seconds.\n",
      "Thinned speciesId 5000/5930 in 0.0013 seconds.\n",
      "Thinned speciesId 5200/5930 in 0.0013 seconds.\n",
      "Thinned speciesId 5400/5930 in 0.0013 seconds.\n",
      "Thinned speciesId 5600/5930 in 0.0013 seconds.\n",
      "Thinned speciesId 5800/5930 in 0.0014 seconds.\n",
      "Completed thinning the data in 14.9447 s.\n"
     ]
    }
   ],
   "source": [
    "df = po_dataset.head(1000000)\n",
    "data, cluster_densities = thin_all_species(df, thin_dist=2)"
   ]
  },
  {
   "cell_type": "code",
   "execution_count": 5,
   "id": "8df72246-6427-464e-81fe-843c0211b79a",
   "metadata": {
    "collapsed": true,
    "execution": {
     "iopub.execute_input": "2024-05-06T14:28:31.069479Z",
     "iopub.status.busy": "2024-05-06T14:28:31.068856Z",
     "iopub.status.idle": "2024-05-06T14:28:38.481130Z",
     "shell.execute_reply": "2024-05-06T14:28:38.480677Z",
     "shell.execute_reply.started": "2024-05-06T14:28:31.069457Z"
    },
    "jupyter": {
     "outputs_hidden": true
    },
    "scrolled": true
   },
   "outputs": [
    {
     "name": "stdout",
     "output_type": "stream",
     "text": [
      "Start thinning of 1488 majority species...\n",
      "Thinned species 100/1488)\n",
      "Thinned species 200/1488)\n",
      "Thinned species 300/1488)\n",
      "Thinned species 400/1488)\n",
      "Thinned species 500/1488)\n",
      "Thinned species 600/1488)\n",
      "Thinned species 700/1488)\n",
      "Thinned species 800/1488)\n",
      "Thinned species 900/1488)\n",
      "Thinned species 1000/1488)\n",
      "Thinned species 1100/1488)\n",
      "Thinned species 1200/1488)\n",
      "Thinned species 1300/1488)\n",
      "Thinned species 1400/1488)\n",
      "Completed thinning the data in 7.3902 s.\n"
     ]
    }
   ],
   "source": [
    "data_maj, cluster_densities_maj = thin_majority_species(df)"
   ]
  },
  {
   "cell_type": "code",
   "execution_count": 19,
   "id": "be947541-c96e-4226-bb3b-4df2b475ceca",
   "metadata": {
    "collapsed": true,
    "execution": {
     "iopub.execute_input": "2024-05-06T15:11:22.495365Z",
     "iopub.status.busy": "2024-05-06T15:11:22.494935Z",
     "iopub.status.idle": "2024-05-06T15:12:09.527003Z",
     "shell.execute_reply": "2024-05-06T15:12:09.526458Z",
     "shell.execute_reply.started": "2024-05-06T15:11:22.495338Z"
    },
    "jupyter": {
     "outputs_hidden": true
    }
   },
   "outputs": [
    {
     "name": "stdout",
     "output_type": "stream",
     "text": [
      "Start thinning of 3077 majority species...\n",
      "Thinned species 100/3077)\n",
      "Thinned species 200/3077)\n",
      "Thinned species 300/3077)\n",
      "Thinned species 400/3077)\n",
      "Thinned species 500/3077)\n",
      "Thinned species 600/3077)\n",
      "Thinned species 700/3077)\n",
      "Thinned species 800/3077)\n",
      "Thinned species 900/3077)\n",
      "Thinned species 1000/3077)\n",
      "Thinned species 1100/3077)\n",
      "Thinned species 1200/3077)\n",
      "Thinned species 1300/3077)\n",
      "Thinned species 1400/3077)\n",
      "Thinned species 1500/3077)\n",
      "Thinned species 1600/3077)\n",
      "Thinned species 1700/3077)\n",
      "Thinned species 1800/3077)\n",
      "Thinned species 1900/3077)\n",
      "Thinned species 2000/3077)\n",
      "Thinned species 2100/3077)\n",
      "Thinned species 2200/3077)\n",
      "Thinned species 2300/3077)\n",
      "Thinned species 2400/3077)\n",
      "Thinned species 2500/3077)\n",
      "Thinned species 2600/3077)\n",
      "Thinned species 2700/3077)\n",
      "Thinned species 2800/3077)\n",
      "Thinned species 2900/3077)\n",
      "Thinned species 3000/3077)\n",
      "Completed thinning the data in 46.6381 s.\n"
     ]
    }
   ],
   "source": [
    "df = po_dataset.copy()\n",
    "data_maj, cluster_densities_maj = thin_majority_species(df, thin_dist=5)"
   ]
  },
  {
   "cell_type": "code",
   "execution_count": null,
   "id": "3aecca33-c216-49af-8057-d3be86881d6b",
   "metadata": {},
   "outputs": [],
   "source": [
    "# Plot original coordinates\n",
    "fig = plt.figure()\n",
    "ax = fig.add_subplot(111, projection='3d')\n",
    "ax.scatter(coordinates[:, 0], coordinates[:, 1], coordinates[:, 2], c='b', label='Original Coordinates')\n",
    "ax.set_xlabel('X')\n",
    "ax.set_ylabel('Y')\n",
    "ax.set_zlabel('Z')\n",
    "ax.legend()\n",
    "\n",
    "# Plot processed coordinates\n",
    "ax.scatter(processed_coordinates[:, 0], processed_coordinates[:, 1], processed_coordinates[:, 2], c='r', label='Processed Coordinates')\n",
    "ax.legend()\n",
    "\n",
    "plt.show()"
   ]
  },
  {
   "cell_type": "markdown",
   "id": "7ae78535-9cf1-4de9-8486-787c1d549f0c",
   "metadata": {},
   "source": [
    "## Per species"
   ]
  },
  {
   "cell_type": "code",
   "execution_count": 15,
   "id": "97225eb6-b9b2-461a-993d-a29b6f6b0704",
   "metadata": {
    "execution": {
     "iopub.execute_input": "2024-07-31T10:41:24.194420Z",
     "iopub.status.busy": "2024-07-31T10:41:24.194229Z",
     "iopub.status.idle": "2024-07-31T10:41:24.198260Z",
     "shell.execute_reply": "2024-07-31T10:41:24.197618Z",
     "shell.execute_reply.started": "2024-07-31T10:41:24.194402Z"
    }
   },
   "outputs": [],
   "source": [
    "from src.utils.grid_thinning.grid_sampling_functionalities import sample_data\n",
    "from shapely.geometry import Point\n",
    "import geopandas as gpd"
   ]
  },
  {
   "cell_type": "code",
   "execution_count": 43,
   "id": "9f5521c8-c5ff-4adb-a006-71d52e44e74e",
   "metadata": {
    "execution": {
     "iopub.execute_input": "2024-07-31T10:49:26.509959Z",
     "iopub.status.busy": "2024-07-31T10:49:26.509159Z",
     "iopub.status.idle": "2024-07-31T10:49:26.515090Z",
     "shell.execute_reply": "2024-07-31T10:49:26.514499Z",
     "shell.execute_reply.started": "2024-07-31T10:49:26.509932Z"
    }
   },
   "outputs": [],
   "source": [
    "def set_size(width, fraction=1, subplots=(1, 1)):\n",
    "    \"\"\"Set figure dimensions to avoid scaling in LaTeX.\n",
    "\n",
    "    Parameters\n",
    "    ----------\n",
    "    width: float or string\n",
    "            Document width in points, or string of predined document type\n",
    "    fraction: float, optional\n",
    "            Fraction of the width which you wish the figure to occupy\n",
    "    subplots: array-like, optional\n",
    "            The number of rows and columns of subplots.\n",
    "    Returns\n",
    "    -------\n",
    "    fig_dim: tuple\n",
    "            Dimensions of figure in inches\n",
    "    \"\"\"\n",
    "    if width == 'thesis':\n",
    "        width_pt = 426.79135\n",
    "    elif width == 'beamer':\n",
    "        width_pt = 307.28987\n",
    "    else:\n",
    "        width_pt = width\n",
    "\n",
    "    # Width of figure (in pts)\n",
    "    fig_width_pt = width_pt * fraction\n",
    "    # Convert from pt to inches\n",
    "    inches_per_pt = 1 / 72.27\n",
    "\n",
    "    # Golden ratio to set aesthetic figure height\n",
    "    # https://disq.us/p/2940ij3\n",
    "    golden_ratio = (5**.5 - 1) / 2\n",
    "\n",
    "    # Figure width in inches\n",
    "    fig_width_in = fig_width_pt * inches_per_pt\n",
    "    # Figure height in inches\n",
    "    fig_height_in = fig_width_in * golden_ratio * (subplots[0] / subplots[1])\n",
    "\n",
    "    return (fig_width_in, fig_height_in)\n"
   ]
  },
  {
   "cell_type": "code",
   "execution_count": 20,
   "id": "bf4dd980-9f50-4cbc-b87b-cb34fb484300",
   "metadata": {
    "execution": {
     "iopub.execute_input": "2024-07-31T10:44:50.897524Z",
     "iopub.status.busy": "2024-07-31T10:44:50.896923Z",
     "iopub.status.idle": "2024-07-31T10:44:50.968854Z",
     "shell.execute_reply": "2024-07-31T10:44:50.968061Z",
     "shell.execute_reply.started": "2024-07-31T10:44:50.897501Z"
    }
   },
   "outputs": [],
   "source": [
    "grid_size = 50\n",
    "radius_earth = 6371\n",
    "speciesid = 1995\n",
    "\n",
    "data = po_dataset.loc[po_dataset[\"speciesId\"]==speciesid].copy()\n",
    "data.drop_duplicates(subset=['x_EPSG3035', 'y_EPSG3035'], inplace=True)\n",
    "\n",
    "data['geometry'] = [Point(x, y) for x, y in zip(data['x_EPSG3035'], data['y_EPSG3035'])]\n",
    "gdata = gpd.GeoDataFrame(data, geometry='geometry', crs='EPSG:3035')\n",
    "\n",
    "processed_data, _ = sample_data(gdata, grid_size, radius_earth)"
   ]
  },
  {
   "cell_type": "code",
   "execution_count": 30,
   "id": "5bfb394a-8dd8-43ad-9042-c01f6374d21c",
   "metadata": {
    "execution": {
     "iopub.execute_input": "2024-07-31T10:45:56.414881Z",
     "iopub.status.busy": "2024-07-31T10:45:56.414303Z",
     "iopub.status.idle": "2024-07-31T10:45:56.419401Z",
     "shell.execute_reply": "2024-07-31T10:45:56.418738Z",
     "shell.execute_reply.started": "2024-07-31T10:45:56.414856Z"
    }
   },
   "outputs": [],
   "source": [
    "font_size=8\n",
    "plt.rcParams.update({\n",
    "        'font.size': font_size,\n",
    "        'axes.titlesize': font_size,\n",
    "        'axes.labelsize': font_size,\n",
    "        'xtick.labelsize': font_size,\n",
    "        'ytick.labelsize': font_size,\n",
    "        'legend.fontsize': font_size,\n",
    "        'figure.titlesize': font_size\n",
    "    })\n",
    "\n",
    "np.random.seed(0)\n",
    "# Generate a color palette with as many colors as the number of plots needed\n",
    "colors = plt.get_cmap('Set3').colors"
   ]
  },
  {
   "cell_type": "code",
   "execution_count": 52,
   "id": "a9e35b5f-7eab-4642-934e-0f94fd5839a7",
   "metadata": {
    "editable": true,
    "execution": {
     "iopub.execute_input": "2024-07-31T11:10:07.775050Z",
     "iopub.status.busy": "2024-07-31T11:10:07.774768Z",
     "iopub.status.idle": "2024-07-31T11:10:08.684404Z",
     "shell.execute_reply": "2024-07-31T11:10:08.683760Z",
     "shell.execute_reply.started": "2024-07-31T11:10:07.775028Z"
    },
    "slideshow": {
     "slide_type": ""
    },
    "tags": []
   },
   "outputs": [
    {
     "data": {
      "image/png": "[encoded data removed]",
      "text/plain": [
       "<Figure size 590.549x729.959 with 2 Axes>"
      ]
     },
     "metadata": {},
     "output_type": "display_data"
    }
   ],
   "source": [
    "fig, axs = plt.subplots(1, 2, figsize=set_size(width=426.790, subplots=(2,1)))\n",
    "\n",
    "# Plot all points in the GeoDataFrame on the first subplot\n",
    "gdata.plot(ax=axs[0], markersize=10, color='blue', alpha=0.3, label='full data')\n",
    "axs[0].set_title('Full Data')\n",
    "axs[0].set_xlabel('Longitude')\n",
    "axs[0].set_ylabel('Latitude')\n",
    "\n",
    "# Plot points for the specific species ID on the second subplot\n",
    "processed_data.plot(ax=axs[1], markersize=10, color='blue', alpha=0.3, label='thinned data')\n",
    "axs[1].set_title('Thinned Data')\n",
    "axs[1].set_xlabel('Longitude')\n",
    "\n",
    "# Show the plots\n",
    "plt.tight_layout()\n",
    "plt.savefig(\"plots/thinning_dist.png\", dpi=300)\n",
    "\n",
    "plt.show()"
   ]
  },
  {
   "cell_type": "markdown",
   "id": "b0663a00-5a80-4732-b1c0-f6a642b4bd41",
   "metadata": {},
   "source": [
    "# 20D Sampling in the bioclimatic space"
   ]
  },
  {
   "cell_type": "code",
   "execution_count": 1,
   "id": "e5032d05-bdf7-4dba-a412-d21a2ab08ee3",
   "metadata": {
    "execution": {
     "iopub.execute_input": "2024-05-17T15:38:03.425312Z",
     "iopub.status.busy": "2024-05-17T15:38:03.425083Z",
     "iopub.status.idle": "2024-05-17T15:38:15.108658Z",
     "shell.execute_reply": "2024-05-17T15:38:15.107947Z",
     "shell.execute_reply.started": "2024-05-17T15:38:03.425287Z"
    }
   },
   "outputs": [],
   "source": [
    "from torch_cluster import grid_cluster\n",
    "from torch_geometric.nn.pool.consecutive import consecutive_cluster\n",
    "from src.data.datasets.glc_po import GLCPODataset\n",
    "from src.data.predictors.point_bioclim import PointwiseBioclimEuropePredictor\n",
    "from src.data.predictors.loc import LocationPredictor\n",
    "import torch\n",
    "from torch.utils.data import DataLoader, WeightedRandomSampler\n",
    "from src.utils.grid_thinning.thinning_strategies import (\n",
    "    thin_all_species,\n",
    "    thin_majority_species,\n",
    "    thin_majority_minority_species, \n",
    "    thin_bioclim_all_species\n",
    ")\n",
    "from src.utils.grid_thinning.grid_sampling_functionalities import sample_data, sample_bioclim_data\n",
    "import pandas as pd"
   ]
  },
  {
   "cell_type": "code",
   "execution_count": 2,
   "id": "ef2ad4d1-6019-4847-9d94-338a7a1b54c7",
   "metadata": {
    "execution": {
     "iopub.execute_input": "2024-05-17T15:38:16.676452Z",
     "iopub.status.busy": "2024-05-17T15:38:16.675838Z",
     "iopub.status.idle": "2024-05-17T15:38:16.679241Z",
     "shell.execute_reply": "2024-05-17T15:38:16.678732Z",
     "shell.execute_reply.started": "2024-05-17T15:38:16.676425Z"
    }
   },
   "outputs": [],
   "source": [
    "import numpy as np"
   ]
  },
  {
   "cell_type": "code",
   "execution_count": 3,
   "id": "3fdcb4e2-889e-49a2-82b7-9f19c3072813",
   "metadata": {
    "execution": {
     "iopub.execute_input": "2024-05-17T15:38:17.852803Z",
     "iopub.status.busy": "2024-05-17T15:38:17.852251Z",
     "iopub.status.idle": "2024-05-17T15:38:29.615518Z",
     "shell.execute_reply": "2024-05-17T15:38:29.614593Z",
     "shell.execute_reply.started": "2024-05-17T15:38:17.852776Z"
    }
   },
   "outputs": [],
   "source": [
    "bioclim_path = \"/shares/wegner.ics.uzh/glc23_data/bioclim+elev/bioclim_elevation_scaled_europe.npy\"\n",
    "po_dataset_path = \"/shares/wegner.ics.uzh/glc23_data/Presences_only_train.csv\"\n",
    "\n",
    "bioclim = PointwiseBioclimEuropePredictor(bioclim_path)\n",
    "loc = LocationPredictor()\n",
    "\n",
    "predictors = {\"loc_cyclical_europe\": loc, \n",
    "             \"bioclim_pointwise_europe\": bioclim}\n",
    "\n",
    "data_train = GLCPODataset(\n",
    "   predictors,\n",
    "   po_dataset_path\n",
    ")"
   ]
  },
  {
   "cell_type": "code",
   "execution_count": 4,
   "id": "2142a4cd-5c0c-4542-a23c-aaf99e6e72b0",
   "metadata": {
    "execution": {
     "iopub.execute_input": "2024-05-17T15:38:42.459346Z",
     "iopub.status.busy": "2024-05-17T15:38:42.458661Z",
     "iopub.status.idle": "2024-05-17T15:38:42.523071Z",
     "shell.execute_reply": "2024-05-17T15:38:42.522251Z",
     "shell.execute_reply.started": "2024-05-17T15:38:42.459321Z"
    }
   },
   "outputs": [
    {
     "name": "stdout",
     "output_type": "stream",
     "text": [
      "tensor([7, 5, 9, 3, 8])\n",
      "5\n"
     ]
    }
   ],
   "source": [
    "speciesid=7466\n",
    "species_thinned_data, cluster_density = sample_bioclim_data(data_train, speciesid, grid_size=1)"
   ]
  },
  {
   "cell_type": "code",
   "execution_count": 5,
   "id": "7a4d04c4-173b-44ac-99fa-2137da7771be",
   "metadata": {
    "execution": {
     "iopub.execute_input": "2024-05-17T15:38:44.263047Z",
     "iopub.status.busy": "2024-05-17T15:38:44.262128Z",
     "iopub.status.idle": "2024-05-17T15:38:44.268716Z",
     "shell.execute_reply": "2024-05-17T15:38:44.268106Z",
     "shell.execute_reply.started": "2024-05-17T15:38:44.262994Z"
    }
   },
   "outputs": [
    {
     "data": {
      "text/plain": [
       "4907940    7466\n",
       "4907744    7466\n",
       "4908256    7466\n",
       "4907735    7466\n",
       "4908153    7466\n",
       "Name: speciesId, dtype: int64"
      ]
     },
     "execution_count": 5,
     "metadata": {},
     "output_type": "execute_result"
    }
   ],
   "source": [
    "species_thinned_data[\"speciesId\"]"
   ]
  },
  {
   "cell_type": "code",
   "execution_count": 5,
   "id": "209c6a46-7bd9-43fe-badc-4f3d5c8b4f88",
   "metadata": {
    "execution": {
     "iopub.execute_input": "2024-05-17T15:29:01.165714Z",
     "iopub.status.busy": "2024-05-17T15:29:01.164702Z",
     "iopub.status.idle": "2024-05-17T15:29:01.328875Z",
     "shell.execute_reply": "2024-05-17T15:29:01.328228Z",
     "shell.execute_reply.started": "2024-05-17T15:29:01.165690Z"
    }
   },
   "outputs": [],
   "source": [
    "df = data_train.data.copy()\n",
    "species_data = df[df[\"speciesId\"]==speciesid].copy()"
   ]
  },
  {
   "cell_type": "code",
   "execution_count": 6,
   "id": "1167e673-0ed1-45e0-8f3b-524a13687221",
   "metadata": {
    "execution": {
     "iopub.execute_input": "2024-05-17T15:29:01.500372Z",
     "iopub.status.busy": "2024-05-17T15:29:01.499697Z",
     "iopub.status.idle": "2024-05-17T15:29:01.512505Z",
     "shell.execute_reply": "2024-05-17T15:29:01.511977Z",
     "shell.execute_reply.started": "2024-05-17T15:29:01.500346Z"
    }
   },
   "outputs": [
    {
     "name": "stdout",
     "output_type": "stream",
     "text": [
      "tensor([3, 1, 5, 2, 4, 7, 6, 8, 9])\n"
     ]
    }
   ],
   "source": [
    "species_thinned_data, cluster_density = sample_data(species_data, grid_size=1)"
   ]
  },
  {
   "cell_type": "code",
   "execution_count": 6,
   "id": "d58f8d08-eb52-4322-b2d0-2ae9d0162ec2",
   "metadata": {
    "collapsed": true,
    "execution": {
     "iopub.execute_input": "2024-05-17T14:59:34.951614Z",
     "iopub.status.busy": "2024-05-17T14:59:34.950682Z",
     "iopub.status.idle": "2024-05-17T14:59:35.026012Z",
     "shell.execute_reply": "2024-05-17T14:59:35.025033Z",
     "shell.execute_reply.started": "2024-05-17T14:59:34.951588Z"
    },
    "jupyter": {
     "outputs_hidden": true
    }
   },
   "outputs": [
    {
     "ename": "IndexError",
     "evalue": "positional indexers are out-of-bounds",
     "output_type": "error",
     "traceback": [
      "\u001b[0;31m---------------------------------------------------------------------------\u001b[0m",
      "\u001b[0;31mIndexError\u001b[0m                                Traceback (most recent call last)",
      "Cell \u001b[0;32mIn[6], line 1\u001b[0m\n\u001b[0;32m----> 1\u001b[0m \u001b[43mdata_train\u001b[49m\u001b[38;5;241;43m.\u001b[39;49m\u001b[43mdata\u001b[49m\u001b[38;5;241;43m.\u001b[39;49m\u001b[43miloc\u001b[49m\u001b[43m[\u001b[49m\u001b[43m[\u001b[49m\u001b[38;5;241;43m4907720\u001b[39;49m\u001b[43m,\u001b[49m\u001b[43m \u001b[49m\u001b[38;5;241;43m4907721\u001b[39;49m\u001b[43m,\u001b[49m\u001b[43m \u001b[49m\u001b[38;5;241;43m4907728\u001b[39;49m\u001b[43m,\u001b[49m\u001b[43m \u001b[49m\u001b[38;5;241;43m4907735\u001b[39;49m\u001b[43m,\u001b[49m\u001b[43m \u001b[49m\u001b[38;5;241;43m4907738\u001b[39;49m\u001b[43m,\u001b[49m\u001b[43m \u001b[49m\u001b[38;5;241;43m4907744\u001b[39;49m\u001b[43m,\u001b[49m\u001b[43m \u001b[49m\u001b[38;5;241;43m4907910\u001b[39;49m\u001b[43m,\u001b[49m\u001b[43m \u001b[49m\u001b[38;5;241;43m4907940\u001b[39;49m\u001b[43m,\u001b[49m\n\u001b[1;32m      2\u001b[0m \u001b[43m       \u001b[49m\u001b[38;5;241;43m4908153\u001b[39;49m\u001b[43m,\u001b[49m\u001b[43m \u001b[49m\u001b[38;5;241;43m4908256\u001b[39;49m\u001b[43m]\u001b[49m\u001b[43m,\u001b[49m\u001b[43m \u001b[49m\u001b[43mdata_train\u001b[49m\u001b[38;5;241;43m.\u001b[39;49m\u001b[43mdata\u001b[49m\u001b[43m[\u001b[49m\u001b[38;5;124;43m\"\u001b[39;49m\u001b[38;5;124;43mspeciesId\u001b[39;49m\u001b[38;5;124;43m\"\u001b[39;49m\u001b[43m]\u001b[49m\u001b[43m]\u001b[49m\n",
      "File \u001b[0;32m~/data/conda/envs/sdm_sandbox/lib/python3.9/site-packages/pandas/core/indexing.py:1184\u001b[0m, in \u001b[0;36m_LocationIndexer.__getitem__\u001b[0;34m(self, key)\u001b[0m\n\u001b[1;32m   1182\u001b[0m     \u001b[38;5;28;01mif\u001b[39;00m \u001b[38;5;28mself\u001b[39m\u001b[38;5;241m.\u001b[39m_is_scalar_access(key):\n\u001b[1;32m   1183\u001b[0m         \u001b[38;5;28;01mreturn\u001b[39;00m \u001b[38;5;28mself\u001b[39m\u001b[38;5;241m.\u001b[39mobj\u001b[38;5;241m.\u001b[39m_get_value(\u001b[38;5;241m*\u001b[39mkey, takeable\u001b[38;5;241m=\u001b[39m\u001b[38;5;28mself\u001b[39m\u001b[38;5;241m.\u001b[39m_takeable)\n\u001b[0;32m-> 1184\u001b[0m     \u001b[38;5;28;01mreturn\u001b[39;00m \u001b[38;5;28;43mself\u001b[39;49m\u001b[38;5;241;43m.\u001b[39;49m\u001b[43m_getitem_tuple\u001b[49m\u001b[43m(\u001b[49m\u001b[43mkey\u001b[49m\u001b[43m)\u001b[49m\n\u001b[1;32m   1185\u001b[0m \u001b[38;5;28;01melse\u001b[39;00m:\n\u001b[1;32m   1186\u001b[0m     \u001b[38;5;66;03m# we by definition only have the 0th axis\u001b[39;00m\n\u001b[1;32m   1187\u001b[0m     axis \u001b[38;5;241m=\u001b[39m \u001b[38;5;28mself\u001b[39m\u001b[38;5;241m.\u001b[39maxis \u001b[38;5;129;01mor\u001b[39;00m \u001b[38;5;241m0\u001b[39m\n",
      "File \u001b[0;32m~/data/conda/envs/sdm_sandbox/lib/python3.9/site-packages/pandas/core/indexing.py:1690\u001b[0m, in \u001b[0;36m_iLocIndexer._getitem_tuple\u001b[0;34m(self, tup)\u001b[0m\n\u001b[1;32m   1689\u001b[0m \u001b[38;5;28;01mdef\u001b[39;00m \u001b[38;5;21m_getitem_tuple\u001b[39m(\u001b[38;5;28mself\u001b[39m, tup: \u001b[38;5;28mtuple\u001b[39m):\n\u001b[0;32m-> 1690\u001b[0m     tup \u001b[38;5;241m=\u001b[39m \u001b[38;5;28;43mself\u001b[39;49m\u001b[38;5;241;43m.\u001b[39;49m\u001b[43m_validate_tuple_indexer\u001b[49m\u001b[43m(\u001b[49m\u001b[43mtup\u001b[49m\u001b[43m)\u001b[49m\n\u001b[1;32m   1691\u001b[0m     \u001b[38;5;28;01mwith\u001b[39;00m suppress(IndexingError):\n\u001b[1;32m   1692\u001b[0m         \u001b[38;5;28;01mreturn\u001b[39;00m \u001b[38;5;28mself\u001b[39m\u001b[38;5;241m.\u001b[39m_getitem_lowerdim(tup)\n",
      "File \u001b[0;32m~/data/conda/envs/sdm_sandbox/lib/python3.9/site-packages/pandas/core/indexing.py:966\u001b[0m, in \u001b[0;36m_LocationIndexer._validate_tuple_indexer\u001b[0;34m(self, key)\u001b[0m\n\u001b[1;32m    964\u001b[0m \u001b[38;5;28;01mfor\u001b[39;00m i, k \u001b[38;5;129;01min\u001b[39;00m \u001b[38;5;28menumerate\u001b[39m(key):\n\u001b[1;32m    965\u001b[0m     \u001b[38;5;28;01mtry\u001b[39;00m:\n\u001b[0;32m--> 966\u001b[0m         \u001b[38;5;28;43mself\u001b[39;49m\u001b[38;5;241;43m.\u001b[39;49m\u001b[43m_validate_key\u001b[49m\u001b[43m(\u001b[49m\u001b[43mk\u001b[49m\u001b[43m,\u001b[49m\u001b[43m \u001b[49m\u001b[43mi\u001b[49m\u001b[43m)\u001b[49m\n\u001b[1;32m    967\u001b[0m     \u001b[38;5;28;01mexcept\u001b[39;00m \u001b[38;5;167;01mValueError\u001b[39;00m \u001b[38;5;28;01mas\u001b[39;00m err:\n\u001b[1;32m    968\u001b[0m         \u001b[38;5;28;01mraise\u001b[39;00m \u001b[38;5;167;01mValueError\u001b[39;00m(\n\u001b[1;32m    969\u001b[0m             \u001b[38;5;124m\"\u001b[39m\u001b[38;5;124mLocation based indexing can only have \u001b[39m\u001b[38;5;124m\"\u001b[39m\n\u001b[1;32m    970\u001b[0m             \u001b[38;5;124mf\u001b[39m\u001b[38;5;124m\"\u001b[39m\u001b[38;5;124m[\u001b[39m\u001b[38;5;132;01m{\u001b[39;00m\u001b[38;5;28mself\u001b[39m\u001b[38;5;241m.\u001b[39m_valid_types\u001b[38;5;132;01m}\u001b[39;00m\u001b[38;5;124m] types\u001b[39m\u001b[38;5;124m\"\u001b[39m\n\u001b[1;32m    971\u001b[0m         ) \u001b[38;5;28;01mfrom\u001b[39;00m \u001b[38;5;21;01merr\u001b[39;00m\n",
      "File \u001b[0;32m~/data/conda/envs/sdm_sandbox/lib/python3.9/site-packages/pandas/core/indexing.py:1612\u001b[0m, in \u001b[0;36m_iLocIndexer._validate_key\u001b[0;34m(self, key, axis)\u001b[0m\n\u001b[1;32m   1610\u001b[0m     \u001b[38;5;66;03m# check that the key does not exceed the maximum size of the index\u001b[39;00m\n\u001b[1;32m   1611\u001b[0m     \u001b[38;5;28;01mif\u001b[39;00m \u001b[38;5;28mlen\u001b[39m(arr) \u001b[38;5;129;01mand\u001b[39;00m (arr\u001b[38;5;241m.\u001b[39mmax() \u001b[38;5;241m>\u001b[39m\u001b[38;5;241m=\u001b[39m len_axis \u001b[38;5;129;01mor\u001b[39;00m arr\u001b[38;5;241m.\u001b[39mmin() \u001b[38;5;241m<\u001b[39m \u001b[38;5;241m-\u001b[39mlen_axis):\n\u001b[0;32m-> 1612\u001b[0m         \u001b[38;5;28;01mraise\u001b[39;00m \u001b[38;5;167;01mIndexError\u001b[39;00m(\u001b[38;5;124m\"\u001b[39m\u001b[38;5;124mpositional indexers are out-of-bounds\u001b[39m\u001b[38;5;124m\"\u001b[39m)\n\u001b[1;32m   1613\u001b[0m \u001b[38;5;28;01melse\u001b[39;00m:\n\u001b[1;32m   1614\u001b[0m     \u001b[38;5;28;01mraise\u001b[39;00m \u001b[38;5;167;01mValueError\u001b[39;00m(\u001b[38;5;124mf\u001b[39m\u001b[38;5;124m\"\u001b[39m\u001b[38;5;124mCan only index by location with a [\u001b[39m\u001b[38;5;132;01m{\u001b[39;00m\u001b[38;5;28mself\u001b[39m\u001b[38;5;241m.\u001b[39m_valid_types\u001b[38;5;132;01m}\u001b[39;00m\u001b[38;5;124m]\u001b[39m\u001b[38;5;124m\"\u001b[39m)\n",
      "\u001b[0;31mIndexError\u001b[0m: positional indexers are out-of-bounds"
     ]
    }
   ],
   "source": [
    "data_train.data.iloc[[4907720, 4907721, 4907728, 4907735, 4907738, 4907744, 4907910, 4907940,\n",
    "       4908153, 4908256], data_train.data[\"speciesId\"]]"
   ]
  },
  {
   "cell_type": "code",
   "execution_count": null,
   "id": "80b780e8-7809-4d98-8820-bec54ca4e5a1",
   "metadata": {},
   "outputs": [],
   "source": [
    "data_train"
   ]
  },
  {
   "cell_type": "code",
   "execution_count": 7,
   "id": "0c473ef5-6586-4fd5-8eff-b7aeda9f65b0",
   "metadata": {
    "execution": {
     "iopub.execute_input": "2024-05-17T14:38:02.363368Z",
     "iopub.status.busy": "2024-05-17T14:38:02.363031Z",
     "iopub.status.idle": "2024-05-17T14:38:02.384877Z",
     "shell.execute_reply": "2024-05-17T14:38:02.384316Z",
     "shell.execute_reply.started": "2024-05-17T14:38:02.363344Z"
    }
   },
   "outputs": [
    {
     "data": {
      "text/html": [
       "<div>\n",
       "<style scoped>\n",
       "    .dataframe tbody tr th:only-of-type {\n",
       "        vertical-align: middle;\n",
       "    }\n",
       "\n",
       "    .dataframe tbody tr th {\n",
       "        vertical-align: top;\n",
       "    }\n",
       "\n",
       "    .dataframe thead th {\n",
       "        text-align: right;\n",
       "    }\n",
       "</style>\n",
       "<table border=\"1\" class=\"dataframe\">\n",
       "  <thead>\n",
       "    <tr style=\"text-align: right;\">\n",
       "      <th></th>\n",
       "      <th>glcID</th>\n",
       "      <th>gbifID</th>\n",
       "      <th>observer</th>\n",
       "      <th>datasetName</th>\n",
       "      <th>date</th>\n",
       "      <th>dayOfYear</th>\n",
       "      <th>year</th>\n",
       "      <th>lon</th>\n",
       "      <th>lat</th>\n",
       "      <th>x_EPSG3035</th>\n",
       "      <th>y_EPSG3035</th>\n",
       "      <th>geoUncertaintyInM</th>\n",
       "      <th>speciesId</th>\n",
       "      <th>patchID</th>\n",
       "      <th>timeSerieID</th>\n",
       "    </tr>\n",
       "  </thead>\n",
       "  <tbody>\n",
       "    <tr>\n",
       "      <th>7</th>\n",
       "      <td>1797028</td>\n",
       "      <td>3.952319e+09</td>\n",
       "      <td>NaN</td>\n",
       "      <td>Pl@ntNet automatic</td>\n",
       "      <td>2019-07-29</td>\n",
       "      <td>210</td>\n",
       "      <td>2019</td>\n",
       "      <td>-10.46649</td>\n",
       "      <td>52.14950</td>\n",
       "      <td>2941391.0</td>\n",
       "      <td>3422495.0</td>\n",
       "      <td>24.0</td>\n",
       "      <td>5020</td>\n",
       "      <td>3018876</td>\n",
       "      <td>1007</td>\n",
       "    </tr>\n",
       "    <tr>\n",
       "      <th>5</th>\n",
       "      <td>2281420</td>\n",
       "      <td>3.951475e+09</td>\n",
       "      <td>NaN</td>\n",
       "      <td>Pl@ntNet automatic</td>\n",
       "      <td>2021-07-07</td>\n",
       "      <td>188</td>\n",
       "      <td>2021</td>\n",
       "      <td>-10.47352</td>\n",
       "      <td>52.15065</td>\n",
       "      <td>2940968.0</td>\n",
       "      <td>3422752.0</td>\n",
       "      <td>6.0</td>\n",
       "      <td>3479</td>\n",
       "      <td>3018874</td>\n",
       "      <td>1005</td>\n",
       "    </tr>\n",
       "    <tr>\n",
       "      <th>9</th>\n",
       "      <td>1768174</td>\n",
       "      <td>3.955862e+09</td>\n",
       "      <td>NaN</td>\n",
       "      <td>Pl@ntNet automatic</td>\n",
       "      <td>2021-08-27</td>\n",
       "      <td>239</td>\n",
       "      <td>2021</td>\n",
       "      <td>-10.46618</td>\n",
       "      <td>52.14698</td>\n",
       "      <td>2941333.0</td>\n",
       "      <td>3422218.0</td>\n",
       "      <td>21.0</td>\n",
       "      <td>5020</td>\n",
       "      <td>3018878</td>\n",
       "      <td>1009</td>\n",
       "    </tr>\n",
       "    <tr>\n",
       "      <th>3</th>\n",
       "      <td>1800638</td>\n",
       "      <td>2.294436e+09</td>\n",
       "      <td>gsauce</td>\n",
       "      <td>iNaturalist RG</td>\n",
       "      <td>2019-07-02</td>\n",
       "      <td>183</td>\n",
       "      <td>2019</td>\n",
       "      <td>-10.47555</td>\n",
       "      <td>52.15074</td>\n",
       "      <td>2940838.0</td>\n",
       "      <td>3422801.0</td>\n",
       "      <td>6.0</td>\n",
       "      <td>5783</td>\n",
       "      <td>3018872</td>\n",
       "      <td>1003</td>\n",
       "    </tr>\n",
       "    <tr>\n",
       "      <th>8</th>\n",
       "      <td>4639581</td>\n",
       "      <td>3.957127e+09</td>\n",
       "      <td>NaN</td>\n",
       "      <td>Pl@ntNet automatic</td>\n",
       "      <td>2019-07-29</td>\n",
       "      <td>210</td>\n",
       "      <td>2019</td>\n",
       "      <td>-10.46634</td>\n",
       "      <td>52.14962</td>\n",
       "      <td>2941405.0</td>\n",
       "      <td>3422505.0</td>\n",
       "      <td>12.0</td>\n",
       "      <td>1170</td>\n",
       "      <td>3018877</td>\n",
       "      <td>1008</td>\n",
       "    </tr>\n",
       "  </tbody>\n",
       "</table>\n",
       "</div>"
      ],
      "text/plain": [
       "     glcID        gbifID observer         datasetName        date  dayOfYear  \\\n",
       "7  1797028  3.952319e+09      NaN  Pl@ntNet automatic  2019-07-29        210   \n",
       "5  2281420  3.951475e+09      NaN  Pl@ntNet automatic  2021-07-07        188   \n",
       "9  1768174  3.955862e+09      NaN  Pl@ntNet automatic  2021-08-27        239   \n",
       "3  1800638  2.294436e+09   gsauce      iNaturalist RG  2019-07-02        183   \n",
       "8  4639581  3.957127e+09      NaN  Pl@ntNet automatic  2019-07-29        210   \n",
       "\n",
       "   year       lon       lat  x_EPSG3035  y_EPSG3035  geoUncertaintyInM  \\\n",
       "7  2019 -10.46649  52.14950   2941391.0   3422495.0               24.0   \n",
       "5  2021 -10.47352  52.15065   2940968.0   3422752.0                6.0   \n",
       "9  2021 -10.46618  52.14698   2941333.0   3422218.0               21.0   \n",
       "3  2019 -10.47555  52.15074   2940838.0   3422801.0                6.0   \n",
       "8  2019 -10.46634  52.14962   2941405.0   3422505.0               12.0   \n",
       "\n",
       "   speciesId  patchID  timeSerieID  \n",
       "7       5020  3018876         1007  \n",
       "5       3479  3018874         1005  \n",
       "9       5020  3018878         1009  \n",
       "3       5783  3018872         1003  \n",
       "8       1170  3018877         1008  "
      ]
     },
     "execution_count": 7,
     "metadata": {},
     "output_type": "execute_result"
    }
   ],
   "source": [
    "species_thinned_data"
   ]
  },
  {
   "cell_type": "code",
   "execution_count": 53,
   "id": "76820a36-0bb2-4b77-a012-786708db0314",
   "metadata": {
    "execution": {
     "iopub.execute_input": "2024-07-31T11:46:37.686129Z",
     "iopub.status.busy": "2024-07-31T11:46:37.685678Z",
     "iopub.status.idle": "2024-07-31T11:46:37.708813Z",
     "shell.execute_reply": "2024-07-31T11:46:37.708000Z",
     "shell.execute_reply.started": "2024-07-31T11:46:37.686106Z"
    }
   },
   "outputs": [
    {
     "ename": "NameError",
     "evalue": "name 'data_train' is not defined",
     "output_type": "error",
     "traceback": [
      "\u001b[0;31m---------------------------------------------------------------------------\u001b[0m",
      "\u001b[0;31mNameError\u001b[0m                                 Traceback (most recent call last)",
      "Cell \u001b[0;32mIn[53], line 1\u001b[0m\n\u001b[0;32m----> 1\u001b[0m species_data \u001b[38;5;241m=\u001b[39m \u001b[43mdata_train\u001b[49m\u001b[38;5;241m.\u001b[39mdata[data_train\u001b[38;5;241m.\u001b[39mdata[\u001b[38;5;124m\"\u001b[39m\u001b[38;5;124mspeciesId\u001b[39m\u001b[38;5;124m\"\u001b[39m]\u001b[38;5;241m==\u001b[39m\u001b[38;5;241m7466\u001b[39m]\u001b[38;5;241m.\u001b[39mcopy()\n\u001b[1;32m      2\u001b[0m species_thinned_data, cluster_density \u001b[38;5;241m=\u001b[39m sample_data(species_data, grid_size\u001b[38;5;241m=\u001b[39m\u001b[38;5;241m1\u001b[39m)\n",
      "\u001b[0;31mNameError\u001b[0m: name 'data_train' is not defined"
     ]
    }
   ],
   "source": [
    "species_data = data_train.data[data_train.data[\"speciesId\"]==7466].copy()\n",
    "species_thinned_data, cluster_density = sample_data(species_data, grid_size=1)"
   ]
  },
  {
   "cell_type": "code",
   "execution_count": 11,
   "id": "52f21ca9-c120-47f6-ada7-b5b8527f82b5",
   "metadata": {
    "execution": {
     "iopub.execute_input": "2024-05-17T14:39:32.001534Z",
     "iopub.status.busy": "2024-05-17T14:39:32.000990Z",
     "iopub.status.idle": "2024-05-17T14:39:32.014900Z",
     "shell.execute_reply": "2024-05-17T14:39:32.014333Z",
     "shell.execute_reply.started": "2024-05-17T14:39:32.001508Z"
    }
   },
   "outputs": [
    {
     "data": {
      "text/html": [
       "<div>\n",
       "<style scoped>\n",
       "    .dataframe tbody tr th:only-of-type {\n",
       "        vertical-align: middle;\n",
       "    }\n",
       "\n",
       "    .dataframe tbody tr th {\n",
       "        vertical-align: top;\n",
       "    }\n",
       "\n",
       "    .dataframe thead th {\n",
       "        text-align: right;\n",
       "    }\n",
       "</style>\n",
       "<table border=\"1\" class=\"dataframe\">\n",
       "  <thead>\n",
       "    <tr style=\"text-align: right;\">\n",
       "      <th></th>\n",
       "      <th>glcID</th>\n",
       "      <th>gbifID</th>\n",
       "      <th>observer</th>\n",
       "      <th>datasetName</th>\n",
       "      <th>date</th>\n",
       "      <th>dayOfYear</th>\n",
       "      <th>year</th>\n",
       "      <th>lon</th>\n",
       "      <th>lat</th>\n",
       "      <th>x_EPSG3035</th>\n",
       "      <th>y_EPSG3035</th>\n",
       "      <th>geoUncertaintyInM</th>\n",
       "      <th>speciesId</th>\n",
       "      <th>patchID</th>\n",
       "      <th>timeSerieID</th>\n",
       "    </tr>\n",
       "  </thead>\n",
       "  <tbody>\n",
       "    <tr>\n",
       "      <th>4907735</th>\n",
       "      <td>3311172</td>\n",
       "      <td>2.012958e+09</td>\n",
       "      <td>torillomo</td>\n",
       "      <td>iNaturalist RG</td>\n",
       "      <td>2019-02-28</td>\n",
       "      <td>59</td>\n",
       "      <td>2019</td>\n",
       "      <td>33.01006</td>\n",
       "      <td>34.59289</td>\n",
       "      <td>6420707.0</td>\n",
       "      <td>1598832.0</td>\n",
       "      <td>5.0</td>\n",
       "      <td>7466</td>\n",
       "      <td>6999957</td>\n",
       "      <td>3979751</td>\n",
       "    </tr>\n",
       "    <tr>\n",
       "      <th>4907721</th>\n",
       "      <td>4070871</td>\n",
       "      <td>2.012958e+09</td>\n",
       "      <td>ibazos</td>\n",
       "      <td>iNaturalist RG</td>\n",
       "      <td>2019-02-28</td>\n",
       "      <td>59</td>\n",
       "      <td>2019</td>\n",
       "      <td>33.00674</td>\n",
       "      <td>34.60025</td>\n",
       "      <td>6420207.0</td>\n",
       "      <td>1599525.0</td>\n",
       "      <td>9.0</td>\n",
       "      <td>7466</td>\n",
       "      <td>6999944</td>\n",
       "      <td>3979738</td>\n",
       "    </tr>\n",
       "    <tr>\n",
       "      <th>4907744</th>\n",
       "      <td>2944033</td>\n",
       "      <td>2.012958e+09</td>\n",
       "      <td>ibazos</td>\n",
       "      <td>iNaturalist RG</td>\n",
       "      <td>2019-02-28</td>\n",
       "      <td>59</td>\n",
       "      <td>2019</td>\n",
       "      <td>33.01102</td>\n",
       "      <td>34.64105</td>\n",
       "      <td>6419431.0</td>\n",
       "      <td>1603993.0</td>\n",
       "      <td>14.0</td>\n",
       "      <td>7466</td>\n",
       "      <td>6999966</td>\n",
       "      <td>3979760</td>\n",
       "    </tr>\n",
       "    <tr>\n",
       "      <th>4907728</th>\n",
       "      <td>3996924</td>\n",
       "      <td>1.453474e+09</td>\n",
       "      <td>Quentin Groom</td>\n",
       "      <td>iNaturalist RG</td>\n",
       "      <td>2017-03-02</td>\n",
       "      <td>61</td>\n",
       "      <td>2017</td>\n",
       "      <td>33.00874</td>\n",
       "      <td>34.63644</td>\n",
       "      <td>6419361.0</td>\n",
       "      <td>1603439.0</td>\n",
       "      <td>10.0</td>\n",
       "      <td>7466</td>\n",
       "      <td>6999951</td>\n",
       "      <td>3979745</td>\n",
       "    </tr>\n",
       "    <tr>\n",
       "      <th>4907738</th>\n",
       "      <td>2671178</td>\n",
       "      <td>2.012958e+09</td>\n",
       "      <td>Dariusz Kamiński</td>\n",
       "      <td>iNaturalist RG</td>\n",
       "      <td>2019-02-28</td>\n",
       "      <td>59</td>\n",
       "      <td>2019</td>\n",
       "      <td>33.01018</td>\n",
       "      <td>34.64269</td>\n",
       "      <td>6419311.0</td>\n",
       "      <td>1604145.0</td>\n",
       "      <td>44.0</td>\n",
       "      <td>7466</td>\n",
       "      <td>6999960</td>\n",
       "      <td>3979754</td>\n",
       "    </tr>\n",
       "    <tr>\n",
       "      <th>4907940</th>\n",
       "      <td>85226</td>\n",
       "      <td>2.542881e+09</td>\n",
       "      <td>Stuart Roberts</td>\n",
       "      <td>iNaturalist RG</td>\n",
       "      <td>2019-03-05</td>\n",
       "      <td>64</td>\n",
       "      <td>2019</td>\n",
       "      <td>33.22930</td>\n",
       "      <td>34.70667</td>\n",
       "      <td>6436787.0</td>\n",
       "      <td>1616980.0</td>\n",
       "      <td>5.0</td>\n",
       "      <td>7466</td>\n",
       "      <td>7000153</td>\n",
       "      <td>3979947</td>\n",
       "    </tr>\n",
       "    <tr>\n",
       "      <th>4907910</th>\n",
       "      <td>751218</td>\n",
       "      <td>1.453476e+09</td>\n",
       "      <td>Quentin Groom</td>\n",
       "      <td>iNaturalist RG</td>\n",
       "      <td>2017-03-03</td>\n",
       "      <td>62</td>\n",
       "      <td>2017</td>\n",
       "      <td>33.16861</td>\n",
       "      <td>34.71184</td>\n",
       "      <td>6431300.0</td>\n",
       "      <td>1615860.0</td>\n",
       "      <td>30.0</td>\n",
       "      <td>7466</td>\n",
       "      <td>7000124</td>\n",
       "      <td>3979918</td>\n",
       "    </tr>\n",
       "    <tr>\n",
       "      <th>4908153</th>\n",
       "      <td>4597006</td>\n",
       "      <td>2.235473e+09</td>\n",
       "      <td>Jurga Motiejūnaitė</td>\n",
       "      <td>iNaturalist RG</td>\n",
       "      <td>2019-02-22</td>\n",
       "      <td>53</td>\n",
       "      <td>2019</td>\n",
       "      <td>33.63134</td>\n",
       "      <td>34.89222</td>\n",
       "      <td>6466726.0</td>\n",
       "      <td>1647915.0</td>\n",
       "      <td>38.0</td>\n",
       "      <td>7466</td>\n",
       "      <td>7000364</td>\n",
       "      <td>3980158</td>\n",
       "    </tr>\n",
       "    <tr>\n",
       "      <th>4908256</th>\n",
       "      <td>4785055</td>\n",
       "      <td>1.993737e+09</td>\n",
       "      <td>George Constantinou</td>\n",
       "      <td>iNaturalist RG</td>\n",
       "      <td>2019-02-03</td>\n",
       "      <td>34</td>\n",
       "      <td>2019</td>\n",
       "      <td>34.02145</td>\n",
       "      <td>34.97825</td>\n",
       "      <td>6498313.0</td>\n",
       "      <td>1668073.0</td>\n",
       "      <td>5.0</td>\n",
       "      <td>7466</td>\n",
       "      <td>7000467</td>\n",
       "      <td>3980261</td>\n",
       "    </tr>\n",
       "  </tbody>\n",
       "</table>\n",
       "</div>"
      ],
      "text/plain": [
       "           glcID        gbifID             observer     datasetName  \\\n",
       "4907735  3311172  2.012958e+09            torillomo  iNaturalist RG   \n",
       "4907721  4070871  2.012958e+09               ibazos  iNaturalist RG   \n",
       "4907744  2944033  2.012958e+09               ibazos  iNaturalist RG   \n",
       "4907728  3996924  1.453474e+09        Quentin Groom  iNaturalist RG   \n",
       "4907738  2671178  2.012958e+09     Dariusz Kamiński  iNaturalist RG   \n",
       "4907940    85226  2.542881e+09       Stuart Roberts  iNaturalist RG   \n",
       "4907910   751218  1.453476e+09        Quentin Groom  iNaturalist RG   \n",
       "4908153  4597006  2.235473e+09   Jurga Motiejūnaitė  iNaturalist RG   \n",
       "4908256  4785055  1.993737e+09  George Constantinou  iNaturalist RG   \n",
       "\n",
       "               date  dayOfYear  year       lon       lat  x_EPSG3035  \\\n",
       "4907735  2019-02-28         59  2019  33.01006  34.59289   6420707.0   \n",
       "4907721  2019-02-28         59  2019  33.00674  34.60025   6420207.0   \n",
       "4907744  2019-02-28         59  2019  33.01102  34.64105   6419431.0   \n",
       "4907728  2017-03-02         61  2017  33.00874  34.63644   6419361.0   \n",
       "4907738  2019-02-28         59  2019  33.01018  34.64269   6419311.0   \n",
       "4907940  2019-03-05         64  2019  33.22930  34.70667   6436787.0   \n",
       "4907910  2017-03-03         62  2017  33.16861  34.71184   6431300.0   \n",
       "4908153  2019-02-22         53  2019  33.63134  34.89222   6466726.0   \n",
       "4908256  2019-02-03         34  2019  34.02145  34.97825   6498313.0   \n",
       "\n",
       "         y_EPSG3035  geoUncertaintyInM  speciesId  patchID  timeSerieID  \n",
       "4907735   1598832.0                5.0       7466  6999957      3979751  \n",
       "4907721   1599525.0                9.0       7466  6999944      3979738  \n",
       "4907744   1603993.0               14.0       7466  6999966      3979760  \n",
       "4907728   1603439.0               10.0       7466  6999951      3979745  \n",
       "4907738   1604145.0               44.0       7466  6999960      3979754  \n",
       "4907940   1616980.0                5.0       7466  7000153      3979947  \n",
       "4907910   1615860.0               30.0       7466  7000124      3979918  \n",
       "4908153   1647915.0               38.0       7466  7000364      3980158  \n",
       "4908256   1668073.0                5.0       7466  7000467      3980261  "
      ]
     },
     "execution_count": 11,
     "metadata": {},
     "output_type": "execute_result"
    }
   ],
   "source": [
    "species_thinned_data"
   ]
  },
  {
   "cell_type": "code",
   "execution_count": 30,
   "id": "e5e1d01f-d4cb-4a07-8f52-483c1d09939b",
   "metadata": {
    "execution": {
     "iopub.execute_input": "2024-05-14T12:10:34.533136Z",
     "iopub.status.busy": "2024-05-14T12:10:34.532967Z",
     "iopub.status.idle": "2024-05-14T12:11:45.209984Z",
     "shell.execute_reply": "2024-05-14T12:11:45.209170Z",
     "shell.execute_reply.started": "2024-05-14T12:10:34.533118Z"
    }
   },
   "outputs": [
    {
     "name": "stdout",
     "output_type": "stream",
     "text": [
      "70.42018222808838\n"
     ]
    }
   ],
   "source": [
    "# Extract bioclim_pointwise_europe tensors from all samples using list comprehension\n",
    "data_train.data = data_train.data.sample(100000)\n",
    "timer = time()\n",
    "bioclim_tensors = [sample['bioclim_pointwise_europe'] for sample in data_train]\n",
    "print(time() - timer)\n",
    "coordinates = torch.stack(bioclim_tensors,dim=0)"
   ]
  },
  {
   "cell_type": "code",
   "execution_count": 32,
   "id": "34b93006-f1f7-49a7-9f36-428d6c5f0921",
   "metadata": {
    "execution": {
     "iopub.execute_input": "2024-05-14T12:30:01.010866Z",
     "iopub.status.busy": "2024-05-14T12:30:01.010318Z",
     "iopub.status.idle": "2024-05-14T12:30:01.022042Z",
     "shell.execute_reply": "2024-05-14T12:30:01.021373Z",
     "shell.execute_reply.started": "2024-05-14T12:30:01.010847Z"
    }
   },
   "outputs": [],
   "source": [
    "grid_size=2\n",
    "\n",
    "# Convert point coordinates to the voxel grid coordinates\n",
    "# aixo es una normalització en les tres dimensions\n",
    "coords = torch.round(coordinates / grid_size)\n",
    "\n",
    "# Match each point with a voxel identifier\n",
    "# desfa el 3D i dona només un identifier per voxel (i ens és igual l'ordre)\n",
    "# de cada voxel es queda només amb l'últim punt\n",
    "cluster = grid_cluster(coords, torch.ones(20, device=coords.device))"
   ]
  },
  {
   "cell_type": "code",
   "execution_count": 33,
   "id": "76f976bb-e7c0-45bf-b55f-f90ce52b1297",
   "metadata": {
    "execution": {
     "iopub.execute_input": "2024-05-14T12:31:25.722059Z",
     "iopub.status.busy": "2024-05-14T12:31:25.721876Z",
     "iopub.status.idle": "2024-05-14T12:31:26.444112Z",
     "shell.execute_reply": "2024-05-14T12:31:26.443325Z",
     "shell.execute_reply.started": "2024-05-14T12:31:25.722041Z"
    }
   },
   "outputs": [],
   "source": [
    "# Reindex the clusters to make sure the indices used are\n",
    "# consecutive. Basically, we do not want cluster indices to span\n",
    "# [0, i_max] without all in-between indices to be used, because\n",
    "# this will affect the speed and output size of torch_scatter\n",
    "# operations\n",
    "cluster, unique_pos_indices = consecutive_cluster(cluster)\n",
    "\n",
    "cluster_unique_counts = cluster.unique(return_counts=True)[1]\n",
    "\n",
    "cluster_ordered_counts = [cluster_unique_counts[i].item() for i in cluster]"
   ]
  },
  {
   "cell_type": "code",
   "execution_count": null,
   "id": "3bc0bb82-7e5d-467c-9edd-e45dff4088ee",
   "metadata": {},
   "outputs": [],
   "source": [
    "# Use unique_pos_indices to pick values from a single point\n",
    "# within each cluster\n",
    "#xyz = xyz[unique_pos_indices]\n",
    "\n",
    "return unique_pos_indices, cluster_ordered_counts"
   ]
  },
  {
   "cell_type": "code",
   "execution_count": null,
   "id": "2c5aac5c-64ab-4444-853b-78321f5ed71c",
   "metadata": {},
   "outputs": [],
   "source": [
    "# Apply grid sampling\n",
    "sampler = GridSampling3D(grid_size)\n",
    "sampled_data_indices, cluster_density = sampler(coordinates)\n",
    "\n",
    "#data[\"cluster_density\"] = cluster_density\n",
    "sampled_data = data.iloc[sampled_data_indices].copy()"
   ]
  },
  {
   "cell_type": "code",
   "execution_count": 14,
   "id": "4b4181a4-4764-40ec-9df4-a9fadc9fae39",
   "metadata": {
    "execution": {
     "iopub.execute_input": "2024-05-14T10:28:36.200317Z",
     "iopub.status.busy": "2024-05-14T10:28:36.199771Z",
     "iopub.status.idle": "2024-05-14T10:28:36.205691Z",
     "shell.execute_reply": "2024-05-14T10:28:36.205038Z",
     "shell.execute_reply.started": "2024-05-14T10:28:36.200295Z"
    }
   },
   "outputs": [],
   "source": [
    "# Extract longitude and latitude from the DataFrame\n",
    "lon = data_train.data['lon'].values\n",
    "lat = data_train.data['lat'].values\n",
    "\n",
    "# Convert spherical coordinates to Cartesian coordinates\n",
    "x, y, z = spherical_to_cartesian(lon, lat, radius_earth=6731)\n",
    "coordinates = torch.stack(\n",
    "    [torch.tensor(x), torch.tensor(y), torch.tensor(z)],\n",
    "    dim=1\n",
    ")"
   ]
  },
  {
   "cell_type": "code",
   "execution_count": null,
   "id": "8ebfd65d-1546-49ef-8bb3-45119ff109fa",
   "metadata": {},
   "outputs": [],
   "source": [
    "class GridSampling3D:\n",
    "    \"\"\" Clusters 3D points into voxels with size :attr:`size`.\n",
    "\n",
    "    By default, only the last-encountered element of each voxel will be\n",
    "    kept.\n",
    "\n",
    "    Parameters\n",
    "    ----------\n",
    "    size: float\n",
    "        Size of a voxel (in each dimension).\n",
    "    shuffle: bool\n",
    "        Whether the data should be shuffled before the voxelization.\n",
    "        Keep to False for deterministic results.\n",
    "    \"\"\"\n",
    "\n",
    "    def __init__(self, size, shuffle=False):\n",
    "        self.grid_size = size\n",
    "        # shuffle to avoid that the same point is picked every time I run the script\n",
    "        self.shuffle = shuffle\n",
    "\n",
    "    @property\n",
    "    def _repr_dict(self):\n",
    "        return {k: v for k, v in self.__dict__.items()}\n",
    "\n",
    "    def __repr__(self):\n",
    "        attr_repr = ', '.join([f'{k}={v}' for k, v in self._repr_dict.items()])\n",
    "        return f'{self.__class__.__name__}({attr_repr})'\n",
    "\n",
    "    def __call__(self, xyz):\n",
    "        # If 'shuffle' is True, shuffle the points order.\n",
    "        # Note that voxelization of point attributes will be stochastic\n",
    "        if self.shuffle:\n",
    "            idx = torch.randperm(xyz.shape[0], device=xyz.device)\n",
    "            xyz = xyz[idx]\n",
    "\n",
    "        # Convert point coordinates to the voxel grid coordinates\n",
    "        # aixo  es una normalització en les tres dimensions\n",
    "        coords = torch.round(xyz / self.grid_size)\n",
    "\n",
    "        # Match each point with a voxel identifier\n",
    "        # desfa el 3D i dona només un identifier per voxel (i ens és igual l'ordre)\n",
    "        # de cada voxel es queda només amb l'últim punt\n",
    "        cluster = grid_cluster(coords, torch.ones(3, device=coords.device))\n",
    "\n",
    "        # Reindex the clusters to make sure the indices used are\n",
    "        # consecutive. Basically, we do not want cluster indices to span\n",
    "        # [0, i_max] without all in-between indices to be used, because\n",
    "        # this will affect the speed and output size of torch_scatter\n",
    "        # operations\n",
    "        cluster, unique_pos_indices = consecutive_cluster(cluster)\n",
    "        \n",
    "        cluster_unique_counts = cluster.unique(return_counts=True)[1]\n",
    "\n",
    "        cluster_ordered_counts = [cluster_unique_counts[i].item() for i in cluster]\n",
    "\n",
    "        # Use unique_pos_indices to pick values from a single point\n",
    "        # within each cluster\n",
    "        #xyz = xyz[unique_pos_indices]\n",
    "\n",
    "        return unique_pos_indices, cluster_ordered_counts"
   ]
  },
  {
   "cell_type": "code",
   "execution_count": null,
   "id": "e8e28b01-c855-499b-b71f-7f27648dc227",
   "metadata": {},
   "outputs": [],
   "source": [
    "def spherical_to_cartesian(lon, lat, radius_earth):\n",
    "    lon_rad = np.deg2rad(lon)\n",
    "    lat_rad = np.deg2rad(lat)\n",
    "    \n",
    "    x = radius_earth * np.cos(lat_rad) * np.cos(lon_rad)\n",
    "    y = radius_earth * np.cos(lat_rad) * np.sin(lon_rad)\n",
    "    z = radius_earth * np.sin(lat_rad)\n",
    "    \n",
    "    return x, y, z\n",
    "\n",
    "def sample_data(data, grid_size, radius_earth=6371):\n",
    "    # Load the dataset using pd.read_csv()\n",
    "    #dataset = pd.read_csv(csv_file, sep=\";\")\n",
    "    #data = dataset[dataset[\"speciesid\"]==speciesid].copy()\n",
    "    \n",
    "    # Extract longitude and latitude from the DataFrame\n",
    "    lon = data['lon'].values\n",
    "    lat = data['lat'].values\n",
    "    \n",
    "    # Convert spherical coordinates to Cartesian coordinates\n",
    "    x, y, z = spherical_to_cartesian(lon, lat, radius_earth)\n",
    "    coordinates = torch.stack(\n",
    "        [torch.tensor(x), torch.tensor(y), torch.tensor(z)],\n",
    "        dim=1\n",
    "    )\n",
    "    \n",
    "    # Apply grid sampling\n",
    "    sampler = GridSampling3D(grid_size)\n",
    "    sampled_data_indices, cluster_density = sampler(coordinates)\n",
    "    \n",
    "    #data[\"cluster_density\"] = cluster_density\n",
    "    sampled_data = data.iloc[sampled_data_indices].copy()\n",
    "\n",
    "    return sampled_data, cluster_density"
   ]
  },
  {
   "cell_type": "code",
   "execution_count": null,
   "id": "0f608106-0c46-49f9-9a7c-0af2986d578e",
   "metadata": {
    "execution": {
     "iopub.status.busy": "2024-05-14T10:24:45.176592Z",
     "iopub.status.idle": "2024-05-14T10:24:45.177138Z",
     "shell.execute_reply": "2024-05-14T10:24:45.177030Z",
     "shell.execute_reply.started": "2024-05-14T10:24:45.177018Z"
    }
   },
   "outputs": [],
   "source": [
    "bioclim_tenros"
   ]
  },
  {
   "cell_type": "code",
   "execution_count": null,
   "id": "5d8fd23a-e4b2-48bd-9d6b-00eab6f6f4ef",
   "metadata": {},
   "outputs": [],
   "source": [
    "def sample_data(data, grid_size, radius_earth=6371):\n",
    "    # Load the dataset using pd.read_csv()\n",
    "    #dataset = pd.read_csv(csv_file, sep=\";\")\n",
    "    #data = dataset[dataset[\"speciesid\"]==speciesid].copy()\n",
    "    \n",
    "    # Extract longitude and latitude from the DataFrame\n",
    "    lon = data['lon'].values\n",
    "    lat = data['lat'].values\n",
    "    \n",
    "    # Convert spherical coordinates to Cartesian coordinates\n",
    "    x, y, z = spherical_to_cartesian(lon, lat, radius_earth)\n",
    "    coordinates = torch.stack(\n",
    "        [torch.tensor(x), torch.tensor(y), torch.tensor(z)],\n",
    "        dim=1\n",
    "    )\n",
    "    \n",
    "    # Apply grid sampling\n",
    "    sampler = GridSampling3D(grid_size)\n",
    "    sampled_data_indices, cluster_density = sampler(coordinates)\n",
    "    \n",
    "    #data[\"cluster_density\"] = cluster_density\n",
    "    sampled_data = data.iloc[sampled_data_indices].copy()\n",
    "\n",
    "    return sampled_data, cluster_density"
   ]
  },
  {
   "cell_type": "code",
   "execution_count": 25,
   "id": "352b4f97-7fe6-4357-abc9-d0f021fa6d2a",
   "metadata": {
    "execution": {
     "iopub.execute_input": "2024-05-14T09:59:55.083258Z",
     "iopub.status.busy": "2024-05-14T09:59:55.082822Z",
     "iopub.status.idle": "2024-05-14T09:59:55.089841Z",
     "shell.execute_reply": "2024-05-14T09:59:55.089316Z",
     "shell.execute_reply.started": "2024-05-14T09:59:55.083234Z"
    }
   },
   "outputs": [
    {
     "data": {
      "text/plain": [
       "{'loc_cyclical_europe': tensor([-10.5390,  51.7719]),\n",
       " 'bioclim_pointwise_europe': tensor([ 0.0000,  0.0000,  0.0000,  0.0000,  0.0000,  0.0000,  0.0000,  0.0000,\n",
       "          0.0000,  0.0000,  0.0000,  0.0000,  0.0000,  0.0000,  0.0000, -0.8979,\n",
       "          0.0000,  0.0000,  0.0000,  0.0000], dtype=torch.float16),\n",
       " 'y': tensor([0., 0., 0.,  ..., 0., 0., 0.])}"
      ]
     },
     "execution_count": 25,
     "metadata": {},
     "output_type": "execute_result"
    }
   ],
   "source": [
    "data_train[0]"
   ]
  },
  {
   "cell_type": "code",
   "execution_count": 9,
   "id": "6ae676bc-a1c3-4840-bcbb-dbaea06dd48a",
   "metadata": {
    "execution": {
     "iopub.execute_input": "2024-05-14T09:40:02.887330Z",
     "iopub.status.busy": "2024-05-14T09:40:02.886877Z",
     "iopub.status.idle": "2024-05-14T09:40:02.890094Z",
     "shell.execute_reply": "2024-05-14T09:40:02.889499Z",
     "shell.execute_reply.started": "2024-05-14T09:40:02.887307Z"
    }
   },
   "outputs": [],
   "source": [
    "df = data_train.data\n",
    "speciesid=1995\n",
    "species_data = df.loc[df[\"speciesId\"]==speciesid].copy()"
   ]
  },
  {
   "cell_type": "code",
   "execution_count": 10,
   "id": "f9891fd2-95c9-44f5-acef-519dd95214f8",
   "metadata": {
    "execution": {
     "iopub.execute_input": "2024-05-14T09:40:06.163343Z",
     "iopub.status.busy": "2024-05-14T09:40:06.162900Z",
     "iopub.status.idle": "2024-05-14T09:40:06.168142Z",
     "shell.execute_reply": "2024-05-14T09:40:06.167576Z",
     "shell.execute_reply.started": "2024-05-14T09:40:06.163321Z"
    }
   },
   "outputs": [
    {
     "ename": "IndentationError",
     "evalue": "unexpected indent (3637149299.py, line 2)",
     "output_type": "error",
     "traceback": [
      "\u001b[0;36m  Cell \u001b[0;32mIn[10], line 2\u001b[0;36m\u001b[0m\n\u001b[0;31m    species_thinned_data, cluster_density = sample_data(\u001b[0m\n\u001b[0m    ^\u001b[0m\n\u001b[0;31mIndentationError\u001b[0m\u001b[0;31m:\u001b[0m unexpected indent\n"
     ]
    }
   ],
   "source": [
    "species_thinned_data, cluster_density = sample_data(\n",
    "    species_data,\n",
    "    thin_dist=1\n",
    ")"
   ]
  },
  {
   "cell_type": "code",
   "execution_count": null,
   "id": "03b1fa4b-d3a5-44e2-8c38-1fe6015b0daa",
   "metadata": {},
   "outputs": [],
   "source": [
    "data_train.data, _ = thin_all_species(\n",
    "    df=data_train.data, \n",
    "    thin_dist=1\n",
    "    )"
   ]
  },
  {
   "cell_type": "code",
   "execution_count": 4,
   "id": "61659f9d-bbfd-4c9a-bca0-b733de30b84e",
   "metadata": {
    "execution": {
     "iopub.execute_input": "2024-05-17T14:22:42.268148Z",
     "iopub.status.busy": "2024-05-17T14:22:42.267724Z",
     "iopub.status.idle": "2024-05-17T14:22:53.033113Z",
     "shell.execute_reply": "2024-05-17T14:22:53.032325Z",
     "shell.execute_reply.started": "2024-05-17T14:22:42.268122Z"
    }
   },
   "outputs": [],
   "source": [
    "path = \"./data/bioclim_thinned\"\n",
    "t001 = pd.read_csv(f\"{path}/dist_0.01.csv\", sep=\";\")\n",
    "t01 = pd.read_csv(f\"{path}/dist_0.1.csv\", sep=\";\")\n",
    "t1 = pd.read_csv(f\"{path}/dist_1.csv\", sep=\";\")"
   ]
  },
  {
   "cell_type": "code",
   "execution_count": 5,
   "id": "ac62af1c-4b57-45c0-91e3-80edf244da79",
   "metadata": {
    "execution": {
     "iopub.execute_input": "2024-05-17T14:22:53.052194Z",
     "iopub.status.busy": "2024-05-17T14:22:53.052000Z",
     "iopub.status.idle": "2024-05-17T14:22:53.076458Z",
     "shell.execute_reply": "2024-05-17T14:22:53.075796Z",
     "shell.execute_reply.started": "2024-05-17T14:22:53.052173Z"
    }
   },
   "outputs": [
    {
     "data": {
      "text/plain": [
       "822"
      ]
     },
     "execution_count": 5,
     "metadata": {},
     "output_type": "execute_result"
    }
   ],
   "source": [
    "t001[\"speciesId\"].nunique()"
   ]
  },
  {
   "cell_type": "code",
   "execution_count": null,
   "id": "f455a5ee-ff34-4c06-8bc7-624b841aa375",
   "metadata": {},
   "outputs": [],
   "source": []
  },
  {
   "cell_type": "code",
   "execution_count": 7,
   "id": "1fad8487-dceb-4eeb-960b-da763dbca696",
   "metadata": {
    "execution": {
     "iopub.execute_input": "2024-05-17T14:23:27.798320Z",
     "iopub.status.busy": "2024-05-17T14:23:27.797854Z",
     "iopub.status.idle": "2024-05-17T14:23:33.696520Z",
     "shell.execute_reply": "2024-05-17T14:23:33.695723Z",
     "shell.execute_reply.started": "2024-05-17T14:23:27.798298Z"
    }
   },
   "outputs": [],
   "source": [
    "po_dataset_path = \"/shares/wegner.ics.uzh/glc23_data/Presences_only_train.csv\"\n",
    "po_dataset = pd.read_csv(po_dataset_path, sep=\";\")"
   ]
  },
  {
   "cell_type": "code",
   "execution_count": 8,
   "id": "c0ea277c-29ee-4b23-9728-10d7b8ae90c8",
   "metadata": {
    "execution": {
     "iopub.execute_input": "2024-05-17T14:23:33.706732Z",
     "iopub.status.busy": "2024-05-17T14:23:33.706557Z",
     "iopub.status.idle": "2024-05-17T14:23:34.069875Z",
     "shell.execute_reply": "2024-05-17T14:23:34.069042Z",
     "shell.execute_reply.started": "2024-05-17T14:23:33.706714Z"
    }
   },
   "outputs": [],
   "source": [
    "species_counts = po_dataset[\"speciesId\"].value_counts()\n",
    "filtered_species = species_counts\\\n",
    "    [species_counts >= 10].index.tolist()\n",
    "filtered_po_dataset = po_dataset\\\n",
    "    [po_dataset[\"speciesId\"].isin(filtered_species)]"
   ]
  },
  {
   "cell_type": "code",
   "execution_count": 11,
   "id": "7e2f49dc-075f-4c58-8663-1f2ae256b120",
   "metadata": {
    "execution": {
     "iopub.execute_input": "2024-05-17T14:25:40.389487Z",
     "iopub.status.busy": "2024-05-17T14:25:40.389048Z",
     "iopub.status.idle": "2024-05-17T14:25:40.469590Z",
     "shell.execute_reply": "2024-05-17T14:25:40.468893Z",
     "shell.execute_reply.started": "2024-05-17T14:25:40.389461Z"
    }
   },
   "outputs": [
    {
     "data": {
      "text/plain": [
       "speciesId\n",
       "1995    4548\n",
       "729     4547\n",
       "8101    4547\n",
       "4933    4547\n",
       "7047    4546\n",
       "        ... \n",
       "9232      10\n",
       "8674      10\n",
       "5708      10\n",
       "4005      10\n",
       "7466      10\n",
       "Name: count, Length: 5697, dtype: int64"
      ]
     },
     "execution_count": 11,
     "metadata": {},
     "output_type": "execute_result"
    }
   ],
   "source": [
    "filtered_po_dataset[\"speciesId\"].value_counts()"
   ]
  },
  {
   "cell_type": "code",
   "execution_count": 12,
   "id": "2206f2fd-57cc-46f1-81b7-ca88a5c50431",
   "metadata": {
    "execution": {
     "iopub.execute_input": "2024-05-17T14:26:01.139645Z",
     "iopub.status.busy": "2024-05-17T14:26:01.139242Z",
     "iopub.status.idle": "2024-05-17T14:26:01.156237Z",
     "shell.execute_reply": "2024-05-17T14:26:01.155487Z",
     "shell.execute_reply.started": "2024-05-17T14:26:01.139622Z"
    }
   },
   "outputs": [
    {
     "data": {
      "text/html": [
       "<div>\n",
       "<style scoped>\n",
       "    .dataframe tbody tr th:only-of-type {\n",
       "        vertical-align: middle;\n",
       "    }\n",
       "\n",
       "    .dataframe tbody tr th {\n",
       "        vertical-align: top;\n",
       "    }\n",
       "\n",
       "    .dataframe thead th {\n",
       "        text-align: right;\n",
       "    }\n",
       "</style>\n",
       "<table border=\"1\" class=\"dataframe\">\n",
       "  <thead>\n",
       "    <tr style=\"text-align: right;\">\n",
       "      <th></th>\n",
       "      <th>glcID</th>\n",
       "      <th>gbifID</th>\n",
       "      <th>observer</th>\n",
       "      <th>datasetName</th>\n",
       "      <th>date</th>\n",
       "      <th>dayOfYear</th>\n",
       "      <th>year</th>\n",
       "      <th>lon</th>\n",
       "      <th>lat</th>\n",
       "      <th>x_EPSG3035</th>\n",
       "      <th>y_EPSG3035</th>\n",
       "      <th>geoUncertaintyInM</th>\n",
       "      <th>speciesId</th>\n",
       "      <th>patchID</th>\n",
       "      <th>timeSerieID</th>\n",
       "    </tr>\n",
       "  </thead>\n",
       "  <tbody>\n",
       "  </tbody>\n",
       "</table>\n",
       "</div>"
      ],
      "text/plain": [
       "Empty DataFrame\n",
       "Columns: [glcID, gbifID, observer, datasetName, date, dayOfYear, year, lon, lat, x_EPSG3035, y_EPSG3035, geoUncertaintyInM, speciesId, patchID, timeSerieID]\n",
       "Index: []"
      ]
     },
     "execution_count": 12,
     "metadata": {},
     "output_type": "execute_result"
    }
   ],
   "source": [
    "t01.loc[t01[\"speciesId\"]==7466]"
   ]
  },
  {
   "cell_type": "code",
   "execution_count": 33,
   "id": "a780d673-0027-46b9-915b-09f6358e7805",
   "metadata": {
    "execution": {
     "iopub.execute_input": "2024-05-17T13:03:10.905978Z",
     "iopub.status.busy": "2024-05-17T13:03:10.905429Z",
     "iopub.status.idle": "2024-05-17T13:03:11.284842Z",
     "shell.execute_reply": "2024-05-17T13:03:11.284042Z",
     "shell.execute_reply.started": "2024-05-17T13:03:10.905951Z"
    }
   },
   "outputs": [
    {
     "data": {
      "image/png": "[encoded data removed]",
      "text/plain": [
       "<Figure size 1400x700 with 1 Axes>"
      ]
     },
     "metadata": {},
     "output_type": "display_data"
    }
   ],
   "source": [
    "import pandas as pd\n",
    "import matplotlib.pyplot as plt\n",
    "\n",
    "# Assuming po_dataset, t01, t001, and t1 are already defined and loaded DataFrames\n",
    "\n",
    "# Define bins and labels\n",
    "bins = [0, 10, 20, 60, 100, 500, 1000, 5000]\n",
    "labels = [f'{start}-{end}' for start, end in zip(bins[:-1], bins[1:])]\n",
    "\n",
    "# List of datasets with their names\n",
    "datasets = {\n",
    "    'po_dataset': po_dataset,\n",
    "    't001': t001,\n",
    "    't01': t01,\n",
    "    't1': t1\n",
    "}\n",
    "\n",
    "# Dictionary to hold the value counts for each dataset\n",
    "value_counts_dict = {}\n",
    "\n",
    "# Calculate value counts for each dataset and bin them\n",
    "for name, dataset in datasets.items():\n",
    "    species_counts = dataset[\"speciesId\"].value_counts()\n",
    "    grouped_species_ids = pd.cut(species_counts, bins=bins, labels=labels)\n",
    "    value_counts_dict[name] = grouped_species_ids.value_counts().sort_index()\n",
    "\n",
    "# Create a DataFrame for plotting\n",
    "df = pd.DataFrame(value_counts_dict)\n",
    "\n",
    "# Plot the data\n",
    "ax = df.plot(kind=\"bar\", width=0.8, figsize=(14, 7))\n",
    "\n",
    "# Set labels and title\n",
    "ax.set_xlabel('Species Count Bins')\n",
    "ax.set_ylabel('Number of Species')\n",
    "ax.set_title('Species Distribution in Binned Counts')\n",
    "\n",
    "# Show plot\n",
    "plt.show()"
   ]
  },
  {
   "cell_type": "code",
   "execution_count": 36,
   "id": "5c1d639b-fcc8-4567-bce8-9a507d70e2e7",
   "metadata": {
    "execution": {
     "iopub.execute_input": "2024-05-17T13:10:00.429789Z",
     "iopub.status.busy": "2024-05-17T13:10:00.428959Z",
     "iopub.status.idle": "2024-05-17T13:10:00.562941Z",
     "shell.execute_reply": "2024-05-17T13:10:00.562396Z",
     "shell.execute_reply.started": "2024-05-17T13:10:00.429736Z"
    }
   },
   "outputs": [
    {
     "data": {
      "text/plain": [
       "822"
      ]
     },
     "execution_count": 36,
     "metadata": {},
     "output_type": "execute_result"
    }
   ],
   "source": [
    "len(set(t1[\"speciesId\"]))"
   ]
  },
  {
   "cell_type": "code",
   "execution_count": 35,
   "id": "e4405aeb-b20d-4129-aa05-dc02b8e67713",
   "metadata": {
    "execution": {
     "iopub.execute_input": "2024-05-17T13:09:56.729799Z",
     "iopub.status.busy": "2024-05-17T13:09:56.729146Z",
     "iopub.status.idle": "2024-05-17T13:09:57.055325Z",
     "shell.execute_reply": "2024-05-17T13:09:57.054599Z",
     "shell.execute_reply.started": "2024-05-17T13:09:56.729773Z"
    }
   },
   "outputs": [
    {
     "data": {
      "text/plain": [
       "822"
      ]
     },
     "execution_count": 35,
     "metadata": {},
     "output_type": "execute_result"
    }
   ],
   "source": [
    "len(set(t001[\"speciesId\"]))"
   ]
  },
  {
   "cell_type": "code",
   "execution_count": 37,
   "id": "9f6dab7b-a516-433a-969d-9b6ae7b55ed9",
   "metadata": {
    "execution": {
     "iopub.execute_input": "2024-05-17T13:10:05.047628Z",
     "iopub.status.busy": "2024-05-17T13:10:05.047137Z",
     "iopub.status.idle": "2024-05-17T13:10:05.336365Z",
     "shell.execute_reply": "2024-05-17T13:10:05.335816Z",
     "shell.execute_reply.started": "2024-05-17T13:10:05.047603Z"
    }
   },
   "outputs": [
    {
     "data": {
      "text/plain": [
       "822"
      ]
     },
     "execution_count": 37,
     "metadata": {},
     "output_type": "execute_result"
    }
   ],
   "source": [
    "len(set(t01[\"speciesId\"]))"
   ]
  },
  {
   "cell_type": "code",
   "execution_count": null,
   "id": "c121c84e-0a85-4254-80bb-9856fd15c3f1",
   "metadata": {},
   "outputs": [],
   "source": []
  },
  {
   "cell_type": "code",
   "execution_count": null,
   "id": "39498e7e-0c9b-4d88-86f7-53b5efa56807",
   "metadata": {},
   "outputs": [],
   "source": [
    "len(set)"
   ]
  },
  {
   "cell_type": "code",
   "execution_count": 40,
   "id": "e7feb8c6-f779-4f86-8ea4-428f833824f6",
   "metadata": {
    "execution": {
     "iopub.execute_input": "2024-05-17T13:12:10.940790Z",
     "iopub.status.busy": "2024-05-17T13:12:10.940291Z",
     "iopub.status.idle": "2024-05-17T13:12:10.945222Z",
     "shell.execute_reply": "2024-05-17T13:12:10.944481Z",
     "shell.execute_reply.started": "2024-05-17T13:12:10.940766Z"
    }
   },
   "outputs": [
    {
     "data": {
      "text/plain": [
       "3929837"
      ]
     },
     "execution_count": 40,
     "metadata": {},
     "output_type": "execute_result"
    }
   ],
   "source": [
    "len(t01)"
   ]
  },
  {
   "cell_type": "code",
   "execution_count": 39,
   "id": "ac37693c-f400-4000-afeb-a33080ec1865",
   "metadata": {
    "execution": {
     "iopub.execute_input": "2024-05-17T13:12:04.159823Z",
     "iopub.status.busy": "2024-05-17T13:12:04.159331Z",
     "iopub.status.idle": "2024-05-17T13:12:04.163590Z",
     "shell.execute_reply": "2024-05-17T13:12:04.163132Z",
     "shell.execute_reply.started": "2024-05-17T13:12:04.159799Z"
    }
   },
   "outputs": [
    {
     "data": {
      "text/plain": [
       "1765640"
      ]
     },
     "execution_count": 39,
     "metadata": {},
     "output_type": "execute_result"
    }
   ],
   "source": [
    "len(t1)"
   ]
  },
  {
   "cell_type": "code",
   "execution_count": 12,
   "id": "9146f21c-e16e-482c-8f49-155c270489d7",
   "metadata": {
    "execution": {
     "iopub.execute_input": "2024-05-17T14:12:58.184222Z",
     "iopub.status.busy": "2024-05-17T14:12:58.183643Z",
     "iopub.status.idle": "2024-05-17T14:12:58.551508Z",
     "shell.execute_reply": "2024-05-17T14:12:58.550997Z",
     "shell.execute_reply.started": "2024-05-17T14:12:58.184200Z"
    }
   },
   "outputs": [
    {
     "data": {
      "text/plain": [
       "<Axes: xlabel='count'>"
      ]
     },
     "execution_count": 12,
     "metadata": {},
     "output_type": "execute_result"
    },
    {
     "data": {
      "image/png": "[encoded data removed]",
      "text/plain": [
       "<Figure size 640x480 with 1 Axes>"
      ]
     },
     "metadata": {},
     "output_type": "display_data"
    }
   ],
   "source": [
    "bins = [0, 10, 20, 60, 100, 500, 1000, 5000]\n",
    "species_counts = t01[\"speciesId\"].value_counts()\n",
    "grouped_species_ids = pd.cut(species_counts, bins=bins, labels=[f'{start}-{end}' for start, end in zip(bins[:-1], bins[1:])])\n",
    "grouped_species_ids.value_counts().sort_index().plot(kind=\"bar\")"
   ]
  },
  {
   "cell_type": "code",
   "execution_count": 13,
   "id": "d8ef71af-2c92-45b4-9b75-36d3c8cf7b41",
   "metadata": {
    "execution": {
     "iopub.execute_input": "2024-05-17T14:13:01.324061Z",
     "iopub.status.busy": "2024-05-17T14:13:01.323563Z",
     "iopub.status.idle": "2024-05-17T14:13:01.331914Z",
     "shell.execute_reply": "2024-05-17T14:13:01.331389Z",
     "shell.execute_reply.started": "2024-05-17T14:13:01.324036Z"
    }
   },
   "outputs": [
    {
     "data": {
      "text/plain": [
       "count\n",
       "0-10           0\n",
       "10-20          0\n",
       "20-60          0\n",
       "60-100         1\n",
       "100-500       62\n",
       "500-1000     210\n",
       "1000-5000    375\n",
       "Name: count, dtype: int64"
      ]
     },
     "execution_count": 13,
     "metadata": {},
     "output_type": "execute_result"
    }
   ],
   "source": [
    "grouped_species_ids.value_counts().sort_index()"
   ]
  },
  {
   "cell_type": "code",
   "execution_count": 16,
   "id": "3df83ca8-b43d-4f4e-88b8-c2485e27534c",
   "metadata": {
    "execution": {
     "iopub.execute_input": "2024-05-17T14:16:10.847579Z",
     "iopub.status.busy": "2024-05-17T14:16:10.846985Z",
     "iopub.status.idle": "2024-05-17T14:16:11.309432Z",
     "shell.execute_reply": "2024-05-17T14:16:11.308871Z",
     "shell.execute_reply.started": "2024-05-17T14:16:10.847556Z"
    }
   },
   "outputs": [
    {
     "data": {
      "text/plain": [
       "822"
      ]
     },
     "execution_count": 16,
     "metadata": {},
     "output_type": "execute_result"
    }
   ],
   "source": [
    "len(set(t1[\"speciesId\"]).intersection(set(t001[\"speciesId\"])))"
   ]
  },
  {
   "cell_type": "code",
   "execution_count": 51,
   "id": "4f28350a-49c8-4987-a0c1-016bf6075956",
   "metadata": {
    "execution": {
     "iopub.execute_input": "2024-05-17T14:04:26.409370Z",
     "iopub.status.busy": "2024-05-17T14:04:26.408853Z",
     "iopub.status.idle": "2024-05-17T14:04:29.474613Z",
     "shell.execute_reply": "2024-05-17T14:04:29.473768Z",
     "shell.execute_reply.started": "2024-05-17T14:04:26.409345Z"
    }
   },
   "outputs": [],
   "source": [
    "path = \"/shares/wegner.ics.uzh/glc23_data/thinned_data/thin_all/dist_3000.csv\"\n",
    "t = pd.read_csv(path, sep=\";\")"
   ]
  },
  {
   "cell_type": "code",
   "execution_count": 52,
   "id": "641ffdfd-2846-4771-a2a2-43b4e54c68be",
   "metadata": {
    "execution": {
     "iopub.execute_input": "2024-05-17T14:04:37.105539Z",
     "iopub.status.busy": "2024-05-17T14:04:37.104932Z",
     "iopub.status.idle": "2024-05-17T14:04:37.122651Z",
     "shell.execute_reply": "2024-05-17T14:04:37.121957Z",
     "shell.execute_reply.started": "2024-05-17T14:04:37.105515Z"
    }
   },
   "outputs": [
    {
     "data": {
      "text/plain": [
       "10038"
      ]
     },
     "execution_count": 52,
     "metadata": {},
     "output_type": "execute_result"
    }
   ],
   "source": [
    "t[\"speciesId\"].nunique()"
   ]
  },
  {
   "cell_type": "code",
   "execution_count": 6,
   "id": "1a6ad565-a960-40ed-bb49-c46125ff0202",
   "metadata": {
    "execution": {
     "iopub.execute_input": "2024-05-17T14:07:12.234351Z",
     "iopub.status.busy": "2024-05-17T14:07:12.233721Z",
     "iopub.status.idle": "2024-05-17T14:07:12.265011Z",
     "shell.execute_reply": "2024-05-17T14:07:12.264318Z",
     "shell.execute_reply.started": "2024-05-17T14:07:12.234326Z"
    }
   },
   "outputs": [
    {
     "data": {
      "text/plain": [
       "10038"
      ]
     },
     "execution_count": 6,
     "metadata": {},
     "output_type": "execute_result"
    }
   ],
   "source": [
    "po_dataset[\"speciesId\"].nunique()"
   ]
  },
  {
   "cell_type": "code",
   "execution_count": 10,
   "id": "3ddb7a91-7a19-4ffb-9936-573c9293d12d",
   "metadata": {
    "execution": {
     "iopub.execute_input": "2024-05-17T14:08:38.770861Z",
     "iopub.status.busy": "2024-05-17T14:08:38.770244Z",
     "iopub.status.idle": "2024-05-17T14:08:38.798432Z",
     "shell.execute_reply": "2024-05-17T14:08:38.797762Z",
     "shell.execute_reply.started": "2024-05-17T14:08:38.770837Z"
    }
   },
   "outputs": [
    {
     "data": {
      "text/plain": [
       "5697"
      ]
     },
     "execution_count": 10,
     "metadata": {},
     "output_type": "execute_result"
    }
   ],
   "source": [
    "filtered_po_dataset[\"speciesId\"].nunique()"
   ]
  },
  {
   "cell_type": "code",
   "execution_count": null,
   "id": "b369df32-316c-43a1-a4a8-a1f1d2ac92b8",
   "metadata": {},
   "outputs": [],
   "source": []
  }
 ],
 "metadata": {
  "kernelspec": {
   "display_name": "sdm_sandbox",
   "language": "python",
   "name": "sdm_sandbox"
  },
  "language_info": {
   "codemirror_mode": {
    "name": "ipython",
    "version": 3
   },
   "file_extension": ".py",
   "mimetype": "text/x-python",
   "name": "python",
   "nbconvert_exporter": "python",
   "pygments_lexer": "ipython3",
   "version": "3.9.18"
  }
 },
 "nbformat": 4,
 "nbformat_minor": 5
}
