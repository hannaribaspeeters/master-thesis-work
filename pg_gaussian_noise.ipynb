{
 "cells": [
  {
   "cell_type": "code",
   "execution_count": 1,
   "id": "03b18a8b-3bdf-40ef-a66b-4cee4300ec15",
   "metadata": {
    "execution": {
     "iopub.execute_input": "2024-05-10T07:07:16.596880Z",
     "iopub.status.busy": "2024-05-10T07:07:16.596459Z",
     "iopub.status.idle": "2024-05-10T07:07:23.241447Z",
     "shell.execute_reply": "2024-05-10T07:07:23.240773Z",
     "shell.execute_reply.started": "2024-05-10T07:07:16.596860Z"
    }
   },
   "outputs": [],
   "source": [
    "from src.data.datasets.glc_po import GLCPODataset\n",
    "from src.data.predictors.point_bioclim import PointwiseBioclimEuropePredictor\n",
    "from src.data.predictors.loc import LocationPredictor\n",
    "import numpy as np\n",
    "import torch\n",
    "import pandas as pd\n",
    "from src.data.predictors.point_bioclim import PointwiseBioclimEuropePredictor\n",
    "from src.data.predictors.loc import LocationPredictor\n",
    "import torch"
   ]
  },
  {
   "cell_type": "code",
   "execution_count": 2,
   "id": "b7d1dc3c-d4df-41b0-b984-33ac084b4cfa",
   "metadata": {
    "execution": {
     "iopub.execute_input": "2024-05-10T07:08:24.732068Z",
     "iopub.status.busy": "2024-05-10T07:08:24.730761Z",
     "iopub.status.idle": "2024-05-10T07:08:25.561401Z",
     "shell.execute_reply": "2024-05-10T07:08:25.560729Z",
     "shell.execute_reply.started": "2024-05-10T07:08:24.732039Z"
    }
   },
   "outputs": [],
   "source": [
    "bioclim_path = \"/shares/wegner.ics.uzh/glc23_data/bioclim+elev/bioclim_elevation_scaled_europe.npy\"\n",
    "po_dataset_path = \"/shares/wegner.ics.uzh/glc23_data/Presences_only_train.csv\"\n",
    "\n",
    "bioclim = PointwiseBioclimEuropePredictor(bioclim_path)\n",
    "loc = LocationPredictor()\n",
    "\n",
    "predictors = {\"loc_cyclical_europe\": loc, \n",
    "             \"bioclim_pointwise_europe\": bioclim}"
   ]
  },
  {
   "cell_type": "code",
   "execution_count": 3,
   "id": "50293f48-e898-4585-b2d3-138959c48e67",
   "metadata": {
    "execution": {
     "iopub.execute_input": "2024-05-10T07:10:17.624629Z",
     "iopub.status.busy": "2024-05-10T07:10:17.624379Z",
     "iopub.status.idle": "2024-05-10T07:10:17.630670Z",
     "shell.execute_reply": "2024-05-10T07:10:17.630176Z",
     "shell.execute_reply.started": "2024-05-10T07:10:17.624609Z"
    }
   },
   "outputs": [
    {
     "name": "stdout",
     "output_type": "stream",
     "text": [
      "loc_cyclical_europe Location embedder with mode default and bounds {'north': 90, 'south': -90, 'west': -180, 'east': 180} (strict: False)\n",
      "bioclim_pointwise_europe Bioclimatic embedder for Europe with resolution 1km and bounds {'north': 72, 'south': 34, 'west': -11, 'east': 35} (strict: True)\n"
     ]
    }
   ],
   "source": [
    "# example of what abstract_dataset.py is doing:\n",
    "sample = dict()\n",
    "for name, pred in predictors.items():\n",
    "    print(name, pred)\n",
    "    sample[name] = pred.sample_location(lon=30, lat=40, time=None)\n",
    "\n",
    "# adding gaussian noise with std dev=1:\n",
    "\n",
    "noise = torch.randn_like(sample[\"bioclim_pointwise_europe\"])\n",
    "sample[\"bioclim_pointwise_europe\"] += noise"
   ]
  },
  {
   "cell_type": "code",
   "execution_count": 20,
   "id": "4dfea7ae-7dc2-40d2-8b8c-e9f2dfbf19e4",
   "metadata": {
    "execution": {
     "iopub.execute_input": "2024-05-10T09:47:18.909943Z",
     "iopub.status.busy": "2024-05-10T09:47:18.909636Z",
     "iopub.status.idle": "2024-05-10T09:47:33.662846Z",
     "shell.execute_reply": "2024-05-10T09:47:33.662198Z",
     "shell.execute_reply.started": "2024-05-10T09:47:18.909918Z"
    }
   },
   "outputs": [
    {
     "data": {
      "text/html": [
       "<div>\n",
       "<style scoped>\n",
       "    .dataframe tbody tr th:only-of-type {\n",
       "        vertical-align: middle;\n",
       "    }\n",
       "\n",
       "    .dataframe tbody tr th {\n",
       "        vertical-align: top;\n",
       "    }\n",
       "\n",
       "    .dataframe thead th {\n",
       "        text-align: right;\n",
       "    }\n",
       "</style>\n",
       "<table border=\"1\" class=\"dataframe\">\n",
       "  <thead>\n",
       "    <tr style=\"text-align: right;\">\n",
       "      <th></th>\n",
       "      <th>max</th>\n",
       "      <th>min</th>\n",
       "      <th>range</th>\n",
       "      <th>std</th>\n",
       "    </tr>\n",
       "  </thead>\n",
       "  <tbody>\n",
       "    <tr>\n",
       "      <th>0</th>\n",
       "      <td>2.509159</td>\n",
       "      <td>-5.674059</td>\n",
       "      <td>8.183218</td>\n",
       "      <td>1.014119</td>\n",
       "    </tr>\n",
       "    <tr>\n",
       "      <th>1</th>\n",
       "      <td>9.268866</td>\n",
       "      <td>-1.482090</td>\n",
       "      <td>10.750956</td>\n",
       "      <td>1.017262</td>\n",
       "    </tr>\n",
       "    <tr>\n",
       "      <th>2</th>\n",
       "      <td>3.976711</td>\n",
       "      <td>-5.276648</td>\n",
       "      <td>9.253359</td>\n",
       "      <td>1.008278</td>\n",
       "    </tr>\n",
       "    <tr>\n",
       "      <th>3</th>\n",
       "      <td>2.774734</td>\n",
       "      <td>-2.627551</td>\n",
       "      <td>5.402285</td>\n",
       "      <td>1.010430</td>\n",
       "    </tr>\n",
       "    <tr>\n",
       "      <th>4</th>\n",
       "      <td>7.367673</td>\n",
       "      <td>-1.953472</td>\n",
       "      <td>9.321145</td>\n",
       "      <td>1.005921</td>\n",
       "    </tr>\n",
       "    <tr>\n",
       "      <th>5</th>\n",
       "      <td>2.508163</td>\n",
       "      <td>-2.570136</td>\n",
       "      <td>5.078300</td>\n",
       "      <td>1.010508</td>\n",
       "    </tr>\n",
       "    <tr>\n",
       "      <th>6</th>\n",
       "      <td>10.109140</td>\n",
       "      <td>-2.294200</td>\n",
       "      <td>12.403340</td>\n",
       "      <td>1.018531</td>\n",
       "    </tr>\n",
       "    <tr>\n",
       "      <th>7</th>\n",
       "      <td>3.905723</td>\n",
       "      <td>-4.424264</td>\n",
       "      <td>8.329987</td>\n",
       "      <td>1.006047</td>\n",
       "    </tr>\n",
       "    <tr>\n",
       "      <th>8</th>\n",
       "      <td>11.770404</td>\n",
       "      <td>-2.847799</td>\n",
       "      <td>14.618202</td>\n",
       "      <td>1.010044</td>\n",
       "    </tr>\n",
       "    <tr>\n",
       "      <th>9</th>\n",
       "      <td>5.482120</td>\n",
       "      <td>-2.301660</td>\n",
       "      <td>7.783780</td>\n",
       "      <td>1.000815</td>\n",
       "    </tr>\n",
       "    <tr>\n",
       "      <th>10</th>\n",
       "      <td>2.746212</td>\n",
       "      <td>-1.954480</td>\n",
       "      <td>4.700692</td>\n",
       "      <td>1.003605</td>\n",
       "    </tr>\n",
       "    <tr>\n",
       "      <th>11</th>\n",
       "      <td>2.221235</td>\n",
       "      <td>-5.655334</td>\n",
       "      <td>7.876570</td>\n",
       "      <td>1.005832</td>\n",
       "    </tr>\n",
       "    <tr>\n",
       "      <th>12</th>\n",
       "      <td>7.463777</td>\n",
       "      <td>-1.882658</td>\n",
       "      <td>9.346435</td>\n",
       "      <td>1.006709</td>\n",
       "    </tr>\n",
       "    <tr>\n",
       "      <th>13</th>\n",
       "      <td>2.284944</td>\n",
       "      <td>-4.837286</td>\n",
       "      <td>7.122231</td>\n",
       "      <td>1.017346</td>\n",
       "    </tr>\n",
       "    <tr>\n",
       "      <th>14</th>\n",
       "      <td>3.168746</td>\n",
       "      <td>-3.771103</td>\n",
       "      <td>6.939848</td>\n",
       "      <td>1.005964</td>\n",
       "    </tr>\n",
       "    <tr>\n",
       "      <th>15</th>\n",
       "      <td>1.122199</td>\n",
       "      <td>-0.898017</td>\n",
       "      <td>2.020216</td>\n",
       "      <td>0.896803</td>\n",
       "    </tr>\n",
       "    <tr>\n",
       "      <th>16</th>\n",
       "      <td>3.723831</td>\n",
       "      <td>-5.410200</td>\n",
       "      <td>9.134030</td>\n",
       "      <td>1.007324</td>\n",
       "    </tr>\n",
       "    <tr>\n",
       "      <th>17</th>\n",
       "      <td>9.934310</td>\n",
       "      <td>-2.217015</td>\n",
       "      <td>12.151325</td>\n",
       "      <td>1.017019</td>\n",
       "    </tr>\n",
       "    <tr>\n",
       "      <th>18</th>\n",
       "      <td>10.025431</td>\n",
       "      <td>-2.175050</td>\n",
       "      <td>12.200480</td>\n",
       "      <td>1.019408</td>\n",
       "    </tr>\n",
       "    <tr>\n",
       "      <th>19</th>\n",
       "      <td>7.184470</td>\n",
       "      <td>-2.280982</td>\n",
       "      <td>9.465451</td>\n",
       "      <td>1.005704</td>\n",
       "    </tr>\n",
       "  </tbody>\n",
       "</table>\n",
       "</div>"
      ],
      "text/plain": [
       "          max       min      range       std\n",
       "0    2.509159 -5.674059   8.183218  1.014119\n",
       "1    9.268866 -1.482090  10.750956  1.017262\n",
       "2    3.976711 -5.276648   9.253359  1.008278\n",
       "3    2.774734 -2.627551   5.402285  1.010430\n",
       "4    7.367673 -1.953472   9.321145  1.005921\n",
       "5    2.508163 -2.570136   5.078300  1.010508\n",
       "6   10.109140 -2.294200  12.403340  1.018531\n",
       "7    3.905723 -4.424264   8.329987  1.006047\n",
       "8   11.770404 -2.847799  14.618202  1.010044\n",
       "9    5.482120 -2.301660   7.783780  1.000815\n",
       "10   2.746212 -1.954480   4.700692  1.003605\n",
       "11   2.221235 -5.655334   7.876570  1.005832\n",
       "12   7.463777 -1.882658   9.346435  1.006709\n",
       "13   2.284944 -4.837286   7.122231  1.017346\n",
       "14   3.168746 -3.771103   6.939848  1.005964\n",
       "15   1.122199 -0.898017   2.020216  0.896803\n",
       "16   3.723831 -5.410200   9.134030  1.007324\n",
       "17   9.934310 -2.217015  12.151325  1.017019\n",
       "18  10.025431 -2.175050  12.200480  1.019408\n",
       "19   7.184470 -2.280982   9.465451  1.005704"
      ]
     },
     "execution_count": 20,
     "metadata": {},
     "output_type": "execute_result"
    }
   ],
   "source": [
    "# for each bioclimatic variable, calculate its max-min range in the raster and save the results \n",
    "\n",
    "context_feats = np.load(bioclim_path).astype(np.float32)\n",
    "raster_raw = torch.from_numpy(context_feats)\n",
    "matrix_list = torch.split(raster_raw, 1, dim=2)\n",
    "# Now, flatten each 2D matrix and concatenate them into a list\n",
    "flattened_matrices = [matrix.view(-1) for matrix in matrix_list]\n",
    "\n",
    "max_values = []\n",
    "min_values = []\n",
    "std_values = []\n",
    "ranges = []\n",
    "\n",
    "# Iterate through each flattened matrix\n",
    "for flattened_matrix in flattened_matrices:\n",
    "    # Convert the flattened matrix to a NumPy array\n",
    "    flattened_array = flattened_matrix.numpy()\n",
    "\n",
    "    # Calculate maximum value, handling NaNs\n",
    "    max_val = np.nanmax(flattened_array)\n",
    "    max_values.append(max_val)\n",
    "\n",
    "    # Calculate minimum value, handling NaNs\n",
    "    min_val = np.nanmin(flattened_array)\n",
    "    min_values.append(min_val)\n",
    "\n",
    "    # Calculate standard deviation, handling NaNs\n",
    "    std_val = np.nanstd(flattened_array)\n",
    "    std_values.append(std_val)\n",
    "\n",
    "    range = max_val-min_val\n",
    "    ranges.append(range)\n",
    "\n",
    "# save the max-min range of the variables to use it later\n",
    "torch.save(torch.tensor(ranges), \"/shares/wegner.ics.uzh/glc23_data/bioclim+elev/bioclim_var_range.pt\")\n",
    "\n",
    "raster_summary = pd.DataFrame([max_values, min_values, ranges, std_values], index=[\"max\", \"min\", \"range\", \"std\"]).T\n",
    "raster_summary"
   ]
  },
  {
   "cell_type": "code",
   "execution_count": 25,
   "id": "1e76b921-1938-4d25-b851-f769946b7ade",
   "metadata": {
    "execution": {
     "iopub.execute_input": "2024-05-10T10:07:43.545877Z",
     "iopub.status.busy": "2024-05-10T10:07:43.545382Z",
     "iopub.status.idle": "2024-05-10T10:07:43.552667Z",
     "shell.execute_reply": "2024-05-10T10:07:43.552022Z",
     "shell.execute_reply.started": "2024-05-10T10:07:43.545853Z"
    }
   },
   "outputs": [],
   "source": [
    "torch.save(torch.tensor(ranges), \"/shares/wegner.ics.uzh/glc23_data/bioclim+elev/bioclim_var_range.pt\")"
   ]
  },
  {
   "cell_type": "code",
   "execution_count": 25,
   "id": "4ec4672e-8d2a-4efb-a500-93ab8fca81fe",
   "metadata": {
    "execution": {
     "iopub.execute_input": "2024-05-09T13:44:23.480039Z",
     "iopub.status.busy": "2024-05-09T13:44:23.479746Z",
     "iopub.status.idle": "2024-05-09T13:44:23.484988Z",
     "shell.execute_reply": "2024-05-09T13:44:23.484262Z",
     "shell.execute_reply.started": "2024-05-09T13:44:23.480015Z"
    }
   },
   "outputs": [],
   "source": [
    "raster_summary['range'] = raster_summary['max'] - raster_summary['min']\n",
    "\n",
    "# Define a noise fraction\n",
    "noise_fraction = 0.1  # You can adjust this as needed\n",
    "\n",
    "# Calculate the standard deviation as a fraction of the range\n",
    "raster_summary['std_dev'] = raster_summary['range'] * noise_fraction\n",
    "\n",
    "# Convert the 'std_dev' column to a list\n",
    "std_deviations = raster_summary['std_dev'].tolist()"
   ]
  },
  {
   "cell_type": "markdown",
   "id": "1e23fc33-0f1a-4c25-b1a5-c57082770c23",
   "metadata": {
    "execution": {
     "iopub.execute_input": "2024-05-09T13:30:36.814584Z",
     "iopub.status.busy": "2024-05-09T13:30:36.814318Z",
     "iopub.status.idle": "2024-05-09T13:30:37.323109Z",
     "shell.execute_reply": "2024-05-09T13:30:37.322376Z",
     "shell.execute_reply.started": "2024-05-09T13:30:36.814563Z"
    }
   },
   "source": [
    "raster = raster_raw.clone()\n",
    "raster[torch.isnan(raster)] = (0.0)"
   ]
  },
  {
   "cell_type": "code",
   "execution_count": 27,
   "id": "4635558e-6d9f-4f9d-b354-739f12739942",
   "metadata": {
    "execution": {
     "iopub.execute_input": "2024-05-09T14:31:31.295388Z",
     "iopub.status.busy": "2024-05-09T14:31:31.295117Z",
     "iopub.status.idle": "2024-05-09T14:31:31.315798Z",
     "shell.execute_reply": "2024-05-09T14:31:31.315236Z",
     "shell.execute_reply.started": "2024-05-09T14:31:31.295365Z"
    }
   },
   "outputs": [],
   "source": [
    "noise = torch.zeros_like(sample[\"bioclim_pointwise_europe\"])"
   ]
  },
  {
   "cell_type": "code",
   "execution_count": 27,
   "id": "6de3036b-f899-4a44-b071-f6893ec3e7f2",
   "metadata": {
    "execution": {
     "iopub.execute_input": "2024-05-10T10:23:19.613921Z",
     "iopub.status.busy": "2024-05-10T10:23:19.613372Z",
     "iopub.status.idle": "2024-05-10T10:23:19.617058Z",
     "shell.execute_reply": "2024-05-10T10:23:19.616614Z",
     "shell.execute_reply.started": "2024-05-10T10:23:19.613897Z"
    }
   },
   "outputs": [],
   "source": [
    "fraction = 0.1\n",
    "\n",
    "noise_stdev = torch.tensor(ranges)*fraction\n",
    "\n",
    "noise = torch.randn_like(sample[\"bioclim_pointwise_europe\"])*noise_stdev  "
   ]
  },
  {
   "cell_type": "code",
   "execution_count": 29,
   "id": "eccbc83e-6a07-4185-9e9d-953dfc7c5be4",
   "metadata": {
    "execution": {
     "iopub.execute_input": "2024-05-10T10:24:11.913692Z",
     "iopub.status.busy": "2024-05-10T10:24:11.913127Z",
     "iopub.status.idle": "2024-05-10T10:24:11.918095Z",
     "shell.execute_reply": "2024-05-10T10:24:11.917644Z",
     "shell.execute_reply.started": "2024-05-10T10:24:11.913667Z"
    }
   },
   "outputs": [
    {
     "data": {
      "text/plain": [
       "tensor([0.8183, 1.0751, 0.9253, 0.5402, 0.9321, 0.5078, 1.2403, 0.8330, 1.4618,\n",
       "        0.7784, 0.4701, 0.7877, 0.9346, 0.7122, 0.6940, 0.2020, 0.9134, 1.2151,\n",
       "        1.2200, 0.9465])"
      ]
     },
     "execution_count": 29,
     "metadata": {},
     "output_type": "execute_result"
    }
   ],
   "source": [
    "noise_stdev"
   ]
  },
  {
   "cell_type": "code",
   "execution_count": 28,
   "id": "438c8d7a-4c00-48d3-8843-2e309e66f3f4",
   "metadata": {
    "execution": {
     "iopub.execute_input": "2024-05-10T10:23:23.391387Z",
     "iopub.status.busy": "2024-05-10T10:23:23.390852Z",
     "iopub.status.idle": "2024-05-10T10:23:23.395444Z",
     "shell.execute_reply": "2024-05-10T10:23:23.395016Z",
     "shell.execute_reply.started": "2024-05-10T10:23:23.391362Z"
    }
   },
   "outputs": [
    {
     "data": {
      "text/plain": [
       "tensor([-0.9598, -0.5885,  0.8878, -0.8077,  1.7131, -0.7112, -1.6376,  0.6313,\n",
       "        -1.7887,  0.0258,  0.1389,  1.0446, -0.8078,  1.2019,  1.4991,  0.2133,\n",
       "        -0.0404,  0.2499, -1.3320, -0.9017])"
      ]
     },
     "execution_count": 28,
     "metadata": {},
     "output_type": "execute_result"
    }
   ],
   "source": [
    "noise"
   ]
  },
  {
   "cell_type": "code",
   "execution_count": null,
   "id": "c10c9249-11e3-4b27-ad4c-1fc8c4975133",
   "metadata": {},
   "outputs": [],
   "source": [
    "fraction = 0.1\n",
    "\n",
    "noise_stdev = variable_range*fraction\n",
    "\n",
    "noise = torch.randn_like(sample[\"bioclim_pointwise_europe\"])*noise_stdev       \n",
    "# Add the noise to the sample\n",
    "sample[\"bioclim_pointwise_europe\"] += noise"
   ]
  }
 ],
 "metadata": {
  "kernelspec": {
   "display_name": "sdm_sandbox",
   "language": "python",
   "name": "sdm_sandbox"
  },
  "language_info": {
   "codemirror_mode": {
    "name": "ipython",
    "version": 3
   },
   "file_extension": ".py",
   "mimetype": "text/x-python",
   "name": "python",
   "nbconvert_exporter": "python",
   "pygments_lexer": "ipython3",
   "version": "3.9.18"
  }
 },
 "nbformat": 4,
 "nbformat_minor": 5
}
