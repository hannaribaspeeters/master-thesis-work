{
 "cells": [
  {
   "cell_type": "code",
   "execution_count": 1,
   "id": "c03affed-94c7-4a52-80e9-f1f2dbbcca7c",
   "metadata": {
    "execution": {
     "iopub.execute_input": "2024-06-10T14:32:13.219527Z",
     "iopub.status.busy": "2024-06-10T14:32:13.218781Z",
     "iopub.status.idle": "2024-06-10T14:32:27.949573Z",
     "shell.execute_reply": "2024-06-10T14:32:27.949005Z",
     "shell.execute_reply.started": "2024-06-10T14:32:13.219504Z"
    }
   },
   "outputs": [],
   "source": [
    "from src.data.datasets.glc_po import GLCPODataset\n",
    "from src.data.predictors.point_bioclim import PointwiseBioclimEuropePredictor\n",
    "from src.data.predictors.loc import LocationPredictor\n",
    "import numpy as np\n",
    "import torch\n",
    "import pandas as pd\n",
    "from src.data.predictors.point_bioclim import PointwiseBioclimEuropePredictor\n",
    "from src.data.predictors.loc import LocationPredictor\n",
    "import torch\n",
    "from torch.utils.data import DataLoader, WeightedRandomSampler\n",
    "from src.utils.grid_thinning.thinning_strategies import (\n",
    "    thin_all_species,\n",
    "    thin_majority_species,\n",
    "    thin_majority_minority_species\n",
    ")"
   ]
  },
  {
   "cell_type": "code",
   "execution_count": 2,
   "id": "50d2c016-c6d1-4ffc-b8d6-43937d0f9179",
   "metadata": {
    "execution": {
     "iopub.execute_input": "2024-06-10T14:32:27.956198Z",
     "iopub.status.busy": "2024-06-10T14:32:27.955891Z",
     "iopub.status.idle": "2024-06-10T14:32:27.961377Z",
     "shell.execute_reply": "2024-06-10T14:32:27.960957Z",
     "shell.execute_reply.started": "2024-06-10T14:32:27.956178Z"
    }
   },
   "outputs": [],
   "source": [
    "from src.data.datasets.glc23_pa import GLC23PADataset"
   ]
  },
  {
   "cell_type": "code",
   "execution_count": 3,
   "id": "80879359-28a4-4ef4-a5db-14e94c84def6",
   "metadata": {
    "execution": {
     "iopub.execute_input": "2024-06-10T14:32:27.962813Z",
     "iopub.status.busy": "2024-06-10T14:32:27.962367Z",
     "iopub.status.idle": "2024-06-10T14:32:39.069645Z",
     "shell.execute_reply": "2024-06-10T14:32:39.069057Z",
     "shell.execute_reply.started": "2024-06-10T14:32:27.962795Z"
    }
   },
   "outputs": [],
   "source": [
    "bioclim_path = \"/shares/wegner.ics.uzh/glc23_data/bioclim+elev/bioclim_elevation_scaled_europe.npy\"\n",
    "po_dataset_path = \"/shares/wegner.ics.uzh/glc23_data/Presences_only_train.csv\"\n",
    "\n",
    "bioclim = PointwiseBioclimEuropePredictor(bioclim_path)\n",
    "loc = LocationPredictor()\n",
    "\n",
    "predictors = {\"loc_cyclical_europe\": loc, \n",
    "             \"bioclim_pointwise_europe\": bioclim}\n",
    "\n",
    "data_train = GLCPODataset(\n",
    "   predictors,\n",
    "   po_dataset_path\n",
    ")"
   ]
  },
  {
   "cell_type": "code",
   "execution_count": 5,
   "id": "213062a5-9f05-4dbd-af7a-61b2c36028e7",
   "metadata": {
    "execution": {
     "iopub.execute_input": "2024-06-10T14:32:59.032820Z",
     "iopub.status.busy": "2024-06-10T14:32:59.032395Z",
     "iopub.status.idle": "2024-06-10T14:32:59.331544Z",
     "shell.execute_reply": "2024-06-10T14:32:59.331010Z",
     "shell.execute_reply.started": "2024-06-10T14:32:59.032799Z"
    }
   },
   "outputs": [],
   "source": [
    "data_test = GLC23PADataset(\n",
    "    predictors,\n",
    "    f\"/shares/wegner.ics.uzh/glc23_data/Presence_Absence_surveys/Presences_Absences_train.csv\",\n",
    ")"
   ]
  },
  {
   "cell_type": "code",
   "execution_count": 6,
   "id": "54571e1d-e2c5-415a-9cd0-ee13297634fc",
   "metadata": {
    "execution": {
     "iopub.execute_input": "2024-06-10T14:33:01.503864Z",
     "iopub.status.busy": "2024-06-10T14:33:01.503260Z",
     "iopub.status.idle": "2024-06-10T14:33:01.521217Z",
     "shell.execute_reply": "2024-06-10T14:33:01.520755Z",
     "shell.execute_reply.started": "2024-06-10T14:33:01.503842Z"
    }
   },
   "outputs": [
    {
     "data": {
      "text/html": [
       "<div>\n",
       "<style scoped>\n",
       "    .dataframe tbody tr th:only-of-type {\n",
       "        vertical-align: middle;\n",
       "    }\n",
       "\n",
       "    .dataframe tbody tr th {\n",
       "        vertical-align: top;\n",
       "    }\n",
       "\n",
       "    .dataframe thead th {\n",
       "        text-align: right;\n",
       "    }\n",
       "</style>\n",
       "<table border=\"1\" class=\"dataframe\">\n",
       "  <thead>\n",
       "    <tr style=\"text-align: right;\">\n",
       "      <th></th>\n",
       "      <th>patchID</th>\n",
       "      <th>dayOfYear</th>\n",
       "      <th>lat</th>\n",
       "      <th>lon</th>\n",
       "      <th>speciesId</th>\n",
       "    </tr>\n",
       "  </thead>\n",
       "  <tbody>\n",
       "    <tr>\n",
       "      <th>0</th>\n",
       "      <td>55880</td>\n",
       "      <td>126</td>\n",
       "      <td>44.20370</td>\n",
       "      <td>4.74408</td>\n",
       "      <td>[9562, 2546, 1745, 2871, 9886, 7522, 6755, 762...</td>\n",
       "    </tr>\n",
       "    <tr>\n",
       "      <th>1</th>\n",
       "      <td>55897</td>\n",
       "      <td>126</td>\n",
       "      <td>44.20410</td>\n",
       "      <td>4.74436</td>\n",
       "      <td>[1602, 7734, 4904, 2871, 8023, 7449, 7760, 540...</td>\n",
       "    </tr>\n",
       "    <tr>\n",
       "      <th>2</th>\n",
       "      <td>55942</td>\n",
       "      <td>126</td>\n",
       "      <td>44.20360</td>\n",
       "      <td>4.74519</td>\n",
       "      <td>[4355, 7477, 232, 6755, 7622, 3019, 4253, 4615...</td>\n",
       "    </tr>\n",
       "    <tr>\n",
       "      <th>3</th>\n",
       "      <td>56533</td>\n",
       "      <td>126</td>\n",
       "      <td>44.21930</td>\n",
       "      <td>4.75466</td>\n",
       "      <td>[3281, 7896, 2546, 4965, 4442, 2918, 9170, 897...</td>\n",
       "    </tr>\n",
       "    <tr>\n",
       "      <th>4</th>\n",
       "      <td>56759</td>\n",
       "      <td>126</td>\n",
       "      <td>44.21360</td>\n",
       "      <td>4.75755</td>\n",
       "      <td>[1344, 6501, 7896, 4965, 7090, 9595, 2502, 950...</td>\n",
       "    </tr>\n",
       "    <tr>\n",
       "      <th>...</th>\n",
       "      <td>...</td>\n",
       "      <td>...</td>\n",
       "      <td>...</td>\n",
       "      <td>...</td>\n",
       "      <td>...</td>\n",
       "    </tr>\n",
       "    <tr>\n",
       "      <th>5943</th>\n",
       "      <td>3018845</td>\n",
       "      <td>138</td>\n",
       "      <td>41.87388</td>\n",
       "      <td>9.28662</td>\n",
       "      <td>[271, 2749, 1514, 644, 5959, 2714, 9679, 8994,...</td>\n",
       "    </tr>\n",
       "    <tr>\n",
       "      <th>5944</th>\n",
       "      <td>3018847</td>\n",
       "      <td>351</td>\n",
       "      <td>41.56691</td>\n",
       "      <td>9.29834</td>\n",
       "      <td>[271, 4062, 644, 6510, 4190, 8994, 5727, 3800,...</td>\n",
       "    </tr>\n",
       "    <tr>\n",
       "      <th>5945</th>\n",
       "      <td>3018848</td>\n",
       "      <td>346</td>\n",
       "      <td>41.70986</td>\n",
       "      <td>9.31529</td>\n",
       "      <td>[271, 4062, 4904, 9078, 2749, 615, 2871, 799, ...</td>\n",
       "    </tr>\n",
       "    <tr>\n",
       "      <th>5946</th>\n",
       "      <td>3018853</td>\n",
       "      <td>346</td>\n",
       "      <td>41.67093</td>\n",
       "      <td>9.35871</td>\n",
       "      <td>[271, 4062, 4904, 799, 6510, 4190, 3649, 8994,...</td>\n",
       "    </tr>\n",
       "    <tr>\n",
       "      <th>5947</th>\n",
       "      <td>3018859</td>\n",
       "      <td>165</td>\n",
       "      <td>41.95686</td>\n",
       "      <td>9.39303</td>\n",
       "      <td>[271, 4904, 9078, 2871, 6241, 6510, 9509, 4190...</td>\n",
       "    </tr>\n",
       "  </tbody>\n",
       "</table>\n",
       "<p>5948 rows × 5 columns</p>\n",
       "</div>"
      ],
      "text/plain": [
       "      patchID  dayOfYear       lat      lon  \\\n",
       "0       55880        126  44.20370  4.74408   \n",
       "1       55897        126  44.20410  4.74436   \n",
       "2       55942        126  44.20360  4.74519   \n",
       "3       56533        126  44.21930  4.75466   \n",
       "4       56759        126  44.21360  4.75755   \n",
       "...       ...        ...       ...      ...   \n",
       "5943  3018845        138  41.87388  9.28662   \n",
       "5944  3018847        351  41.56691  9.29834   \n",
       "5945  3018848        346  41.70986  9.31529   \n",
       "5946  3018853        346  41.67093  9.35871   \n",
       "5947  3018859        165  41.95686  9.39303   \n",
       "\n",
       "                                              speciesId  \n",
       "0     [9562, 2546, 1745, 2871, 9886, 7522, 6755, 762...  \n",
       "1     [1602, 7734, 4904, 2871, 8023, 7449, 7760, 540...  \n",
       "2     [4355, 7477, 232, 6755, 7622, 3019, 4253, 4615...  \n",
       "3     [3281, 7896, 2546, 4965, 4442, 2918, 9170, 897...  \n",
       "4     [1344, 6501, 7896, 4965, 7090, 9595, 2502, 950...  \n",
       "...                                                 ...  \n",
       "5943  [271, 2749, 1514, 644, 5959, 2714, 9679, 8994,...  \n",
       "5944  [271, 4062, 644, 6510, 4190, 8994, 5727, 3800,...  \n",
       "5945  [271, 4062, 4904, 9078, 2749, 615, 2871, 799, ...  \n",
       "5946  [271, 4062, 4904, 799, 6510, 4190, 3649, 8994,...  \n",
       "5947  [271, 4904, 9078, 2871, 6241, 6510, 9509, 4190...  \n",
       "\n",
       "[5948 rows x 5 columns]"
      ]
     },
     "execution_count": 6,
     "metadata": {},
     "output_type": "execute_result"
    }
   ],
   "source": [
    "data_test.data"
   ]
  },
  {
   "cell_type": "code",
   "execution_count": 25,
   "id": "96b933ef-057c-4465-ba49-9c5d774acde8",
   "metadata": {
    "execution": {
     "iopub.execute_input": "2024-06-10T15:43:53.082056Z",
     "iopub.status.busy": "2024-06-10T15:43:53.081065Z",
     "iopub.status.idle": "2024-06-10T15:44:03.801586Z",
     "shell.execute_reply": "2024-06-10T15:44:03.800805Z",
     "shell.execute_reply.started": "2024-06-10T15:43:53.082010Z"
    }
   },
   "outputs": [],
   "source": [
    "# Inverse Class Frequency Weights\n",
    "\n",
    "species_counts = data_train.data[\"speciesId\"].value_counts()\n",
    "# Create a weighted random sampler for training, where each sample's weight is the inverse of its species' count\n",
    "sample_weights_f = [\n",
    "    1/species_counts[i] for i in\\\n",
    "    data_train.data[\"speciesId\"].values\n",
    "    ]"
   ]
  },
  {
   "cell_type": "code",
   "execution_count": 33,
   "id": "9b1ecc24-9108-44d2-b7ff-68afc18af59c",
   "metadata": {
    "execution": {
     "iopub.execute_input": "2024-06-10T15:55:23.359846Z",
     "iopub.status.busy": "2024-06-10T15:55:23.358958Z",
     "iopub.status.idle": "2024-06-10T15:56:45.477890Z",
     "shell.execute_reply": "2024-06-10T15:56:45.477424Z",
     "shell.execute_reply.started": "2024-06-10T15:55:23.359796Z"
    }
   },
   "outputs": [
    {
     "name": "stdout",
     "output_type": "stream",
     "text": [
      "Start thinning of 10038 species...\n",
      "Thinned speciesId 200/10038 in 0.0279 seconds.\n",
      "Thinned speciesId 400/10038 in 0.0061 seconds.\n",
      "Thinned speciesId 600/10038 in 0.0091 seconds.\n",
      "Thinned speciesId 800/10038 in 0.0275 seconds.\n",
      "Thinned speciesId 1000/10038 in 0.0081 seconds.\n",
      "Thinned speciesId 1200/10038 in 0.0052 seconds.\n",
      "Thinned speciesId 1400/10038 in 0.0053 seconds.\n",
      "Thinned speciesId 1600/10038 in 0.0068 seconds.\n",
      "Thinned speciesId 1800/10038 in 0.0074 seconds.\n",
      "Thinned speciesId 2000/10038 in 0.0052 seconds.\n",
      "Thinned speciesId 2200/10038 in 0.0055 seconds.\n",
      "Thinned speciesId 2400/10038 in 0.0054 seconds.\n",
      "Thinned speciesId 2600/10038 in 0.0078 seconds.\n",
      "Thinned speciesId 2800/10038 in 0.0057 seconds.\n",
      "Thinned speciesId 3000/10038 in 0.0056 seconds.\n",
      "Thinned speciesId 3200/10038 in 0.0271 seconds.\n",
      "Thinned speciesId 3400/10038 in 0.0054 seconds.\n",
      "Thinned speciesId 3600/10038 in 0.0057 seconds.\n",
      "Thinned speciesId 3800/10038 in 0.0053 seconds.\n",
      "Thinned speciesId 4000/10038 in 0.0054 seconds.\n",
      "Thinned speciesId 4200/10038 in 0.0055 seconds.\n",
      "Thinned speciesId 4400/10038 in 0.0054 seconds.\n",
      "Thinned speciesId 4600/10038 in 0.0055 seconds.\n",
      "Thinned speciesId 4800/10038 in 0.0053 seconds.\n",
      "Thinned speciesId 5000/10038 in 0.0053 seconds.\n",
      "Thinned speciesId 5200/10038 in 0.0075 seconds.\n",
      "Thinned speciesId 5400/10038 in 0.0054 seconds.\n",
      "Thinned speciesId 5600/10038 in 0.0053 seconds.\n",
      "Thinned speciesId 5800/10038 in 0.006 seconds.\n",
      "Thinned speciesId 6000/10038 in 0.0055 seconds.\n",
      "Thinned speciesId 6200/10038 in 0.0108 seconds.\n",
      "Thinned speciesId 6400/10038 in 0.0051 seconds.\n",
      "Thinned speciesId 6600/10038 in 0.0065 seconds.\n",
      "Thinned speciesId 6800/10038 in 0.0058 seconds.\n",
      "Thinned speciesId 7000/10038 in 0.0052 seconds.\n",
      "Thinned speciesId 7200/10038 in 0.0053 seconds.\n",
      "Thinned speciesId 7400/10038 in 0.0055 seconds.\n",
      "Thinned speciesId 7600/10038 in 0.0052 seconds.\n",
      "Thinned speciesId 7800/10038 in 0.0051 seconds.\n",
      "Thinned speciesId 8000/10038 in 0.0057 seconds.\n",
      "Thinned speciesId 8200/10038 in 0.0051 seconds.\n",
      "Thinned speciesId 8400/10038 in 0.005 seconds.\n",
      "Thinned speciesId 8600/10038 in 0.0053 seconds.\n",
      "Thinned speciesId 8800/10038 in 0.0051 seconds.\n",
      "Thinned speciesId 9000/10038 in 0.0051 seconds.\n",
      "Thinned speciesId 9200/10038 in 0.0053 seconds.\n",
      "Thinned speciesId 9400/10038 in 0.0051 seconds.\n",
      "Thinned speciesId 9600/10038 in 0.0052 seconds.\n",
      "Thinned speciesId 9800/10038 in 0.0049 seconds.\n",
      "Thinned speciesId 10000/10038 in 0.005 seconds.\n",
      "Completed thinning the data in 81.9311 s.\n"
     ]
    }
   ],
   "source": [
    "# Inverse Cluster Density Weights\n",
    "data = data_train.data\n",
    "thin_dist=2\n",
    "\n",
    "sampled_data, cluster_density = thin_all_species(\n",
    "    data, \n",
    "    thin_dist=2\n",
    ")\n",
    "\n",
    "sampled_species_counts = sampled_data[\"speciesId\"].value_counts()"
   ]
  },
  {
   "cell_type": "code",
   "execution_count": 34,
   "id": "a7bb151e-cc7f-4db9-94e0-b8a594ee3da1",
   "metadata": {
    "execution": {
     "iopub.execute_input": "2024-06-10T15:57:19.545698Z",
     "iopub.status.busy": "2024-06-10T15:57:19.545022Z",
     "iopub.status.idle": "2024-06-10T15:57:51.632572Z",
     "shell.execute_reply": "2024-06-10T15:57:51.632017Z",
     "shell.execute_reply.started": "2024-06-10T15:57:19.545677Z"
    }
   },
   "outputs": [],
   "source": [
    "class_weights =  [\n",
    "    1/(np.sqrt(species_counts[i])*sampled_species_counts[i]) for i in\\\n",
    "    data_train.data[\"speciesId\"].values\n",
    "]\n",
    "\n",
    "# the merge is done to ensure that the right cluster\n",
    "# densities are assigned to the right rows \n",
    "data = data.merge(\n",
    "    cluster_density.rename(\"cluster_density\"),\n",
    "    left_index=True,\n",
    "    right_index=True\n",
    ")\n",
    "cluster_density_values = data[\"cluster_density\"].values\n",
    "assert(len(class_weights)==len(cluster_density_values))\n",
    "\n",
    "sample_weights = class_weights/(cluster_density_values)"
   ]
  },
  {
   "cell_type": "code",
   "execution_count": 28,
   "id": "b651af7e-2dad-4baa-9a9b-c29fccefc29b",
   "metadata": {
    "execution": {
     "iopub.execute_input": "2024-06-10T15:46:14.290516Z",
     "iopub.status.busy": "2024-06-10T15:46:14.289763Z",
     "iopub.status.idle": "2024-06-10T15:46:24.692348Z",
     "shell.execute_reply": "2024-06-10T15:46:24.691801Z",
     "shell.execute_reply.started": "2024-06-10T15:46:14.290495Z"
    }
   },
   "outputs": [],
   "source": [
    "x = sample_weights/[species_counts[i] for i in data[\"speciesId\"].values]"
   ]
  },
  {
   "cell_type": "code",
   "execution_count": null,
   "id": "74126ffe-aa4f-4455-84a8-148565089a10",
   "metadata": {
    "execution": {
     "iopub.status.busy": "2024-06-10T15:53:02.061158Z",
     "iopub.status.idle": "2024-06-10T15:53:02.061444Z",
     "shell.execute_reply": "2024-06-10T15:53:02.061315Z",
     "shell.execute_reply.started": "2024-06-10T15:53:02.061304Z"
    }
   },
   "outputs": [],
   "source": [
    "np.sum(sample_weights)"
   ]
  },
  {
   "cell_type": "code",
   "execution_count": null,
   "id": "9ea04d52-8295-456e-b563-eafaf3b65d10",
   "metadata": {},
   "outputs": [],
   "source": [
    "species_counts = data[\"speciesId\"].value_counts()"
   ]
  },
  {
   "cell_type": "code",
   "execution_count": 8,
   "id": "8fd2d58a-6a0d-4505-bd52-243ec29db308",
   "metadata": {
    "execution": {
     "iopub.execute_input": "2024-06-10T14:38:24.102991Z",
     "iopub.status.busy": "2024-06-10T14:38:24.102362Z",
     "iopub.status.idle": "2024-06-10T14:40:10.220151Z",
     "shell.execute_reply": "2024-06-10T14:40:10.219411Z",
     "shell.execute_reply.started": "2024-06-10T14:38:24.102967Z"
    },
    "scrolled": true
   },
   "outputs": [
    {
     "name": "stdout",
     "output_type": "stream",
     "text": [
      "Start thinning of 10038 species...\n",
      "Thinned speciesId 200/10038 in 0.027 seconds.\n",
      "Thinned speciesId 400/10038 in 0.0088 seconds.\n",
      "Thinned speciesId 600/10038 in 0.0094 seconds.\n",
      "Thinned speciesId 800/10038 in 0.0272 seconds.\n",
      "Thinned speciesId 1000/10038 in 0.0083 seconds.\n",
      "Thinned speciesId 1200/10038 in 0.0055 seconds.\n",
      "Thinned speciesId 1400/10038 in 0.0053 seconds.\n",
      "Thinned speciesId 1600/10038 in 0.0069 seconds.\n",
      "Thinned speciesId 1800/10038 in 0.0074 seconds.\n",
      "Thinned speciesId 2000/10038 in 0.0058 seconds.\n",
      "Thinned speciesId 2200/10038 in 0.0053 seconds.\n",
      "Thinned speciesId 2400/10038 in 0.0056 seconds.\n",
      "Thinned speciesId 2600/10038 in 0.0074 seconds.\n",
      "Thinned speciesId 2800/10038 in 0.0065 seconds.\n",
      "Thinned speciesId 3000/10038 in 0.0061 seconds.\n",
      "Thinned speciesId 3200/10038 in 0.0276 seconds.\n",
      "Thinned speciesId 3400/10038 in 0.0054 seconds.\n",
      "Thinned speciesId 3600/10038 in 0.0058 seconds.\n",
      "Thinned speciesId 3800/10038 in 0.0053 seconds.\n",
      "Thinned speciesId 4000/10038 in 0.0063 seconds.\n",
      "Thinned speciesId 4200/10038 in 0.0051 seconds.\n",
      "Thinned speciesId 4400/10038 in 0.0053 seconds.\n",
      "Thinned speciesId 4600/10038 in 0.0062 seconds.\n",
      "Thinned speciesId 4800/10038 in 0.0055 seconds.\n",
      "Thinned speciesId 5000/10038 in 0.0056 seconds.\n",
      "Thinned speciesId 5200/10038 in 0.0071 seconds.\n",
      "Thinned speciesId 5400/10038 in 0.0049 seconds.\n",
      "Thinned speciesId 5600/10038 in 0.0052 seconds.\n",
      "Thinned speciesId 5800/10038 in 0.0057 seconds.\n",
      "Thinned speciesId 6000/10038 in 0.007 seconds.\n",
      "Thinned speciesId 6200/10038 in 0.0102 seconds.\n",
      "Thinned speciesId 6400/10038 in 0.0051 seconds.\n",
      "Thinned speciesId 6600/10038 in 0.0062 seconds.\n",
      "Thinned speciesId 6800/10038 in 0.0057 seconds.\n",
      "Thinned speciesId 7000/10038 in 0.007 seconds.\n",
      "Thinned speciesId 7200/10038 in 0.02 seconds.\n",
      "Thinned speciesId 7400/10038 in 0.005 seconds.\n",
      "Thinned speciesId 7600/10038 in 0.0051 seconds.\n",
      "Thinned speciesId 7800/10038 in 0.005 seconds.\n",
      "Thinned speciesId 8000/10038 in 0.0071 seconds.\n",
      "Thinned speciesId 8200/10038 in 0.0054 seconds.\n",
      "Thinned speciesId 8400/10038 in 0.0053 seconds.\n",
      "Thinned speciesId 8600/10038 in 0.0055 seconds.\n",
      "Thinned speciesId 8800/10038 in 0.0051 seconds.\n",
      "Thinned speciesId 9000/10038 in 0.0052 seconds.\n",
      "Thinned speciesId 9200/10038 in 0.0077 seconds.\n",
      "Thinned speciesId 9400/10038 in 0.0081 seconds.\n",
      "Thinned speciesId 9600/10038 in 0.008 seconds.\n",
      "Thinned speciesId 9800/10038 in 0.0079 seconds.\n",
      "Thinned speciesId 10000/10038 in 0.0063 seconds.\n",
      "Completed thinning the data in 84.7381 s.\n"
     ]
    }
   ],
   "source": [
    "/class_counts"
   ]
  },
  {
   "cell_type": "code",
   "execution_count": 10,
   "id": "e99c195b-4462-4644-8916-184103c18117",
   "metadata": {
    "execution": {
     "iopub.execute_input": "2024-06-10T14:42:08.739317Z",
     "iopub.status.busy": "2024-06-10T14:42:08.739131Z",
     "iopub.status.idle": "2024-06-10T14:42:08.743837Z",
     "shell.execute_reply": "2024-06-10T14:42:08.743125Z",
     "shell.execute_reply.started": "2024-06-10T14:42:08.739298Z"
    },
    "scrolled": true
   },
   "outputs": [
    {
     "data": {
      "text/plain": [
       "4908319"
      ]
     },
     "execution_count": 10,
     "metadata": {},
     "output_type": "execute_result"
    }
   ],
   "source": [
    "len(class_weights)"
   ]
  },
  {
   "cell_type": "code",
   "execution_count": 18,
   "id": "17601c7f-0a46-488f-b739-2233a244cd43",
   "metadata": {
    "execution": {
     "iopub.execute_input": "2024-06-10T15:03:26.095777Z",
     "iopub.status.busy": "2024-06-10T15:03:26.095326Z",
     "iopub.status.idle": "2024-06-10T15:03:26.273389Z",
     "shell.execute_reply": "2024-06-10T15:03:26.272724Z",
     "shell.execute_reply.started": "2024-06-10T15:03:26.095756Z"
    }
   },
   "outputs": [
    {
     "data": {
      "text/plain": [
       "151813.48290466424"
      ]
     },
     "execution_count": 18,
     "metadata": {},
     "output_type": "execute_result"
    }
   ],
   "source": [
    "np.sum(class_weights)"
   ]
  },
  {
   "cell_type": "code",
   "execution_count": 15,
   "id": "7e2bbf4d-4846-4760-b21d-eed2d7e1218f",
   "metadata": {
    "execution": {
     "iopub.execute_input": "2024-06-10T14:45:24.785997Z",
     "iopub.status.busy": "2024-06-10T14:45:24.785797Z",
     "iopub.status.idle": "2024-06-10T14:45:35.646047Z",
     "shell.execute_reply": "2024-06-10T14:45:35.645256Z",
     "shell.execute_reply.started": "2024-06-10T14:45:24.785978Z"
    }
   },
   "outputs": [],
   "source": [
    "species_counts = data[\"speciesId\"].value_counts()\n",
    "\n",
    "raw_class_weights =  [\n",
    "    1/species_counts[i] for i in\\\n",
    "    data_train.data[\"speciesId\"].values\n",
    "]"
   ]
  },
  {
   "cell_type": "code",
   "execution_count": 16,
   "id": "ebc59a12-a643-4718-8b7c-aad65409453e",
   "metadata": {
    "execution": {
     "iopub.execute_input": "2024-06-10T14:46:00.860907Z",
     "iopub.status.busy": "2024-06-10T14:46:00.860729Z",
     "iopub.status.idle": "2024-06-10T14:46:01.033716Z",
     "shell.execute_reply": "2024-06-10T14:46:01.033071Z",
     "shell.execute_reply.started": "2024-06-10T14:46:00.860889Z"
    }
   },
   "outputs": [
    {
     "data": {
      "text/plain": [
       "10038.000000000015"
      ]
     },
     "execution_count": 16,
     "metadata": {},
     "output_type": "execute_result"
    }
   ],
   "source": [
    "np.sum(raw_class_weights)"
   ]
  },
  {
   "cell_type": "code",
   "execution_count": 30,
   "id": "617c5b39-9989-45ce-9450-5be25799efb5",
   "metadata": {
    "execution": {
     "iopub.execute_input": "2024-05-16T15:30:42.876481Z",
     "iopub.status.busy": "2024-05-16T15:30:42.876291Z",
     "iopub.status.idle": "2024-05-16T15:30:53.954164Z",
     "shell.execute_reply": "2024-05-16T15:30:53.953679Z",
     "shell.execute_reply.started": "2024-05-16T15:30:42.876461Z"
    }
   },
   "outputs": [
    {
     "name": "stderr",
     "output_type": "stream",
     "text": [
      "/home/jribas/data/conda/envs/sdm_sandbox/lib/python3.9/site-packages/numpy/core/fromnumeric.py:3504: RuntimeWarning: Mean of empty slice.\n",
      "  return _methods._mean(a, axis=axis, dtype=dtype,\n",
      "/home/jribas/data/conda/envs/sdm_sandbox/lib/python3.9/site-packages/numpy/core/_methods.py:129: RuntimeWarning: invalid value encountered in scalar divide\n",
      "  ret = ret.dtype.type(ret / rcount)\n"
     ]
    },
    {
     "data": {
      "image/png": "[encoded data removed]",
      "text/plain": [
       "<Figure size 1000x600 with 1 Axes>"
      ]
     },
     "metadata": {},
     "output_type": "display_data"
    },
    {
     "name": "stdout",
     "output_type": "stream",
     "text": [
      "Number of zero weights for Inverse Class Frequency Weights: 0\n",
      "Mean of zero weights for Inverse Class Frequency Weights: nan\n"
     ]
    },
    {
     "data": {
      "image/png": "[encoded data removed]",
      "text/plain": [
       "<Figure size 1000x600 with 1 Axes>"
      ]
     },
     "metadata": {},
     "output_type": "display_data"
    },
    {
     "name": "stdout",
     "output_type": "stream",
     "text": [
      "Number of zero weights for Inverse Cluster Density Weights: 0\n",
      "Mean of zero weights for Inverse Cluster Density Weights: nan\n"
     ]
    }
   ],
   "source": [
    "import numpy as np\n",
    "\n",
    "# Calculate the number of zero weights and their mean\n",
    "num_zero_weights_f = np.sum(np.array(class_weights) == 0)\n",
    "mean_zero_weights_f = np.mean(np.array(class_weights)[np.array(class_weights) == 0])\n",
    "\n",
    "# Plot the distribution of sample weights for Inverse Class Frequency Weights\n",
    "plt.figure(figsize=(10, 6))\n",
    "plt.hist(class_weights, bins=50, color='blue', alpha=0.7)\n",
    "plt.yscale('log')  # Set y-axis scale to logarithmic\n",
    "plt.title('Distribution of Inverse Class Frequency Weights')\n",
    "plt.xlabel('Weight')\n",
    "plt.ylabel('Frequency (log scale)')\n",
    "plt.grid(True)\n",
    "plt.show()\n",
    "\n",
    "print(f\"Number of zero weights for Inverse Class Frequency Weights: {num_zero_weights_f}\")\n",
    "print(f\"Mean of zero weights for Inverse Class Frequency Weights: {mean_zero_weights_f}\")\n",
    "\n",
    "# Calculate the number of zero weights and their mean\n",
    "num_zero_weights = np.sum(np.array(sample_weights) == 0)\n",
    "mean_zero_weights = np.mean(np.array(sample_weights)[np.array(sample_weights) == 0])\n",
    "\n",
    "# Plot the distribution of sample weights for Inverse Cluster Density Weights\n",
    "plt.figure(figsize=(10, 6))\n",
    "plt.hist(sample_weights, bins=50, color='green', alpha=0.7)\n",
    "plt.yscale('log')  # Set y-axis scale to logarithmic\n",
    "plt.title('Distribution of Inverse Cluster Density Weights')\n",
    "plt.xlabel('Weight')\n",
    "plt.ylabel('Frequency (log scale)')\n",
    "plt.grid(True)\n",
    "plt.show()\n",
    "\n",
    "print(f\"Number of zero weights for Inverse Cluster Density Weights: {num_zero_weights}\")\n",
    "print(f\"Mean of zero weights for Inverse Cluster Density Weights: {mean_zero_weights}\")"
   ]
  },
  {
   "cell_type": "code",
   "execution_count": 5,
   "id": "5b8549b8-6323-4252-ab9f-e0a51b355b52",
   "metadata": {
    "execution": {
     "iopub.execute_input": "2024-05-13T14:08:43.267748Z",
     "iopub.status.busy": "2024-05-13T14:08:43.267571Z",
     "iopub.status.idle": "2024-05-13T14:08:43.842080Z",
     "shell.execute_reply": "2024-05-13T14:08:43.841072Z",
     "shell.execute_reply.started": "2024-05-13T14:08:43.267730Z"
    }
   },
   "outputs": [
    {
     "ename": "NameError",
     "evalue": "name 'sample_weights' is not defined",
     "output_type": "error",
     "traceback": [
      "\u001b[0;31m---------------------------------------------------------------------------\u001b[0m",
      "\u001b[0;31mNameError\u001b[0m                                 Traceback (most recent call last)",
      "Cell \u001b[0;32mIn[5], line 3\u001b[0m\n\u001b[1;32m      1\u001b[0m \u001b[38;5;66;03m# mirar que passa amb aixo!!!\u001b[39;00m\n\u001b[0;32m----> 3\u001b[0m min_weight \u001b[38;5;241m=\u001b[39m \u001b[38;5;28mmin\u001b[39m(\u001b[43msample_weights\u001b[49m)\n\u001b[1;32m      4\u001b[0m scale_factor \u001b[38;5;241m=\u001b[39m \u001b[38;5;241m1\u001b[39m \u001b[38;5;241m/\u001b[39m min_weight  \u001b[38;5;66;03m# Adjust this factor as needed\u001b[39;00m\n\u001b[1;32m      5\u001b[0m sample_weights \u001b[38;5;241m=\u001b[39m [w \u001b[38;5;241m*\u001b[39m scale_factor \u001b[38;5;28;01mfor\u001b[39;00m w \u001b[38;5;129;01min\u001b[39;00m sample_weights]\n",
      "\u001b[0;31mNameError\u001b[0m: name 'sample_weights' is not defined"
     ]
    }
   ],
   "source": [
    "# mirar que passa amb aixo!!!\n",
    "\n",
    "min_weight = min(sample_weights)\n",
    "scale_factor = 1 / min_weight  # Adjust this factor as needed\n",
    "sample_weights = [w * scale_factor for w in sample_weights]"
   ]
  },
  {
   "cell_type": "code",
   "execution_count": 1,
   "id": "43e4aef5-abae-44b8-9d39-1e6347773960",
   "metadata": {
    "execution": {
     "iopub.execute_input": "2024-05-13T12:53:17.946858Z",
     "iopub.status.busy": "2024-05-13T12:53:17.946715Z",
     "iopub.status.idle": "2024-05-13T12:53:17.949911Z",
     "shell.execute_reply": "2024-05-13T12:53:17.949376Z",
     "shell.execute_reply.started": "2024-05-13T12:53:17.946842Z"
    }
   },
   "outputs": [],
   "source": [
    "dic = {'1000-5000': 1319, '500-1000': 440, '100-500': 1313, '80-100': 184, '60-80': 251, '40-60': 389, '20-40': 813, '0-20': 988} "
   ]
  },
  {
   "cell_type": "code",
   "execution_count": 4,
   "id": "29cbcd03-88f6-4c98-acb1-9671738fd445",
   "metadata": {
    "execution": {
     "iopub.execute_input": "2024-05-13T12:53:37.378956Z",
     "iopub.status.busy": "2024-05-13T12:53:37.378447Z",
     "iopub.status.idle": "2024-05-13T12:53:38.360214Z",
     "shell.execute_reply": "2024-05-13T12:53:38.359321Z",
     "shell.execute_reply.started": "2024-05-13T12:53:37.378934Z"
    }
   },
   "outputs": [],
   "source": [
    "import pandas as pd"
   ]
  },
  {
   "cell_type": "code",
   "execution_count": 5,
   "id": "ffdf74fb-21bd-46d2-8ce4-ee22d60e144d",
   "metadata": {
    "execution": {
     "iopub.execute_input": "2024-05-13T12:53:49.437443Z",
     "iopub.status.busy": "2024-05-13T12:53:49.436509Z",
     "iopub.status.idle": "2024-05-13T12:53:49.441436Z",
     "shell.execute_reply": "2024-05-13T12:53:49.440837Z",
     "shell.execute_reply.started": "2024-05-13T12:53:49.437399Z"
    }
   },
   "outputs": [],
   "source": [
    "df = pd.DataFrame()"
   ]
  },
  {
   "cell_type": "code",
   "execution_count": 6,
   "id": "dfc1f5f5-9203-49d4-b498-c32d67c9593c",
   "metadata": {
    "execution": {
     "iopub.execute_input": "2024-05-13T12:53:52.519073Z",
     "iopub.status.busy": "2024-05-13T12:53:52.518348Z",
     "iopub.status.idle": "2024-05-13T12:53:52.523345Z",
     "shell.execute_reply": "2024-05-13T12:53:52.522821Z",
     "shell.execute_reply.started": "2024-05-13T12:53:52.519034Z"
    }
   },
   "outputs": [],
   "source": [
    "df[\"f\"] = dic.values()"
   ]
  },
  {
   "cell_type": "code",
   "execution_count": 3,
   "id": "f81fc565-2581-4003-a129-220f8f8f455a",
   "metadata": {
    "execution": {
     "iopub.execute_input": "2024-05-13T12:53:30.541170Z",
     "iopub.status.busy": "2024-05-13T12:53:30.540655Z",
     "iopub.status.idle": "2024-05-13T12:53:30.545448Z",
     "shell.execute_reply": "2024-05-13T12:53:30.544697Z",
     "shell.execute_reply.started": "2024-05-13T12:53:30.541150Z"
    }
   },
   "outputs": [
    {
     "data": {
      "text/plain": [
       "[1319, 440, 1313, 184, 251, 389, 813, 988]"
      ]
     },
     "execution_count": 3,
     "metadata": {},
     "output_type": "execute_result"
    }
   ],
   "source": [
    "list(dic.values())"
   ]
  },
  {
   "cell_type": "code",
   "execution_count": 7,
   "id": "accf26cd-fa66-433c-a669-164c2554b9d4",
   "metadata": {
    "execution": {
     "iopub.execute_input": "2024-05-13T12:53:54.455384Z",
     "iopub.status.busy": "2024-05-13T12:53:54.454943Z",
     "iopub.status.idle": "2024-05-13T12:53:54.461380Z",
     "shell.execute_reply": "2024-05-13T12:53:54.460896Z",
     "shell.execute_reply.started": "2024-05-13T12:53:54.455361Z"
    }
   },
   "outputs": [
    {
     "data": {
      "text/html": [
       "<div>\n",
       "<style scoped>\n",
       "    .dataframe tbody tr th:only-of-type {\n",
       "        vertical-align: middle;\n",
       "    }\n",
       "\n",
       "    .dataframe tbody tr th {\n",
       "        vertical-align: top;\n",
       "    }\n",
       "\n",
       "    .dataframe thead th {\n",
       "        text-align: right;\n",
       "    }\n",
       "</style>\n",
       "<table border=\"1\" class=\"dataframe\">\n",
       "  <thead>\n",
       "    <tr style=\"text-align: right;\">\n",
       "      <th></th>\n",
       "      <th>f</th>\n",
       "    </tr>\n",
       "  </thead>\n",
       "  <tbody>\n",
       "    <tr>\n",
       "      <th>0</th>\n",
       "      <td>1319</td>\n",
       "    </tr>\n",
       "    <tr>\n",
       "      <th>1</th>\n",
       "      <td>440</td>\n",
       "    </tr>\n",
       "    <tr>\n",
       "      <th>2</th>\n",
       "      <td>1313</td>\n",
       "    </tr>\n",
       "    <tr>\n",
       "      <th>3</th>\n",
       "      <td>184</td>\n",
       "    </tr>\n",
       "    <tr>\n",
       "      <th>4</th>\n",
       "      <td>251</td>\n",
       "    </tr>\n",
       "    <tr>\n",
       "      <th>5</th>\n",
       "      <td>389</td>\n",
       "    </tr>\n",
       "    <tr>\n",
       "      <th>6</th>\n",
       "      <td>813</td>\n",
       "    </tr>\n",
       "    <tr>\n",
       "      <th>7</th>\n",
       "      <td>988</td>\n",
       "    </tr>\n",
       "  </tbody>\n",
       "</table>\n",
       "</div>"
      ],
      "text/plain": [
       "      f\n",
       "0  1319\n",
       "1   440\n",
       "2  1313\n",
       "3   184\n",
       "4   251\n",
       "5   389\n",
       "6   813\n",
       "7   988"
      ]
     },
     "execution_count": 7,
     "metadata": {},
     "output_type": "execute_result"
    }
   ],
   "source": [
    "df"
   ]
  },
  {
   "cell_type": "code",
   "execution_count": 8,
   "id": "25c4a0c0-e7a5-47b4-8ddf-e29b655b6a29",
   "metadata": {
    "execution": {
     "iopub.execute_input": "2024-05-13T12:59:51.856447Z",
     "iopub.status.busy": "2024-05-13T12:59:51.855971Z",
     "iopub.status.idle": "2024-05-13T12:59:51.860806Z",
     "shell.execute_reply": "2024-05-13T12:59:51.860104Z",
     "shell.execute_reply.started": "2024-05-13T12:59:51.856423Z"
    }
   },
   "outputs": [
    {
     "data": {
      "text/plain": [
       "[1319, 440, 1313, 184, 251, 389, 813, 988]"
      ]
     },
     "execution_count": 8,
     "metadata": {},
     "output_type": "execute_result"
    }
   ],
   "source": [
    "list(dic.values())"
   ]
  },
  {
   "cell_type": "code",
   "execution_count": 6,
   "id": "ca6f7b22-3323-4f9c-8414-832a07313963",
   "metadata": {
    "execution": {
     "iopub.execute_input": "2024-05-13T14:08:53.469001Z",
     "iopub.status.busy": "2024-05-13T14:08:53.468660Z",
     "iopub.status.idle": "2024-05-13T14:08:53.799374Z",
     "shell.execute_reply": "2024-05-13T14:08:53.798608Z",
     "shell.execute_reply.started": "2024-05-13T14:08:53.468979Z"
    }
   },
   "outputs": [
    {
     "data": {
      "text/plain": [
       "<Axes: xlabel='count'>"
      ]
     },
     "execution_count": 6,
     "metadata": {},
     "output_type": "execute_result"
    },
    {
     "data": {
      "image/png": "[encoded data removed]",
      "text/plain": [
       "<Figure size 640x480 with 1 Axes>"
      ]
     },
     "metadata": {},
     "output_type": "display_data"
    }
   ],
   "source": [
    "bins = [0, 10, 20, 60, 100, 500, 1000, 5000]\n",
    "species_counts = data_train.data[\"speciesId\"].value_counts()\n",
    "grouped_species_ids = pd.cut(species_counts, bins=bins, labels=[f'{start}-{end}' for start, end in zip(bins[:-1], bins[1:])])\n",
    "grouped_species_ids.value_counts().plot(kind=\"bar\")"
   ]
  },
  {
   "cell_type": "code",
   "execution_count": 27,
   "id": "150db47f-571e-4097-a51f-4d570b5c1f46",
   "metadata": {
    "execution": {
     "iopub.execute_input": "2024-05-13T14:04:22.873288Z",
     "iopub.status.busy": "2024-05-13T14:04:22.872681Z",
     "iopub.status.idle": "2024-05-13T14:04:22.878810Z",
     "shell.execute_reply": "2024-05-13T14:04:22.878311Z",
     "shell.execute_reply.started": "2024-05-13T14:04:22.873267Z"
    }
   },
   "outputs": [
    {
     "data": {
      "text/plain": [
       "speciesId\n",
       "1995    1000-5000\n",
       "729     1000-5000\n",
       "4933    1000-5000\n",
       "8101    1000-5000\n",
       "1849    1000-5000\n",
       "          ...    \n",
       "2778         0-10\n",
       "4322         0-10\n",
       "2895         0-10\n",
       "2863         0-10\n",
       "1377         0-10\n",
       "Name: count, Length: 10038, dtype: category\n",
       "Categories (7, object): ['0-10' < '10-20' < '20-60' < '60-100' < '100-500' < '500-1000' < '1000-5000']"
      ]
     },
     "execution_count": 27,
     "metadata": {},
     "output_type": "execute_result"
    }
   ],
   "source": [
    "grouped_species_ids"
   ]
  },
  {
   "cell_type": "code",
   "execution_count": 8,
   "id": "8dfd41a0-0b09-4d89-88da-fab6a5efdc1f",
   "metadata": {
    "execution": {
     "iopub.execute_input": "2024-05-13T14:09:26.211686Z",
     "iopub.status.busy": "2024-05-13T14:09:26.211505Z",
     "iopub.status.idle": "2024-05-13T14:09:26.217496Z",
     "shell.execute_reply": "2024-05-13T14:09:26.216884Z",
     "shell.execute_reply.started": "2024-05-13T14:09:26.211668Z"
    }
   },
   "outputs": [
    {
     "data": {
      "text/plain": [
       "count\n",
       "0-10         4469\n",
       "1000-5000    1319\n",
       "100-500      1313\n",
       "20-60        1202\n",
       "10-20         860\n",
       "500-1000      440\n",
       "60-100        435\n",
       "Name: count, dtype: int64"
      ]
     },
     "execution_count": 8,
     "metadata": {},
     "output_type": "execute_result"
    }
   ],
   "source": [
    "grouped_species_ids.value_counts()"
   ]
  },
  {
   "cell_type": "code",
   "execution_count": null,
   "id": "92d9e956-3b9b-453f-860f-b1c2115701c2",
   "metadata": {},
   "outputs": [],
   "source": []
  }
 ],
 "metadata": {
  "kernelspec": {
   "display_name": "sdm_sandbox",
   "language": "python",
   "name": "sdm_sandbox"
  },
  "language_info": {
   "codemirror_mode": {
    "name": "ipython",
    "version": 3
   },
   "file_extension": ".py",
   "mimetype": "text/x-python",
   "name": "python",
   "nbconvert_exporter": "python",
   "pygments_lexer": "ipython3",
   "version": "3.9.18"
  }
 },
 "nbformat": 4,
 "nbformat_minor": 5
}
