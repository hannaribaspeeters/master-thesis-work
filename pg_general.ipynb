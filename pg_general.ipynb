{
 "cells": [
  {
   "cell_type": "code",
   "execution_count": 15,
   "id": "b4c4f004-af2b-42a7-98af-17876d84f2c0",
   "metadata": {
    "execution": {
     "iopub.execute_input": "2024-06-12T09:52:31.669000Z",
     "iopub.status.busy": "2024-06-12T09:52:31.668588Z",
     "iopub.status.idle": "2024-06-12T09:52:31.671829Z",
     "shell.execute_reply": "2024-06-12T09:52:31.671366Z",
     "shell.execute_reply.started": "2024-06-12T09:52:31.668977Z"
    }
   },
   "outputs": [],
   "source": [
    "import pandas as pd\n",
    "import seaborn as sns\n",
    "from collections import Counter\n",
    "import matplotlib as plt\n",
    "import numpy as np\n",
    "from sklearn.model_selection import train_test_split"
   ]
  },
  {
   "cell_type": "code",
   "execution_count": 16,
   "id": "c3f6803b-5159-4de7-b7b4-2bca581b1a63",
   "metadata": {
    "execution": {
     "iopub.execute_input": "2024-06-12T09:53:16.305717Z",
     "iopub.status.busy": "2024-06-12T09:53:16.305276Z",
     "iopub.status.idle": "2024-06-12T09:53:16.308758Z",
     "shell.execute_reply": "2024-06-12T09:53:16.308239Z",
     "shell.execute_reply.started": "2024-06-12T09:53:16.305696Z"
    }
   },
   "outputs": [],
   "source": [
    "po_path = \"/shares/wegner.ics.uzh/glc23_data/Presences_only_train.csv\"\n",
    "pa_path = \"/shares/wegner.ics.uzh/glc23_data/Presence_Absence_surveys/Presences_Absences_train.csv\"\n",
    "p1 = \"/shares/wegner.ics.uzh/glc23_data/Pot_10_to_1000.csv\"\n",
    "p2 = \"/shares/wegner.ics.uzh/glc23_data/po_none_to_1000.csv\"\n",
    "p3 = \"/shares/wegner.ics.uzh/glc23_data/po_10_to_1000.csv\"\n",
    "p4 = \"/shares/wegner.ics.uzh/glc23_data/po_10_to_none.csv\"\n",
    "pa24_path = \"/shares/wegner.ics.uzh/glc24_data/PresenceAbsenceSurveys/GLC24-PA-metadata-train.csv\"\n",
    "po24_path = \"/shares/wegner.ics.uzh/glc24_data/PresenceOnlyOccurrences/GLC24-PO-metadata-train.csv\""
   ]
  },
  {
   "cell_type": "code",
   "execution_count": 5,
   "id": "fd71bb81-e96d-475c-8150-f9b832ba36d8",
   "metadata": {
    "collapsed": true,
    "execution": {
     "iopub.execute_input": "2024-06-12T09:28:46.457482Z",
     "iopub.status.busy": "2024-06-12T09:28:46.456922Z",
     "iopub.status.idle": "2024-06-12T09:28:49.719173Z",
     "shell.execute_reply": "2024-06-12T09:28:49.718388Z",
     "shell.execute_reply.started": "2024-06-12T09:28:46.457460Z"
    },
    "jupyter": {
     "outputs_hidden": true
    }
   },
   "outputs": [
    {
     "ename": "FileNotFoundError",
     "evalue": "[Errno 2] No such file or directory: '/shares/wegner.ics.uzh/glc23_data/po_none_1000.csv'",
     "output_type": "error",
     "traceback": [
      "\u001b[0;31m---------------------------------------------------------------------------\u001b[0m",
      "\u001b[0;31mFileNotFoundError\u001b[0m                         Traceback (most recent call last)",
      "Cell \u001b[0;32mIn[5], line 2\u001b[0m\n\u001b[1;32m      1\u001b[0m d1 \u001b[38;5;241m=\u001b[39m pd\u001b[38;5;241m.\u001b[39mread_csv(p1, sep\u001b[38;5;241m=\u001b[39m\u001b[38;5;124m\"\u001b[39m\u001b[38;5;124m;\u001b[39m\u001b[38;5;124m\"\u001b[39m)\n\u001b[0;32m----> 2\u001b[0m d2 \u001b[38;5;241m=\u001b[39m \u001b[43mpd\u001b[49m\u001b[38;5;241;43m.\u001b[39;49m\u001b[43mread_csv\u001b[49m\u001b[43m(\u001b[49m\u001b[43mp2\u001b[49m\u001b[43m,\u001b[49m\u001b[43m \u001b[49m\u001b[43msep\u001b[49m\u001b[38;5;241;43m=\u001b[39;49m\u001b[38;5;124;43m\"\u001b[39;49m\u001b[38;5;124;43m;\u001b[39;49m\u001b[38;5;124;43m\"\u001b[39;49m\u001b[43m)\u001b[49m\n\u001b[1;32m      3\u001b[0m d3 \u001b[38;5;241m=\u001b[39m pd\u001b[38;5;241m.\u001b[39mread_csv(p3, sep\u001b[38;5;241m=\u001b[39m\u001b[38;5;124m\"\u001b[39m\u001b[38;5;124m;\u001b[39m\u001b[38;5;124m\"\u001b[39m)\n\u001b[1;32m      4\u001b[0m d4 \u001b[38;5;241m=\u001b[39m pd\u001b[38;5;241m.\u001b[39mread_csv(p4, sep\u001b[38;5;241m=\u001b[39m\u001b[38;5;124m\"\u001b[39m\u001b[38;5;124m;\u001b[39m\u001b[38;5;124m\"\u001b[39m)\n",
      "File \u001b[0;32m~/data/conda/envs/sdm_sandbox/lib/python3.9/site-packages/pandas/io/parsers/readers.py:1026\u001b[0m, in \u001b[0;36mread_csv\u001b[0;34m(filepath_or_buffer, sep, delimiter, header, names, index_col, usecols, dtype, engine, converters, true_values, false_values, skipinitialspace, skiprows, skipfooter, nrows, na_values, keep_default_na, na_filter, verbose, skip_blank_lines, parse_dates, infer_datetime_format, keep_date_col, date_parser, date_format, dayfirst, cache_dates, iterator, chunksize, compression, thousands, decimal, lineterminator, quotechar, quoting, doublequote, escapechar, comment, encoding, encoding_errors, dialect, on_bad_lines, delim_whitespace, low_memory, memory_map, float_precision, storage_options, dtype_backend)\u001b[0m\n\u001b[1;32m   1013\u001b[0m kwds_defaults \u001b[38;5;241m=\u001b[39m _refine_defaults_read(\n\u001b[1;32m   1014\u001b[0m     dialect,\n\u001b[1;32m   1015\u001b[0m     delimiter,\n\u001b[0;32m   (...)\u001b[0m\n\u001b[1;32m   1022\u001b[0m     dtype_backend\u001b[38;5;241m=\u001b[39mdtype_backend,\n\u001b[1;32m   1023\u001b[0m )\n\u001b[1;32m   1024\u001b[0m kwds\u001b[38;5;241m.\u001b[39mupdate(kwds_defaults)\n\u001b[0;32m-> 1026\u001b[0m \u001b[38;5;28;01mreturn\u001b[39;00m \u001b[43m_read\u001b[49m\u001b[43m(\u001b[49m\u001b[43mfilepath_or_buffer\u001b[49m\u001b[43m,\u001b[49m\u001b[43m \u001b[49m\u001b[43mkwds\u001b[49m\u001b[43m)\u001b[49m\n",
      "File \u001b[0;32m~/data/conda/envs/sdm_sandbox/lib/python3.9/site-packages/pandas/io/parsers/readers.py:620\u001b[0m, in \u001b[0;36m_read\u001b[0;34m(filepath_or_buffer, kwds)\u001b[0m\n\u001b[1;32m    617\u001b[0m _validate_names(kwds\u001b[38;5;241m.\u001b[39mget(\u001b[38;5;124m\"\u001b[39m\u001b[38;5;124mnames\u001b[39m\u001b[38;5;124m\"\u001b[39m, \u001b[38;5;28;01mNone\u001b[39;00m))\n\u001b[1;32m    619\u001b[0m \u001b[38;5;66;03m# Create the parser.\u001b[39;00m\n\u001b[0;32m--> 620\u001b[0m parser \u001b[38;5;241m=\u001b[39m \u001b[43mTextFileReader\u001b[49m\u001b[43m(\u001b[49m\u001b[43mfilepath_or_buffer\u001b[49m\u001b[43m,\u001b[49m\u001b[43m \u001b[49m\u001b[38;5;241;43m*\u001b[39;49m\u001b[38;5;241;43m*\u001b[39;49m\u001b[43mkwds\u001b[49m\u001b[43m)\u001b[49m\n\u001b[1;32m    622\u001b[0m \u001b[38;5;28;01mif\u001b[39;00m chunksize \u001b[38;5;129;01mor\u001b[39;00m iterator:\n\u001b[1;32m    623\u001b[0m     \u001b[38;5;28;01mreturn\u001b[39;00m parser\n",
      "File \u001b[0;32m~/data/conda/envs/sdm_sandbox/lib/python3.9/site-packages/pandas/io/parsers/readers.py:1620\u001b[0m, in \u001b[0;36mTextFileReader.__init__\u001b[0;34m(self, f, engine, **kwds)\u001b[0m\n\u001b[1;32m   1617\u001b[0m     \u001b[38;5;28mself\u001b[39m\u001b[38;5;241m.\u001b[39moptions[\u001b[38;5;124m\"\u001b[39m\u001b[38;5;124mhas_index_names\u001b[39m\u001b[38;5;124m\"\u001b[39m] \u001b[38;5;241m=\u001b[39m kwds[\u001b[38;5;124m\"\u001b[39m\u001b[38;5;124mhas_index_names\u001b[39m\u001b[38;5;124m\"\u001b[39m]\n\u001b[1;32m   1619\u001b[0m \u001b[38;5;28mself\u001b[39m\u001b[38;5;241m.\u001b[39mhandles: IOHandles \u001b[38;5;241m|\u001b[39m \u001b[38;5;28;01mNone\u001b[39;00m \u001b[38;5;241m=\u001b[39m \u001b[38;5;28;01mNone\u001b[39;00m\n\u001b[0;32m-> 1620\u001b[0m \u001b[38;5;28mself\u001b[39m\u001b[38;5;241m.\u001b[39m_engine \u001b[38;5;241m=\u001b[39m \u001b[38;5;28;43mself\u001b[39;49m\u001b[38;5;241;43m.\u001b[39;49m\u001b[43m_make_engine\u001b[49m\u001b[43m(\u001b[49m\u001b[43mf\u001b[49m\u001b[43m,\u001b[49m\u001b[43m \u001b[49m\u001b[38;5;28;43mself\u001b[39;49m\u001b[38;5;241;43m.\u001b[39;49m\u001b[43mengine\u001b[49m\u001b[43m)\u001b[49m\n",
      "File \u001b[0;32m~/data/conda/envs/sdm_sandbox/lib/python3.9/site-packages/pandas/io/parsers/readers.py:1880\u001b[0m, in \u001b[0;36mTextFileReader._make_engine\u001b[0;34m(self, f, engine)\u001b[0m\n\u001b[1;32m   1878\u001b[0m     \u001b[38;5;28;01mif\u001b[39;00m \u001b[38;5;124m\"\u001b[39m\u001b[38;5;124mb\u001b[39m\u001b[38;5;124m\"\u001b[39m \u001b[38;5;129;01mnot\u001b[39;00m \u001b[38;5;129;01min\u001b[39;00m mode:\n\u001b[1;32m   1879\u001b[0m         mode \u001b[38;5;241m+\u001b[39m\u001b[38;5;241m=\u001b[39m \u001b[38;5;124m\"\u001b[39m\u001b[38;5;124mb\u001b[39m\u001b[38;5;124m\"\u001b[39m\n\u001b[0;32m-> 1880\u001b[0m \u001b[38;5;28mself\u001b[39m\u001b[38;5;241m.\u001b[39mhandles \u001b[38;5;241m=\u001b[39m \u001b[43mget_handle\u001b[49m\u001b[43m(\u001b[49m\n\u001b[1;32m   1881\u001b[0m \u001b[43m    \u001b[49m\u001b[43mf\u001b[49m\u001b[43m,\u001b[49m\n\u001b[1;32m   1882\u001b[0m \u001b[43m    \u001b[49m\u001b[43mmode\u001b[49m\u001b[43m,\u001b[49m\n\u001b[1;32m   1883\u001b[0m \u001b[43m    \u001b[49m\u001b[43mencoding\u001b[49m\u001b[38;5;241;43m=\u001b[39;49m\u001b[38;5;28;43mself\u001b[39;49m\u001b[38;5;241;43m.\u001b[39;49m\u001b[43moptions\u001b[49m\u001b[38;5;241;43m.\u001b[39;49m\u001b[43mget\u001b[49m\u001b[43m(\u001b[49m\u001b[38;5;124;43m\"\u001b[39;49m\u001b[38;5;124;43mencoding\u001b[39;49m\u001b[38;5;124;43m\"\u001b[39;49m\u001b[43m,\u001b[49m\u001b[43m \u001b[49m\u001b[38;5;28;43;01mNone\u001b[39;49;00m\u001b[43m)\u001b[49m\u001b[43m,\u001b[49m\n\u001b[1;32m   1884\u001b[0m \u001b[43m    \u001b[49m\u001b[43mcompression\u001b[49m\u001b[38;5;241;43m=\u001b[39;49m\u001b[38;5;28;43mself\u001b[39;49m\u001b[38;5;241;43m.\u001b[39;49m\u001b[43moptions\u001b[49m\u001b[38;5;241;43m.\u001b[39;49m\u001b[43mget\u001b[49m\u001b[43m(\u001b[49m\u001b[38;5;124;43m\"\u001b[39;49m\u001b[38;5;124;43mcompression\u001b[39;49m\u001b[38;5;124;43m\"\u001b[39;49m\u001b[43m,\u001b[49m\u001b[43m \u001b[49m\u001b[38;5;28;43;01mNone\u001b[39;49;00m\u001b[43m)\u001b[49m\u001b[43m,\u001b[49m\n\u001b[1;32m   1885\u001b[0m \u001b[43m    \u001b[49m\u001b[43mmemory_map\u001b[49m\u001b[38;5;241;43m=\u001b[39;49m\u001b[38;5;28;43mself\u001b[39;49m\u001b[38;5;241;43m.\u001b[39;49m\u001b[43moptions\u001b[49m\u001b[38;5;241;43m.\u001b[39;49m\u001b[43mget\u001b[49m\u001b[43m(\u001b[49m\u001b[38;5;124;43m\"\u001b[39;49m\u001b[38;5;124;43mmemory_map\u001b[39;49m\u001b[38;5;124;43m\"\u001b[39;49m\u001b[43m,\u001b[49m\u001b[43m \u001b[49m\u001b[38;5;28;43;01mFalse\u001b[39;49;00m\u001b[43m)\u001b[49m\u001b[43m,\u001b[49m\n\u001b[1;32m   1886\u001b[0m \u001b[43m    \u001b[49m\u001b[43mis_text\u001b[49m\u001b[38;5;241;43m=\u001b[39;49m\u001b[43mis_text\u001b[49m\u001b[43m,\u001b[49m\n\u001b[1;32m   1887\u001b[0m \u001b[43m    \u001b[49m\u001b[43merrors\u001b[49m\u001b[38;5;241;43m=\u001b[39;49m\u001b[38;5;28;43mself\u001b[39;49m\u001b[38;5;241;43m.\u001b[39;49m\u001b[43moptions\u001b[49m\u001b[38;5;241;43m.\u001b[39;49m\u001b[43mget\u001b[49m\u001b[43m(\u001b[49m\u001b[38;5;124;43m\"\u001b[39;49m\u001b[38;5;124;43mencoding_errors\u001b[39;49m\u001b[38;5;124;43m\"\u001b[39;49m\u001b[43m,\u001b[49m\u001b[43m \u001b[49m\u001b[38;5;124;43m\"\u001b[39;49m\u001b[38;5;124;43mstrict\u001b[39;49m\u001b[38;5;124;43m\"\u001b[39;49m\u001b[43m)\u001b[49m\u001b[43m,\u001b[49m\n\u001b[1;32m   1888\u001b[0m \u001b[43m    \u001b[49m\u001b[43mstorage_options\u001b[49m\u001b[38;5;241;43m=\u001b[39;49m\u001b[38;5;28;43mself\u001b[39;49m\u001b[38;5;241;43m.\u001b[39;49m\u001b[43moptions\u001b[49m\u001b[38;5;241;43m.\u001b[39;49m\u001b[43mget\u001b[49m\u001b[43m(\u001b[49m\u001b[38;5;124;43m\"\u001b[39;49m\u001b[38;5;124;43mstorage_options\u001b[39;49m\u001b[38;5;124;43m\"\u001b[39;49m\u001b[43m,\u001b[49m\u001b[43m \u001b[49m\u001b[38;5;28;43;01mNone\u001b[39;49;00m\u001b[43m)\u001b[49m\u001b[43m,\u001b[49m\n\u001b[1;32m   1889\u001b[0m \u001b[43m\u001b[49m\u001b[43m)\u001b[49m\n\u001b[1;32m   1890\u001b[0m \u001b[38;5;28;01massert\u001b[39;00m \u001b[38;5;28mself\u001b[39m\u001b[38;5;241m.\u001b[39mhandles \u001b[38;5;129;01mis\u001b[39;00m \u001b[38;5;129;01mnot\u001b[39;00m \u001b[38;5;28;01mNone\u001b[39;00m\n\u001b[1;32m   1891\u001b[0m f \u001b[38;5;241m=\u001b[39m \u001b[38;5;28mself\u001b[39m\u001b[38;5;241m.\u001b[39mhandles\u001b[38;5;241m.\u001b[39mhandle\n",
      "File \u001b[0;32m~/data/conda/envs/sdm_sandbox/lib/python3.9/site-packages/pandas/io/common.py:873\u001b[0m, in \u001b[0;36mget_handle\u001b[0;34m(path_or_buf, mode, encoding, compression, memory_map, is_text, errors, storage_options)\u001b[0m\n\u001b[1;32m    868\u001b[0m \u001b[38;5;28;01melif\u001b[39;00m \u001b[38;5;28misinstance\u001b[39m(handle, \u001b[38;5;28mstr\u001b[39m):\n\u001b[1;32m    869\u001b[0m     \u001b[38;5;66;03m# Check whether the filename is to be opened in binary mode.\u001b[39;00m\n\u001b[1;32m    870\u001b[0m     \u001b[38;5;66;03m# Binary mode does not support 'encoding' and 'newline'.\u001b[39;00m\n\u001b[1;32m    871\u001b[0m     \u001b[38;5;28;01mif\u001b[39;00m ioargs\u001b[38;5;241m.\u001b[39mencoding \u001b[38;5;129;01mand\u001b[39;00m \u001b[38;5;124m\"\u001b[39m\u001b[38;5;124mb\u001b[39m\u001b[38;5;124m\"\u001b[39m \u001b[38;5;129;01mnot\u001b[39;00m \u001b[38;5;129;01min\u001b[39;00m ioargs\u001b[38;5;241m.\u001b[39mmode:\n\u001b[1;32m    872\u001b[0m         \u001b[38;5;66;03m# Encoding\u001b[39;00m\n\u001b[0;32m--> 873\u001b[0m         handle \u001b[38;5;241m=\u001b[39m \u001b[38;5;28;43mopen\u001b[39;49m\u001b[43m(\u001b[49m\n\u001b[1;32m    874\u001b[0m \u001b[43m            \u001b[49m\u001b[43mhandle\u001b[49m\u001b[43m,\u001b[49m\n\u001b[1;32m    875\u001b[0m \u001b[43m            \u001b[49m\u001b[43mioargs\u001b[49m\u001b[38;5;241;43m.\u001b[39;49m\u001b[43mmode\u001b[49m\u001b[43m,\u001b[49m\n\u001b[1;32m    876\u001b[0m \u001b[43m            \u001b[49m\u001b[43mencoding\u001b[49m\u001b[38;5;241;43m=\u001b[39;49m\u001b[43mioargs\u001b[49m\u001b[38;5;241;43m.\u001b[39;49m\u001b[43mencoding\u001b[49m\u001b[43m,\u001b[49m\n\u001b[1;32m    877\u001b[0m \u001b[43m            \u001b[49m\u001b[43merrors\u001b[49m\u001b[38;5;241;43m=\u001b[39;49m\u001b[43merrors\u001b[49m\u001b[43m,\u001b[49m\n\u001b[1;32m    878\u001b[0m \u001b[43m            \u001b[49m\u001b[43mnewline\u001b[49m\u001b[38;5;241;43m=\u001b[39;49m\u001b[38;5;124;43m\"\u001b[39;49m\u001b[38;5;124;43m\"\u001b[39;49m\u001b[43m,\u001b[49m\n\u001b[1;32m    879\u001b[0m \u001b[43m        \u001b[49m\u001b[43m)\u001b[49m\n\u001b[1;32m    880\u001b[0m     \u001b[38;5;28;01melse\u001b[39;00m:\n\u001b[1;32m    881\u001b[0m         \u001b[38;5;66;03m# Binary mode\u001b[39;00m\n\u001b[1;32m    882\u001b[0m         handle \u001b[38;5;241m=\u001b[39m \u001b[38;5;28mopen\u001b[39m(handle, ioargs\u001b[38;5;241m.\u001b[39mmode)\n",
      "\u001b[0;31mFileNotFoundError\u001b[0m: [Errno 2] No such file or directory: '/shares/wegner.ics.uzh/glc23_data/po_none_1000.csv'"
     ]
    }
   ],
   "source": [
    "d1 = pd.read_csv(p1, sep=\";\")\n",
    "d2 = pd.read_csv(p2, sep=\";\")\n",
    "d3 = pd.read_csv(p3, sep=\";\")\n",
    "d4 = pd.read_csv(p4, sep=\";\")"
   ]
  },
  {
   "cell_type": "code",
   "execution_count": 6,
   "id": "4b895dee-b64d-4e93-ae36-c5d235a715f0",
   "metadata": {
    "execution": {
     "iopub.execute_input": "2024-06-12T09:29:05.894722Z",
     "iopub.status.busy": "2024-06-12T09:29:05.894181Z",
     "iopub.status.idle": "2024-06-12T09:29:12.668590Z",
     "shell.execute_reply": "2024-06-12T09:29:12.667887Z",
     "shell.execute_reply.started": "2024-06-12T09:29:05.894698Z"
    }
   },
   "outputs": [],
   "source": [
    "po_ds = pd.read_csv(po_path, sep=\";\")\n",
    "pa_ds = pd.read_csv(pa_dataset_path, sep=\";\")"
   ]
  },
  {
   "cell_type": "code",
   "execution_count": null,
   "id": "3e15d1e5-1e9f-412e-8f46-ef19a9083e72",
   "metadata": {},
   "outputs": [],
   "source": [
    "pa_ds24 = pd.read_csv(pa24_path, sep=\",\")\n",
    "po_ds24 = pd.read_csv(po24_path, sep=\",\")"
   ]
  },
  {
   "cell_type": "markdown",
   "id": "294b9d5c-94d6-43c6-aa15-697ee9ab002e",
   "metadata": {},
   "source": [
    "### Deciding on the val/test partition"
   ]
  },
  {
   "cell_type": "code",
   "execution_count": 17,
   "id": "db52dbfe-377e-43de-a8fc-51f9ee6e28de",
   "metadata": {
    "execution": {
     "iopub.execute_input": "2024-06-12T09:58:29.950104Z",
     "iopub.status.busy": "2024-06-12T09:58:29.949677Z",
     "iopub.status.idle": "2024-06-12T09:58:29.953672Z",
     "shell.execute_reply": "2024-06-12T09:58:29.953194Z",
     "shell.execute_reply.started": "2024-06-12T09:58:29.950081Z"
    }
   },
   "outputs": [
    {
     "data": {
      "text/plain": [
       "4908319"
      ]
     },
     "execution_count": 17,
     "metadata": {},
     "output_type": "execute_result"
    }
   ],
   "source": [
    "len(po_ds)"
   ]
  },
  {
   "cell_type": "code",
   "execution_count": 18,
   "id": "162d6556-1f2a-498a-b724-ef68ef2e25c8",
   "metadata": {
    "execution": {
     "iopub.execute_input": "2024-06-12T09:58:37.097244Z",
     "iopub.status.busy": "2024-06-12T09:58:37.096706Z",
     "iopub.status.idle": "2024-06-12T09:58:37.100916Z",
     "shell.execute_reply": "2024-06-12T09:58:37.100387Z",
     "shell.execute_reply.started": "2024-06-12T09:58:37.097220Z"
    }
   },
   "outputs": [
    {
     "data": {
      "text/plain": [
       "85325"
      ]
     },
     "execution_count": 18,
     "metadata": {},
     "output_type": "execute_result"
    }
   ],
   "source": [
    "len(pa_ds)"
   ]
  },
  {
   "cell_type": "code",
   "execution_count": 50,
   "id": "cc9f048e-1cc9-4cb7-9b94-c88821db3834",
   "metadata": {
    "execution": {
     "iopub.execute_input": "2024-06-12T10:27:10.674661Z",
     "iopub.status.busy": "2024-06-12T10:27:10.674139Z",
     "iopub.status.idle": "2024-06-12T10:27:10.690490Z",
     "shell.execute_reply": "2024-06-12T10:27:10.689743Z",
     "shell.execute_reply.started": "2024-06-12T10:27:10.674640Z"
    }
   },
   "outputs": [],
   "source": [
    "val, test = train_test_split(pa_ds, test_size=0.4, random_state=20)\n",
    "val_ids = val[\"speciesId\"].unique()\n",
    "test_ids = test[\"speciesId\"].unique()"
   ]
  },
  {
   "cell_type": "code",
   "execution_count": 51,
   "id": "942d553c-c38a-4d61-8950-e52ce0ebdb61",
   "metadata": {
    "execution": {
     "iopub.execute_input": "2024-06-12T10:27:12.344322Z",
     "iopub.status.busy": "2024-06-12T10:27:12.343773Z",
     "iopub.status.idle": "2024-06-12T10:27:12.375189Z",
     "shell.execute_reply": "2024-06-12T10:27:12.374611Z",
     "shell.execute_reply.started": "2024-06-12T10:27:12.344298Z"
    }
   },
   "outputs": [],
   "source": [
    "bins = [0, 10, 20, 60, 100, 500, 1000, 5000]\n",
    "species_counts = po_ds[\"speciesId\"].value_counts()\n",
    "grouped_species_ids = pd.cut(species_counts, bins=bins, labels=[f'{start}-{end}' for start, end in zip(bins[:-1], bins[1:])])"
   ]
  },
  {
   "cell_type": "code",
   "execution_count": 52,
   "id": "7080809d-0370-4530-95ff-7f710cec4c8b",
   "metadata": {
    "execution": {
     "iopub.execute_input": "2024-06-12T10:27:13.208181Z",
     "iopub.status.busy": "2024-06-12T10:27:13.207634Z",
     "iopub.status.idle": "2024-06-12T10:27:13.213004Z",
     "shell.execute_reply": "2024-06-12T10:27:13.212487Z",
     "shell.execute_reply.started": "2024-06-12T10:27:13.208157Z"
    }
   },
   "outputs": [],
   "source": [
    "ids_dic = {}\n",
    "for bin in grouped_species_ids.unique():\n",
    "    ids_dic[bin] = grouped_species_ids[grouped_species_ids==bin].index\\\n",
    "        .to_list()"
   ]
  },
  {
   "cell_type": "code",
   "execution_count": 53,
   "id": "297dfc0e-b5a0-4933-955b-38b0de4ef908",
   "metadata": {
    "execution": {
     "iopub.execute_input": "2024-06-12T10:27:31.551113Z",
     "iopub.status.busy": "2024-06-12T10:27:31.550568Z",
     "iopub.status.idle": "2024-06-12T10:27:31.560659Z",
     "shell.execute_reply": "2024-06-12T10:27:31.560143Z",
     "shell.execute_reply.started": "2024-06-12T10:27:31.551088Z"
    }
   },
   "outputs": [],
   "source": [
    "summary = {}\n",
    "train_counts = {}\n",
    "val_counts = {}\n",
    "test_counts = {}\n",
    "\n",
    "for range, ids in ids_dic.items():\n",
    "    # ensure that we only calculate the f1 for the species that are in the test set\n",
    "    int_val_ids= list(set(ids).intersection(set(val_ids)))\n",
    "    int_test_ids = list(set(ids).intersection(set(test_ids)))\n",
    "    train_counts[range] = len(ids)\n",
    "    val_counts[range] = len(int_val_ids)\n",
    "    test_counts[range] = len(int_test_ids)"
   ]
  },
  {
   "cell_type": "code",
   "execution_count": 55,
   "id": "51459bbf-532f-498a-9011-8dd03deaca87",
   "metadata": {
    "execution": {
     "iopub.execute_input": "2024-06-12T10:28:05.807987Z",
     "iopub.status.busy": "2024-06-12T10:28:05.807539Z",
     "iopub.status.idle": "2024-06-12T10:28:05.815144Z",
     "shell.execute_reply": "2024-06-12T10:28:05.814715Z",
     "shell.execute_reply.started": "2024-06-12T10:28:05.807963Z"
    }
   },
   "outputs": [
    {
     "data": {
      "text/html": [
       "<div>\n",
       "<style scoped>\n",
       "    .dataframe tbody tr th:only-of-type {\n",
       "        vertical-align: middle;\n",
       "    }\n",
       "\n",
       "    .dataframe tbody tr th {\n",
       "        vertical-align: top;\n",
       "    }\n",
       "\n",
       "    .dataframe thead th {\n",
       "        text-align: right;\n",
       "    }\n",
       "</style>\n",
       "<table border=\"1\" class=\"dataframe\">\n",
       "  <thead>\n",
       "    <tr style=\"text-align: right;\">\n",
       "      <th></th>\n",
       "      <th>1000-5000</th>\n",
       "      <th>500-1000</th>\n",
       "      <th>100-500</th>\n",
       "      <th>60-100</th>\n",
       "      <th>20-60</th>\n",
       "      <th>10-20</th>\n",
       "      <th>0-10</th>\n",
       "    </tr>\n",
       "  </thead>\n",
       "  <tbody>\n",
       "    <tr>\n",
       "      <th>train</th>\n",
       "      <td>1319</td>\n",
       "      <td>440</td>\n",
       "      <td>1313</td>\n",
       "      <td>435</td>\n",
       "      <td>1202</td>\n",
       "      <td>860</td>\n",
       "      <td>4469</td>\n",
       "    </tr>\n",
       "    <tr>\n",
       "      <th>val</th>\n",
       "      <td>931</td>\n",
       "      <td>191</td>\n",
       "      <td>382</td>\n",
       "      <td>79</td>\n",
       "      <td>161</td>\n",
       "      <td>74</td>\n",
       "      <td>196</td>\n",
       "    </tr>\n",
       "    <tr>\n",
       "      <th>test</th>\n",
       "      <td>873</td>\n",
       "      <td>173</td>\n",
       "      <td>325</td>\n",
       "      <td>75</td>\n",
       "      <td>129</td>\n",
       "      <td>62</td>\n",
       "      <td>160</td>\n",
       "    </tr>\n",
       "  </tbody>\n",
       "</table>\n",
       "</div>"
      ],
      "text/plain": [
       "       1000-5000  500-1000  100-500  60-100  20-60  10-20  0-10\n",
       "train       1319       440     1313     435   1202    860  4469\n",
       "val          931       191      382      79    161     74   196\n",
       "test         873       173      325      75    129     62   160"
      ]
     },
     "execution_count": 55,
     "metadata": {},
     "output_type": "execute_result"
    }
   ],
   "source": [
    "pd.DataFrame([train_counts, val_counts, test_counts], index=[\"train\", \"val\", \"test\"])"
   ]
  },
  {
   "cell_type": "markdown",
   "id": "5a5b1220-bac2-4cab-b936-ea8138c599e4",
   "metadata": {},
   "source": [
    "### Intersection between datasets"
   ]
  },
  {
   "cell_type": "code",
   "execution_count": 6,
   "id": "c45f7a12-688a-4758-abf6-c77122b389d0",
   "metadata": {
    "execution": {
     "iopub.execute_input": "2024-06-11T14:59:03.860055Z",
     "iopub.status.busy": "2024-06-11T14:59:03.859546Z",
     "iopub.status.idle": "2024-06-11T14:59:04.201925Z",
     "shell.execute_reply": "2024-06-11T14:59:04.201463Z",
     "shell.execute_reply.started": "2024-06-11T14:59:03.860025Z"
    }
   },
   "outputs": [
    {
     "data": {
      "text/plain": [
       "7864"
      ]
     },
     "execution_count": 6,
     "metadata": {},
     "output_type": "execute_result"
    }
   ],
   "source": [
    "len(set(po_ds[\"speciesId\"]) - set(pa_ds[\"speciesId\"]))"
   ]
  },
  {
   "cell_type": "code",
   "execution_count": 13,
   "id": "fbbe02a0-4b25-47da-a19f-f200a3e62b44",
   "metadata": {
    "execution": {
     "iopub.execute_input": "2024-06-11T15:00:07.793883Z",
     "iopub.status.busy": "2024-06-11T15:00:07.793564Z",
     "iopub.status.idle": "2024-06-11T15:00:08.147318Z",
     "shell.execute_reply": "2024-06-11T15:00:08.146453Z",
     "shell.execute_reply.started": "2024-06-11T15:00:07.793859Z"
    }
   },
   "outputs": [
    {
     "data": {
      "text/plain": [
       "7864"
      ]
     },
     "execution_count": 13,
     "metadata": {},
     "output_type": "execute_result"
    }
   ],
   "source": [
    "len(set(po_ds[\"speciesId\"]) - set(pa_ds[\"speciesId\"]))"
   ]
  },
  {
   "cell_type": "code",
   "execution_count": 14,
   "id": "e05289db-bd76-418d-8bd8-6a2dfead1044",
   "metadata": {
    "execution": {
     "iopub.execute_input": "2024-06-11T15:00:09.995536Z",
     "iopub.status.busy": "2024-06-11T15:00:09.994619Z",
     "iopub.status.idle": "2024-06-11T15:00:10.344957Z",
     "shell.execute_reply": "2024-06-11T15:00:10.344138Z",
     "shell.execute_reply.started": "2024-06-11T15:00:09.995506Z"
    },
    "scrolled": true
   },
   "outputs": [
    {
     "data": {
      "text/plain": [
       "2174"
      ]
     },
     "execution_count": 14,
     "metadata": {},
     "output_type": "execute_result"
    }
   ],
   "source": [
    "len(set(po_ds[\"speciesId\"]).intersection(set(pa_ds[\"speciesId\"])))"
   ]
  },
  {
   "cell_type": "code",
   "execution_count": 15,
   "id": "e2560afd-5e8e-4caa-8def-8fba4c577e6d",
   "metadata": {
    "execution": {
     "iopub.execute_input": "2024-06-11T15:00:15.418789Z",
     "iopub.status.busy": "2024-06-11T15:00:15.418522Z",
     "iopub.status.idle": "2024-06-11T15:00:15.889991Z",
     "shell.execute_reply": "2024-06-11T15:00:15.889244Z",
     "shell.execute_reply.started": "2024-06-11T15:00:15.418769Z"
    }
   },
   "outputs": [
    {
     "data": {
      "text/plain": [
       "4454"
      ]
     },
     "execution_count": 15,
     "metadata": {},
     "output_type": "execute_result"
    }
   ],
   "source": [
    "len(set(po_ds[\"speciesId\"]).intersection(set(pa_ds24[\"speciesId\"])))"
   ]
  },
  {
   "cell_type": "code",
   "execution_count": 20,
   "id": "1252b8a8-e142-43fa-a2f7-ff7111684797",
   "metadata": {
    "execution": {
     "iopub.execute_input": "2024-06-11T15:10:36.657708Z",
     "iopub.status.busy": "2024-06-11T15:10:36.657247Z",
     "iopub.status.idle": "2024-06-11T15:10:37.412901Z",
     "shell.execute_reply": "2024-06-11T15:10:37.412386Z",
     "shell.execute_reply.started": "2024-06-11T15:10:36.657685Z"
    }
   },
   "outputs": [
    {
     "data": {
      "text/plain": [
       "8666"
      ]
     },
     "execution_count": 20,
     "metadata": {},
     "output_type": "execute_result"
    }
   ],
   "source": [
    "len(set(po_ds[\"speciesId\"]).intersection(set(po_ds24[\"speciesId\"])))"
   ]
  },
  {
   "cell_type": "code",
   "execution_count": 26,
   "id": "c184bbf6-777d-4788-96ea-03c44913e3dc",
   "metadata": {
    "execution": {
     "iopub.execute_input": "2024-06-07T12:39:54.952542Z",
     "iopub.status.busy": "2024-06-07T12:39:54.951805Z",
     "iopub.status.idle": "2024-06-07T12:39:54.963626Z",
     "shell.execute_reply": "2024-06-07T12:39:54.963014Z",
     "shell.execute_reply.started": "2024-06-07T12:39:54.952517Z"
    }
   },
   "outputs": [
    {
     "data": {
      "text/plain": [
       "2174"
      ]
     },
     "execution_count": 26,
     "metadata": {},
     "output_type": "execute_result"
    }
   ],
   "source": [
    "len(set(pa_ds[\"speciesId\"]))"
   ]
  },
  {
   "cell_type": "code",
   "execution_count": 21,
   "id": "a021e9e1-69e7-4fe6-a4fb-c9cc86406f1f",
   "metadata": {
    "execution": {
     "iopub.execute_input": "2024-06-11T15:10:56.040953Z",
     "iopub.status.busy": "2024-06-11T15:10:56.040070Z",
     "iopub.status.idle": "2024-06-11T15:10:56.166221Z",
     "shell.execute_reply": "2024-06-11T15:10:56.165751Z",
     "shell.execute_reply.started": "2024-06-11T15:10:56.040931Z"
    }
   },
   "outputs": [
    {
     "data": {
      "text/plain": [
       "5016"
      ]
     },
     "execution_count": 21,
     "metadata": {},
     "output_type": "execute_result"
    }
   ],
   "source": [
    "len(set(pa_ds24[\"speciesId\"]))"
   ]
  },
  {
   "cell_type": "code",
   "execution_count": 23,
   "id": "b0678592-c521-4ed3-b7f4-fd10c91fbb31",
   "metadata": {
    "execution": {
     "iopub.execute_input": "2024-06-11T15:11:11.945067Z",
     "iopub.status.busy": "2024-06-11T15:11:11.944123Z",
     "iopub.status.idle": "2024-06-11T15:11:12.294276Z",
     "shell.execute_reply": "2024-06-11T15:11:12.293605Z",
     "shell.execute_reply.started": "2024-06-11T15:11:11.945042Z"
    }
   },
   "outputs": [
    {
     "data": {
      "text/plain": [
       "10038"
      ]
     },
     "execution_count": 23,
     "metadata": {},
     "output_type": "execute_result"
    }
   ],
   "source": [
    "len(set(po_ds[\"speciesId\"]))"
   ]
  },
  {
   "cell_type": "code",
   "execution_count": 24,
   "id": "3d93b9fe-8d8a-47ed-a824-eab23e54d143",
   "metadata": {
    "execution": {
     "iopub.execute_input": "2024-06-11T15:11:31.600981Z",
     "iopub.status.busy": "2024-06-11T15:11:31.600460Z",
     "iopub.status.idle": "2024-06-11T15:11:31.609770Z",
     "shell.execute_reply": "2024-06-11T15:11:31.609136Z",
     "shell.execute_reply.started": "2024-06-11T15:11:31.600959Z"
    }
   },
   "outputs": [
    {
     "data": {
      "text/plain": [
       "10039"
      ]
     },
     "execution_count": 24,
     "metadata": {},
     "output_type": "execute_result"
    }
   ],
   "source": [
    "po_ds[\"speciesId\"].max()"
   ]
  },
  {
   "cell_type": "code",
   "execution_count": 22,
   "id": "417f6f52-2fd6-4ee5-9b02-3bc638f6c265",
   "metadata": {
    "execution": {
     "iopub.execute_input": "2024-06-11T15:11:02.465581Z",
     "iopub.status.busy": "2024-06-11T15:11:02.465101Z",
     "iopub.status.idle": "2024-06-11T15:11:02.886799Z",
     "shell.execute_reply": "2024-06-11T15:11:02.886162Z",
     "shell.execute_reply.started": "2024-06-11T15:11:02.465560Z"
    }
   },
   "outputs": [
    {
     "data": {
      "text/plain": [
       "9709"
      ]
     },
     "execution_count": 22,
     "metadata": {},
     "output_type": "execute_result"
    }
   ],
   "source": [
    "len(set(po_ds24[\"speciesId\"]))"
   ]
  },
  {
   "cell_type": "code",
   "execution_count": 32,
   "id": "09d3e6fd-c204-4de5-a1cb-34a8af712a91",
   "metadata": {
    "execution": {
     "iopub.execute_input": "2024-06-11T15:17:23.917348Z",
     "iopub.status.busy": "2024-06-11T15:17:23.916822Z",
     "iopub.status.idle": "2024-06-11T15:17:23.933147Z",
     "shell.execute_reply": "2024-06-11T15:17:23.932519Z",
     "shell.execute_reply.started": "2024-06-11T15:17:23.917324Z"
    }
   },
   "outputs": [
    {
     "data": {
      "text/plain": [
       "0.0"
      ]
     },
     "execution_count": 32,
     "metadata": {},
     "output_type": "execute_result"
    }
   ],
   "source": [
    "po_ds24[\"speciesId\"].min()"
   ]
  },
  {
   "cell_type": "code",
   "execution_count": 33,
   "id": "d03e6f79-530a-4d55-b708-21e9089cd7e0",
   "metadata": {
    "execution": {
     "iopub.execute_input": "2024-06-11T15:17:53.078281Z",
     "iopub.status.busy": "2024-06-11T15:17:53.077535Z",
     "iopub.status.idle": "2024-06-11T15:17:53.086939Z",
     "shell.execute_reply": "2024-06-11T15:17:53.086247Z",
     "shell.execute_reply.started": "2024-06-11T15:17:53.078257Z"
    }
   },
   "outputs": [
    {
     "data": {
      "text/plain": [
       "2.0"
      ]
     },
     "execution_count": 33,
     "metadata": {},
     "output_type": "execute_result"
    }
   ],
   "source": [
    "pa_ds24[\"speciesId\"].min()"
   ]
  },
  {
   "cell_type": "code",
   "execution_count": 34,
   "id": "efd69655-aeff-4e12-b74e-16d283928364",
   "metadata": {
    "execution": {
     "iopub.execute_input": "2024-06-11T15:17:59.389334Z",
     "iopub.status.busy": "2024-06-11T15:17:59.388278Z",
     "iopub.status.idle": "2024-06-11T15:17:59.397114Z",
     "shell.execute_reply": "2024-06-11T15:17:59.396445Z",
     "shell.execute_reply.started": "2024-06-11T15:17:59.389310Z"
    }
   },
   "outputs": [
    {
     "data": {
      "text/plain": [
       "11254.0"
      ]
     },
     "execution_count": 34,
     "metadata": {},
     "output_type": "execute_result"
    }
   ],
   "source": [
    "pa_ds24[\"speciesId\"].max()"
   ]
  },
  {
   "cell_type": "code",
   "execution_count": 16,
   "id": "acb51aba-5571-4cea-9676-ddcd6f25e857",
   "metadata": {
    "execution": {
     "iopub.execute_input": "2024-06-11T15:05:37.125460Z",
     "iopub.status.busy": "2024-06-11T15:05:37.124941Z",
     "iopub.status.idle": "2024-06-11T15:05:37.144127Z",
     "shell.execute_reply": "2024-06-11T15:05:37.143190Z",
     "shell.execute_reply.started": "2024-06-11T15:05:37.125437Z"
    }
   },
   "outputs": [
    {
     "data": {
      "text/plain": [
       "5016"
      ]
     },
     "execution_count": 16,
     "metadata": {},
     "output_type": "execute_result"
    }
   ],
   "source": [
    "len(pa_ds24[\"speciesId\"].unique())"
   ]
  },
  {
   "cell_type": "code",
   "execution_count": 35,
   "id": "b03c385a-443b-48ae-b462-b2815af82b59",
   "metadata": {
    "execution": {
     "iopub.execute_input": "2024-06-11T15:19:09.915668Z",
     "iopub.status.busy": "2024-06-11T15:19:09.915222Z",
     "iopub.status.idle": "2024-06-11T15:19:10.467917Z",
     "shell.execute_reply": "2024-06-11T15:19:10.467270Z",
     "shell.execute_reply.started": "2024-06-11T15:19:09.915646Z"
    }
   },
   "outputs": [
    {
     "data": {
      "text/plain": [
       "4367"
      ]
     },
     "execution_count": 35,
     "metadata": {},
     "output_type": "execute_result"
    }
   ],
   "source": [
    "len(set(pa_ds24[\"speciesId\"]).intersection(set(po_ds24[\"speciesId\"])))"
   ]
  },
  {
   "cell_type": "code",
   "execution_count": 25,
   "id": "f75c8aca-250d-425b-9774-aab813fa69c7",
   "metadata": {
    "execution": {
     "iopub.execute_input": "2024-06-11T15:12:21.226359Z",
     "iopub.status.busy": "2024-06-11T15:12:21.225765Z",
     "iopub.status.idle": "2024-06-11T15:12:21.239859Z",
     "shell.execute_reply": "2024-06-11T15:12:21.239131Z",
     "shell.execute_reply.started": "2024-06-11T15:12:21.226332Z"
    }
   },
   "outputs": [
    {
     "name": "stdout",
     "output_type": "stream",
     "text": [
      "glcID                           4813964\n",
      "gbifID                     3956390831.0\n",
      "observer                            NaN\n",
      "datasetName          Pl@ntNet automatic\n",
      "date                         2018-09-04\n",
      "dayOfYear                           247\n",
      "year                               2018\n",
      "lon                           -9.228707\n",
      "lat                            38.71163\n",
      "x_EPSG3035                    2657705.0\n",
      "y_EPSG3035                    1947568.0\n",
      "geoUncertaintyInM                 13.78\n",
      "speciesId                           265\n",
      "patchID                         3026669\n",
      "timeSerieID                        8808\n",
      "Name: 7975, dtype: object\n"
     ]
    }
   ],
   "source": [
    "# Code-Snippet to match GLC23 occurrence with gbif occurrence to retrieve the original species\n",
    "print(po_ds[po_ds[\"speciesId\"] == 265].iloc[0])"
   ]
  },
  {
   "cell_type": "code",
   "execution_count": 27,
   "id": "4cbef933-f14e-4ca9-b6ea-6aca1025d27d",
   "metadata": {
    "execution": {
     "iopub.execute_input": "2024-06-11T15:12:54.304725Z",
     "iopub.status.busy": "2024-06-11T15:12:54.304423Z",
     "iopub.status.idle": "2024-06-11T15:12:54.311003Z",
     "shell.execute_reply": "2024-06-11T15:12:54.310432Z",
     "shell.execute_reply.started": "2024-06-11T15:12:54.304688Z"
    }
   },
   "outputs": [
    {
     "name": "stdout",
     "output_type": "stream",
     "text": [
      "lon                        6.92167\n",
      "lat                      43.459111\n",
      "year                          2018\n",
      "geoUncertaintyInM              0.0\n",
      "areaInM2                      50.0\n",
      "region               MEDITERRANEAN\n",
      "country                     France\n",
      "speciesId                    265.0\n",
      "surveyId                     17269\n",
      "Name: 6038, dtype: object\n"
     ]
    }
   ],
   "source": [
    "print(pa_ds24[pa_ds24[\"speciesId\"] == 265].iloc[0])"
   ]
  },
  {
   "cell_type": "code",
   "execution_count": null,
   "id": "540a8a9f-f264-4b61-9065-ca24b623f599",
   "metadata": {},
   "outputs": [],
   "source": [
    "# Code-Snippet to match GLC23 occurrence with gbif occurrence to retrieve the original species\n",
    "print(dataset_file[dataset_file[\"speciesId\"] == 265].iloc[0])\n",
    "#import pygbif\n",
    "#pygbif.occurrences.get(key=3951621754)"
   ]
  },
  {
   "cell_type": "code",
   "execution_count": 29,
   "id": "3eed15bc-1ec9-4ff8-8661-8ab06dc99744",
   "metadata": {
    "execution": {
     "iopub.execute_input": "2024-06-11T15:14:21.689072Z",
     "iopub.status.busy": "2024-06-11T15:14:21.688511Z",
     "iopub.status.idle": "2024-06-11T15:14:27.721152Z",
     "shell.execute_reply": "2024-06-11T15:14:27.720542Z",
     "shell.execute_reply.started": "2024-06-11T15:14:21.689049Z"
    }
   },
   "outputs": [
    {
     "name": "stdout",
     "output_type": "stream",
     "text": [
      "Collecting pygbif\n",
      "  Downloading pygbif-0.6.4-py3-none-any.whl.metadata (12 kB)\n",
      "Requirement already satisfied: requests>2.7 in /data/jribas/conda/envs/sdm_sandbox/lib/python3.9/site-packages (from pygbif) (2.31.0)\n",
      "Collecting requests-cache (from pygbif)\n",
      "  Downloading requests_cache-1.2.0-py3-none-any.whl.metadata (9.9 kB)\n",
      "Collecting geojson-rewind (from pygbif)\n",
      "  Downloading geojson_rewind-1.1.0-py3-none-any.whl.metadata (4.5 kB)\n",
      "Collecting geomet (from pygbif)\n",
      "  Downloading geomet-1.1.0-py3-none-any.whl.metadata (11 kB)\n",
      "Requirement already satisfied: appdirs>=1.4.3 in /data/jribas/conda/envs/sdm_sandbox/lib/python3.9/site-packages (from pygbif) (1.4.4)\n",
      "Requirement already satisfied: matplotlib in /data/jribas/conda/envs/sdm_sandbox/lib/python3.9/site-packages (from pygbif) (3.8.4)\n",
      "Requirement already satisfied: charset-normalizer<4,>=2 in /data/jribas/conda/envs/sdm_sandbox/lib/python3.9/site-packages (from requests>2.7->pygbif) (3.3.2)\n",
      "Requirement already satisfied: idna<4,>=2.5 in /data/jribas/conda/envs/sdm_sandbox/lib/python3.9/site-packages (from requests>2.7->pygbif) (3.6)\n",
      "Requirement already satisfied: urllib3<3,>=1.21.1 in /data/jribas/conda/envs/sdm_sandbox/lib/python3.9/site-packages (from requests>2.7->pygbif) (2.2.1)\n",
      "Requirement already satisfied: certifi>=2017.4.17 in /data/jribas/conda/envs/sdm_sandbox/lib/python3.9/site-packages (from requests>2.7->pygbif) (2024.2.2)\n",
      "Requirement already satisfied: click in /data/jribas/conda/envs/sdm_sandbox/lib/python3.9/site-packages (from geomet->pygbif) (8.1.7)\n",
      "Requirement already satisfied: contourpy>=1.0.1 in /data/jribas/conda/envs/sdm_sandbox/lib/python3.9/site-packages (from matplotlib->pygbif) (1.2.1)\n",
      "Requirement already satisfied: cycler>=0.10 in /data/jribas/conda/envs/sdm_sandbox/lib/python3.9/site-packages (from matplotlib->pygbif) (0.12.1)\n",
      "Requirement already satisfied: fonttools>=4.22.0 in /data/jribas/conda/envs/sdm_sandbox/lib/python3.9/site-packages (from matplotlib->pygbif) (4.51.0)\n",
      "Requirement already satisfied: kiwisolver>=1.3.1 in /data/jribas/conda/envs/sdm_sandbox/lib/python3.9/site-packages (from matplotlib->pygbif) (1.4.5)\n",
      "Requirement already satisfied: numpy>=1.21 in /data/jribas/conda/envs/sdm_sandbox/lib/python3.9/site-packages (from matplotlib->pygbif) (1.26.4)\n",
      "Requirement already satisfied: packaging>=20.0 in /data/jribas/conda/envs/sdm_sandbox/lib/python3.9/site-packages (from matplotlib->pygbif) (24.0)\n",
      "Requirement already satisfied: pillow>=8 in /data/jribas/conda/envs/sdm_sandbox/lib/python3.9/site-packages (from matplotlib->pygbif) (10.2.0)\n",
      "Requirement already satisfied: pyparsing>=2.3.1 in /data/jribas/conda/envs/sdm_sandbox/lib/python3.9/site-packages (from matplotlib->pygbif) (3.1.2)\n",
      "Requirement already satisfied: python-dateutil>=2.7 in /data/jribas/conda/envs/sdm_sandbox/lib/python3.9/site-packages (from matplotlib->pygbif) (2.9.0.post0)\n",
      "Requirement already satisfied: importlib-resources>=3.2.0 in /data/jribas/conda/envs/sdm_sandbox/lib/python3.9/site-packages (from matplotlib->pygbif) (6.4.0)\n",
      "Requirement already satisfied: attrs>=21.2 in /data/jribas/conda/envs/sdm_sandbox/lib/python3.9/site-packages (from requests-cache->pygbif) (23.2.0)\n",
      "Collecting cattrs>=22.2 (from requests-cache->pygbif)\n",
      "  Downloading cattrs-23.2.3-py3-none-any.whl.metadata (10 kB)\n",
      "Requirement already satisfied: platformdirs>=2.5 in /data/jribas/conda/envs/sdm_sandbox/lib/python3.9/site-packages (from requests-cache->pygbif) (4.2.0)\n",
      "Collecting url-normalize>=1.4 (from requests-cache->pygbif)\n",
      "  Downloading url_normalize-1.4.3-py2.py3-none-any.whl.metadata (3.1 kB)\n",
      "Requirement already satisfied: exceptiongroup>=1.1.1 in /data/jribas/conda/envs/sdm_sandbox/lib/python3.9/site-packages (from cattrs>=22.2->requests-cache->pygbif) (1.2.0)\n",
      "Requirement already satisfied: typing-extensions!=4.6.3,>=4.1.0 in /data/jribas/conda/envs/sdm_sandbox/lib/python3.9/site-packages (from cattrs>=22.2->requests-cache->pygbif) (4.10.0)\n",
      "Requirement already satisfied: zipp>=3.1.0 in /data/jribas/conda/envs/sdm_sandbox/lib/python3.9/site-packages (from importlib-resources>=3.2.0->matplotlib->pygbif) (3.18.1)\n",
      "Requirement already satisfied: six>=1.5 in /data/jribas/conda/envs/sdm_sandbox/lib/python3.9/site-packages (from python-dateutil>=2.7->matplotlib->pygbif) (1.16.0)\n",
      "Downloading pygbif-0.6.4-py3-none-any.whl (64 kB)\n",
      "\u001b[2K   \u001b[90m━━━━━━━━━━━━━━━━━━━━━━━━━━━━━━━━━━━━━━━━\u001b[0m \u001b[32m64.3/64.3 kB\u001b[0m \u001b[31m2.9 MB/s\u001b[0m eta \u001b[36m0:00:00\u001b[0m\n",
      "\u001b[?25hDownloading geojson_rewind-1.1.0-py3-none-any.whl (5.2 kB)\n",
      "Downloading geomet-1.1.0-py3-none-any.whl (31 kB)\n",
      "Downloading requests_cache-1.2.0-py3-none-any.whl (61 kB)\n",
      "\u001b[2K   \u001b[90m━━━━━━━━━━━━━━━━━━━━━━━━━━━━━━━━━━━━━━━━\u001b[0m \u001b[32m61.4/61.4 kB\u001b[0m \u001b[31m3.6 MB/s\u001b[0m eta \u001b[36m0:00:00\u001b[0m\n",
      "\u001b[?25hDownloading cattrs-23.2.3-py3-none-any.whl (57 kB)\n",
      "\u001b[2K   \u001b[90m━━━━━━━━━━━━━━━━━━━━━━━━━━━━━━━━━━━━━━━━\u001b[0m \u001b[32m57.5/57.5 kB\u001b[0m \u001b[31m2.7 MB/s\u001b[0m eta \u001b[36m0:00:00\u001b[0m\n",
      "\u001b[?25hDownloading url_normalize-1.4.3-py2.py3-none-any.whl (6.8 kB)\n",
      "Installing collected packages: url-normalize, geomet, geojson-rewind, cattrs, requests-cache, pygbif\n",
      "Successfully installed cattrs-23.2.3 geojson-rewind-1.1.0 geomet-1.1.0 pygbif-0.6.4 requests-cache-1.2.0 url-normalize-1.4.3\n",
      "Note: you may need to restart the kernel to use updated packages.\n"
     ]
    }
   ],
   "source": [
    "pip install pygbif"
   ]
  },
  {
   "cell_type": "code",
   "execution_count": 30,
   "id": "8b8304ae-1a90-4079-ac0b-858f777aafb0",
   "metadata": {
    "execution": {
     "iopub.execute_input": "2024-06-11T15:14:27.731475Z",
     "iopub.status.busy": "2024-06-11T15:14:27.731300Z",
     "iopub.status.idle": "2024-06-11T15:14:28.344060Z",
     "shell.execute_reply": "2024-06-11T15:14:28.343582Z",
     "shell.execute_reply.started": "2024-06-11T15:14:27.731457Z"
    }
   },
   "outputs": [
    {
     "data": {
      "text/plain": [
       "{'key': 3951621754,\n",
       " 'datasetKey': '14d5676a-2c54-4f94-9023-1e8dcd822aa0',\n",
       " 'publishingOrgKey': 'da86174a-a605-43a4-a5e8-53d484152cd3',\n",
       " 'installationKey': 'fe1a98a6-82b8-4652-86d6-d0f938207f67',\n",
       " 'hostingOrganizationKey': 'da86174a-a605-43a4-a5e8-53d484152cd3',\n",
       " 'publishingCountry': 'FR',\n",
       " 'protocol': 'EML',\n",
       " 'lastCrawled': '2023-02-08T16:42:42.739+00:00',\n",
       " 'lastParsed': '2024-01-25T05:30:04.373+00:00',\n",
       " 'crawlId': 129,\n",
       " 'projectId': 'queries',\n",
       " 'extensions': {},\n",
       " 'basisOfRecord': 'HUMAN_OBSERVATION',\n",
       " 'individualCount': 1,\n",
       " 'occurrenceStatus': 'PRESENT',\n",
       " 'taxonKey': 2879098,\n",
       " 'kingdomKey': 6,\n",
       " 'phylumKey': 7707728,\n",
       " 'classKey': 220,\n",
       " 'orderKey': 1354,\n",
       " 'familyKey': 4689,\n",
       " 'genusKey': 2877951,\n",
       " 'speciesKey': 2879098,\n",
       " 'acceptedTaxonKey': 2879098,\n",
       " 'scientificName': 'Quercus ilex L.',\n",
       " 'acceptedScientificName': 'Quercus ilex L.',\n",
       " 'kingdom': 'Plantae',\n",
       " 'phylum': 'Tracheophyta',\n",
       " 'order': 'Fagales',\n",
       " 'family': 'Fagaceae',\n",
       " 'genus': 'Quercus',\n",
       " 'species': 'Quercus ilex',\n",
       " 'genericName': 'Quercus',\n",
       " 'specificEpithet': 'ilex',\n",
       " 'taxonRank': 'SPECIES',\n",
       " 'taxonomicStatus': 'ACCEPTED',\n",
       " 'iucnRedListCategory': 'LC',\n",
       " 'decimalLatitude': 42.124802,\n",
       " 'decimalLongitude': -8.847724,\n",
       " 'coordinateUncertaintyInMeters': 10.0,\n",
       " 'continent': 'EUROPE',\n",
       " 'gadm': {'level0': {'gid': 'ESP', 'name': 'Spain'},\n",
       "  'level1': {'gid': 'ESP.12_1', 'name': 'Galicia'},\n",
       "  'level2': {'gid': 'ESP.12.4_1', 'name': 'Pontevedra'},\n",
       "  'level3': {'gid': 'ESP.12.4.3_1', 'name': 'n.a. (209)'}},\n",
       " 'year': 2018,\n",
       " 'month': 7,\n",
       " 'day': 28,\n",
       " 'eventDate': '2018-07-28T14:51:06.508Z',\n",
       " 'startDayOfYear': 209,\n",
       " 'endDayOfYear': 209,\n",
       " 'issues': ['COORDINATE_ROUNDED',\n",
       "  'COUNTRY_DERIVED_FROM_COORDINATES',\n",
       "  'CONTINENT_DERIVED_FROM_COORDINATES'],\n",
       " 'lastInterpreted': '2024-01-25T05:30:04.373+00:00',\n",
       " 'license': 'http://creativecommons.org/licenses/by/4.0/legalcode',\n",
       " 'isSequenced': False,\n",
       " 'identifiers': [{'identifier': 'q-10037871328'}],\n",
       " 'media': [],\n",
       " 'facts': [],\n",
       " 'relations': [],\n",
       " 'isInCluster': False,\n",
       " 'geodeticDatum': 'WGS84',\n",
       " 'class': 'Magnoliopsida',\n",
       " 'countryCode': 'ES',\n",
       " 'recordedByIDs': [],\n",
       " 'identifiedByIDs': [],\n",
       " 'gbifRegion': 'EUROPE',\n",
       " 'country': 'Spain',\n",
       " 'publishedByGbifRegion': 'EUROPE',\n",
       " 'identifier': 'q-10037871328',\n",
       " 'gbifID': '3951621754',\n",
       " 'occurrenceID': 'q-10037871328'}"
      ]
     },
     "execution_count": 30,
     "metadata": {},
     "output_type": "execute_result"
    }
   ],
   "source": [
    "import pygbif\n",
    "pygbif.occurrences.get(key=3951621754)"
   ]
  },
  {
   "cell_type": "code",
   "execution_count": null,
   "id": "ce25693b-8a55-476a-b63d-4f4ab68584b2",
   "metadata": {},
   "outputs": [],
   "source": []
  }
 ],
 "metadata": {
  "kernelspec": {
   "display_name": "sdm_sandbox",
   "language": "python",
   "name": "sdm_sandbox"
  },
  "language_info": {
   "codemirror_mode": {
    "name": "ipython",
    "version": 3
   },
   "file_extension": ".py",
   "mimetype": "text/x-python",
   "name": "python",
   "nbconvert_exporter": "python",
   "pygments_lexer": "ipython3",
   "version": "3.9.18"
  }
 },
 "nbformat": 4,
 "nbformat_minor": 5
}
