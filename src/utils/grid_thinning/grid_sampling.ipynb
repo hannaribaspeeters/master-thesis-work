{
 "cells": [
  {
   "cell_type": "code",
   "execution_count": 1,
   "id": "c21faa08-1d33-4ab2-ab22-81c32352c306",
   "metadata": {
    "editable": true,
    "execution": {
     "iopub.execute_input": "2024-05-06T14:25:46.126229Z",
     "iopub.status.busy": "2024-05-06T14:25:46.125003Z",
     "iopub.status.idle": "2024-05-06T14:25:59.954922Z",
     "shell.execute_reply": "2024-05-06T14:25:59.952603Z",
     "shell.execute_reply.started": "2024-05-06T14:25:46.126197Z"
    },
    "slideshow": {
     "slide_type": ""
    },
    "tags": []
   },
   "outputs": [],
   "source": [
    "import pandas as pd\n",
    "import geopandas as gpd\n",
    "import numpy as np\n",
    "import seaborn as sns\n",
    "import random\n",
    "import matplotlib.pyplot as plt\n",
    "from time import time\n",
    "import torch\n",
    "from grid_sampling_functionalities import GridSampling3D, spherical_to_cartesian, sample_data\n",
    "from mpl_toolkits.mplot3d import Axes3D\n",
    "from thinning_strategies import thin_all_species, thin_majority_species\n",
    "from grid_sampling_functionalities import sample_data"
   ]
  },
  {
   "cell_type": "code",
   "execution_count": 3,
   "id": "0ceccdde-8c49-4589-b739-c00b3dd75443",
   "metadata": {
    "execution": {
     "iopub.execute_input": "2024-05-06T14:26:40.839607Z",
     "iopub.status.busy": "2024-05-06T14:26:40.839052Z",
     "iopub.status.idle": "2024-05-06T14:26:47.425042Z",
     "shell.execute_reply": "2024-05-06T14:26:47.424485Z",
     "shell.execute_reply.started": "2024-05-06T14:26:40.839585Z"
    }
   },
   "outputs": [],
   "source": [
    "po_dataset_path = \"/shares/wegner.ics.uzh/glc23_data/Presences_only_train.csv\"\n",
    "po_dataset = pd.read_csv(po_dataset_path, sep=\";\")"
   ]
  },
  {
   "cell_type": "code",
   "execution_count": 11,
   "id": "402101fa-fd79-4223-884c-96279578a66e",
   "metadata": {
    "execution": {
     "iopub.execute_input": "2024-05-06T07:29:04.880088Z",
     "iopub.status.busy": "2024-05-06T07:29:04.879286Z",
     "iopub.status.idle": "2024-05-06T07:29:35.137806Z",
     "shell.execute_reply": "2024-05-06T07:29:35.136715Z",
     "shell.execute_reply.started": "2024-05-06T07:29:04.880048Z"
    },
    "jupyter": {
     "source_hidden": true
    }
   },
   "outputs": [],
   "source": [
    "grid_size = 1\n",
    "dataset = po_dataset.copy()\n",
    "radius_earth = 6731\n",
    "# Extract longitude and latitude from the DataFrame\n",
    "lon = dataset['lon'].values\n",
    "lat = dataset['lat'].values\n",
    "\n",
    "# Convert spherical coordinates to Cartesian coordinates\n",
    "x, y, z = spherical_to_cartesian(lon, lat, radius_earth)\n",
    "\n",
    "coordinates = torch.stack(\n",
    "        [torch.tensor(x), torch.tensor(y), torch.tensor(z)],\n",
    "        dim=1\n",
    "    )\n",
    "\n",
    "sampler = GridSampling3D(grid_size)\n",
    "indices, cluster_density = sampler(coordinates)"
   ]
  },
  {
   "cell_type": "code",
   "execution_count": 3,
   "id": "b671029d-8e5c-4109-8c4b-2e0d9c62132f",
   "metadata": {
    "execution": {
     "iopub.execute_input": "2024-04-25T08:42:47.811765Z",
     "iopub.status.busy": "2024-04-25T08:42:47.810276Z",
     "iopub.status.idle": "2024-04-25T08:42:47.882582Z",
     "shell.execute_reply": "2024-04-25T08:42:47.881346Z",
     "shell.execute_reply.started": "2024-04-25T08:42:47.811726Z"
    }
   },
   "outputs": [],
   "source": [
    "species_data = po_dataset[po_dataset[\"speciesId\"] == 1995].copy()\n",
    "species_thinned_data, cluster_density = sample_data(species_data, 1)\n",
    "s1 = pd.Series(index=species_data.index, data=cluster_density, name='cluster_density_1995')"
   ]
  },
  {
   "cell_type": "code",
   "execution_count": 5,
   "id": "e1ce9283-e362-4e3e-8e4d-d3a79ddedec5",
   "metadata": {
    "execution": {
     "iopub.execute_input": "2024-04-25T08:42:56.121011Z",
     "iopub.status.busy": "2024-04-25T08:42:56.120470Z",
     "iopub.status.idle": "2024-04-25T08:42:56.197982Z",
     "shell.execute_reply": "2024-04-25T08:42:56.196881Z",
     "shell.execute_reply.started": "2024-04-25T08:42:56.120971Z"
    }
   },
   "outputs": [],
   "source": [
    "species_data = po_dataset[po_dataset[\"speciesId\"] == 729].copy()\n",
    "species_thinned_data, cluster_density = sample_data(species_data, 1)\n",
    "s2 = pd.Series(index=species_data.index, data=cluster_density, name='cluster_density_729')"
   ]
  },
  {
   "cell_type": "code",
   "execution_count": 6,
   "id": "1bb87ae7-053a-4180-a39c-c32f810b581d",
   "metadata": {
    "execution": {
     "iopub.execute_input": "2024-04-25T08:42:57.137598Z",
     "iopub.status.busy": "2024-04-25T08:42:57.137050Z",
     "iopub.status.idle": "2024-04-25T08:42:57.226682Z",
     "shell.execute_reply": "2024-04-25T08:42:57.225728Z",
     "shell.execute_reply.started": "2024-04-25T08:42:57.137560Z"
    }
   },
   "outputs": [],
   "source": [
    "df = po_dataset[po_dataset[\"speciesId\"].isin([1995, 729])].copy()"
   ]
  },
  {
   "cell_type": "code",
   "execution_count": 7,
   "id": "3479685d-91c8-4e19-8bbc-7420317915ab",
   "metadata": {
    "execution": {
     "iopub.execute_input": "2024-04-25T08:42:58.025151Z",
     "iopub.status.busy": "2024-04-25T08:42:58.024635Z",
     "iopub.status.idle": "2024-04-25T08:42:58.030852Z",
     "shell.execute_reply": "2024-04-25T08:42:58.029927Z",
     "shell.execute_reply.started": "2024-04-25T08:42:58.025115Z"
    }
   },
   "outputs": [],
   "source": [
    "densities = pd.concat([s1, s2])"
   ]
  },
  {
   "cell_type": "code",
   "execution_count": 8,
   "id": "a5561d5e-9e6c-475f-b9d5-34f5d1900bb0",
   "metadata": {
    "execution": {
     "iopub.execute_input": "2024-04-25T08:42:59.161456Z",
     "iopub.status.busy": "2024-04-25T08:42:59.161087Z",
     "iopub.status.idle": "2024-04-25T08:42:59.172708Z",
     "shell.execute_reply": "2024-04-25T08:42:59.171757Z",
     "shell.execute_reply.started": "2024-04-25T08:42:59.161375Z"
    }
   },
   "outputs": [
    {
     "data": {
      "text/plain": [
       "9095"
      ]
     },
     "execution_count": 8,
     "metadata": {},
     "output_type": "execute_result"
    }
   ],
   "source": [
    "len(set(df.index).intersection(set(densities.index)))"
   ]
  },
  {
   "cell_type": "code",
   "execution_count": 9,
   "id": "82c83393-2e5d-4c05-b41d-f7c711e0be58",
   "metadata": {
    "execution": {
     "iopub.execute_input": "2024-04-25T08:42:59.873206Z",
     "iopub.status.busy": "2024-04-25T08:42:59.872892Z",
     "iopub.status.idle": "2024-04-25T08:42:59.879263Z",
     "shell.execute_reply": "2024-04-25T08:42:59.878297Z",
     "shell.execute_reply.started": "2024-04-25T08:42:59.873176Z"
    }
   },
   "outputs": [
    {
     "data": {
      "text/plain": [
       "array([1, 1, 1, ..., 1, 1, 1])"
      ]
     },
     "execution_count": 9,
     "metadata": {},
     "output_type": "execute_result"
    }
   ],
   "source": [
    "densities.values"
   ]
  },
  {
   "cell_type": "code",
   "execution_count": 10,
   "id": "6ebf42e0-054d-4f49-a442-1c4519b42c9a",
   "metadata": {
    "execution": {
     "iopub.execute_input": "2024-04-25T08:43:02.649102Z",
     "iopub.status.busy": "2024-04-25T08:43:02.648600Z",
     "iopub.status.idle": "2024-04-25T08:43:02.696267Z",
     "shell.execute_reply": "2024-04-25T08:43:02.695249Z",
     "shell.execute_reply.started": "2024-04-25T08:43:02.649066Z"
    }
   },
   "outputs": [],
   "source": [
    "sampled_species_counts = df[\"speciesId\"].value_counts()\n",
    "                \n",
    "class_weights =  [\n",
    "    1/sampled_species_counts[i] for i in\\\n",
    "    df[\"speciesId\"].values\n",
    "]"
   ]
  },
  {
   "cell_type": "code",
   "execution_count": 11,
   "id": "a0a59635-60c7-44e8-b71c-56e4b1ffd296",
   "metadata": {
    "execution": {
     "iopub.execute_input": "2024-04-25T08:43:03.809000Z",
     "iopub.status.busy": "2024-04-25T08:43:03.808571Z",
     "iopub.status.idle": "2024-04-25T08:43:03.820369Z",
     "shell.execute_reply": "2024-04-25T08:43:03.819045Z",
     "shell.execute_reply.started": "2024-04-25T08:43:03.808966Z"
    }
   },
   "outputs": [],
   "source": [
    "data_train = df.merge(right=densities.rename(\"cluster_density\"), right_index=True, left_index=True)\n",
    "cluster_density = data_train[\"cluster_density\"].values"
   ]
  },
  {
   "cell_type": "code",
   "execution_count": 12,
   "id": "6fcbfcc4-054e-48b2-a772-4d56bb595de3",
   "metadata": {
    "execution": {
     "iopub.execute_input": "2024-04-25T08:43:09.831778Z",
     "iopub.status.busy": "2024-04-25T08:43:09.831220Z",
     "iopub.status.idle": "2024-04-25T08:43:09.841128Z",
     "shell.execute_reply": "2024-04-25T08:43:09.839961Z",
     "shell.execute_reply.started": "2024-04-25T08:43:09.831740Z"
    }
   },
   "outputs": [
    {
     "data": {
      "text/plain": [
       "array([0.00021993, 0.00021993, 0.00021993, ..., 0.00021988, 0.00021988,\n",
       "       0.00021988])"
      ]
     },
     "execution_count": 12,
     "metadata": {},
     "output_type": "execute_result"
    }
   ],
   "source": [
    "class_weights/cluster_density"
   ]
  },
  {
   "cell_type": "code",
   "execution_count": null,
   "id": "b03c69ec-0c89-4cde-a71b-06a1d79aca62",
   "metadata": {},
   "outputs": [],
   "source": [
    "assert(len(data_train)==len(cluster_density))\n",
    "assert(len(set(data_train.index)-set(cluster_density.index))==0)\n",
    "\n",
    "data_train = data_train.merge(\n",
    "    cluster_density.rename(\"cluster_density\"),\n",
    "    left_index=True,\n",
    "    right_index=True\n",
    ")\n",
    "\n",
    "cluster_density = data_train[\"cluster_density\"].values\n",
    "assert(len(class_weights)==len(cluster_density))\n",
    "\n",
    "sample_weights = class_weights/cluster_density"
   ]
  },
  {
   "cell_type": "code",
   "execution_count": 4,
   "id": "9c165a43-603f-4f90-9ded-3018898e0c5e",
   "metadata": {
    "execution": {
     "iopub.execute_input": "2024-05-06T14:26:55.796303Z",
     "iopub.status.busy": "2024-05-06T14:26:55.795681Z",
     "iopub.status.idle": "2024-05-06T14:27:10.797564Z",
     "shell.execute_reply": "2024-05-06T14:27:10.797092Z",
     "shell.execute_reply.started": "2024-05-06T14:26:55.796281Z"
    }
   },
   "outputs": [
    {
     "name": "stdout",
     "output_type": "stream",
     "text": [
      "Start thinning of 5930 species...\n",
      "Thinned speciesId 200/5930 in 0.0077 seconds.\n",
      "Thinned speciesId 400/5930 in 0.0022 seconds.\n",
      "Thinned speciesId 600/5930 in 0.002 seconds.\n",
      "Thinned speciesId 800/5930 in 0.0056 seconds.\n",
      "Thinned speciesId 1000/5930 in 0.0033 seconds.\n",
      "Thinned speciesId 1200/5930 in 0.0016 seconds.\n",
      "Thinned speciesId 1400/5930 in 0.0014 seconds.\n",
      "Thinned speciesId 1600/5930 in 0.0015 seconds.\n",
      "Thinned speciesId 1800/5930 in 0.0018 seconds.\n",
      "Thinned speciesId 2000/5930 in 0.0016 seconds.\n",
      "Thinned speciesId 2200/5930 in 0.0015 seconds.\n",
      "Thinned speciesId 2400/5930 in 0.0034 seconds.\n",
      "Thinned speciesId 2600/5930 in 0.0039 seconds.\n",
      "Thinned speciesId 2800/5930 in 0.0016 seconds.\n",
      "Thinned speciesId 3000/5930 in 0.0023 seconds.\n",
      "Thinned speciesId 3200/5930 in 0.0021 seconds.\n",
      "Thinned speciesId 3400/5930 in 0.0013 seconds.\n",
      "Thinned speciesId 3600/5930 in 0.0015 seconds.\n",
      "Thinned speciesId 3800/5930 in 0.0014 seconds.\n",
      "Thinned speciesId 4000/5930 in 0.0017 seconds.\n",
      "Thinned speciesId 4200/5930 in 0.0014 seconds.\n",
      "Thinned speciesId 4400/5930 in 0.0015 seconds.\n",
      "Thinned speciesId 4600/5930 in 0.0013 seconds.\n",
      "Thinned speciesId 4800/5930 in 0.0013 seconds.\n",
      "Thinned speciesId 5000/5930 in 0.0013 seconds.\n",
      "Thinned speciesId 5200/5930 in 0.0013 seconds.\n",
      "Thinned speciesId 5400/5930 in 0.0013 seconds.\n",
      "Thinned speciesId 5600/5930 in 0.0013 seconds.\n",
      "Thinned speciesId 5800/5930 in 0.0014 seconds.\n",
      "Completed thinning the data in 14.9447 s.\n"
     ]
    }
   ],
   "source": [
    "df = po_dataset.head(1000000)\n",
    "data, cluster_densities = thin_all_species(df, thin_dist=2)"
   ]
  },
  {
   "cell_type": "code",
   "execution_count": 5,
   "id": "8df72246-6427-464e-81fe-843c0211b79a",
   "metadata": {
    "execution": {
     "iopub.execute_input": "2024-05-06T14:28:31.069479Z",
     "iopub.status.busy": "2024-05-06T14:28:31.068856Z",
     "iopub.status.idle": "2024-05-06T14:28:38.481130Z",
     "shell.execute_reply": "2024-05-06T14:28:38.480677Z",
     "shell.execute_reply.started": "2024-05-06T14:28:31.069457Z"
    }
   },
   "outputs": [
    {
     "name": "stdout",
     "output_type": "stream",
     "text": [
      "Start thinning of 1488 majority species...\n",
      "Thinned species 100/1488)\n",
      "Thinned species 200/1488)\n",
      "Thinned species 300/1488)\n",
      "Thinned species 400/1488)\n",
      "Thinned species 500/1488)\n",
      "Thinned species 600/1488)\n",
      "Thinned species 700/1488)\n",
      "Thinned species 800/1488)\n",
      "Thinned species 900/1488)\n",
      "Thinned species 1000/1488)\n",
      "Thinned species 1100/1488)\n",
      "Thinned species 1200/1488)\n",
      "Thinned species 1300/1488)\n",
      "Thinned species 1400/1488)\n",
      "Completed thinning the data in 7.3902 s.\n"
     ]
    }
   ],
   "source": [
    "data_maj, cluster_densities_maj = thin_majority_species(df)"
   ]
  },
  {
   "cell_type": "code",
   "execution_count": 6,
   "id": "8f5d2f33-f753-4ea6-af30-91b948ecf0f9",
   "metadata": {
    "execution": {
     "iopub.execute_input": "2024-05-06T14:29:40.690134Z",
     "iopub.status.busy": "2024-05-06T14:29:40.689419Z",
     "iopub.status.idle": "2024-05-06T14:29:40.694839Z",
     "shell.execute_reply": "2024-05-06T14:29:40.694177Z",
     "shell.execute_reply.started": "2024-05-06T14:29:40.690110Z"
    }
   },
   "outputs": [
    {
     "data": {
      "text/plain": [
       "14        1\n",
       "44        1\n",
       "49        1\n",
       "75        1\n",
       "76        1\n",
       "         ..\n",
       "904163    2\n",
       "904171    2\n",
       "913071    1\n",
       "960528    1\n",
       "993103    1\n",
       "Length: 929698, dtype: int64"
      ]
     },
     "execution_count": 6,
     "metadata": {},
     "output_type": "execute_result"
    }
   ],
   "source": [
    "cluster_densities_maj"
   ]
  },
  {
   "cell_type": "code",
   "execution_count": 8,
   "id": "7e464488-50ce-4c4d-be13-01fa43fda1ec",
   "metadata": {
    "execution": {
     "iopub.execute_input": "2024-05-06T14:32:57.229598Z",
     "iopub.status.busy": "2024-05-06T14:32:57.229338Z",
     "iopub.status.idle": "2024-05-06T14:32:57.241397Z",
     "shell.execute_reply": "2024-05-06T14:32:57.240757Z",
     "shell.execute_reply.started": "2024-05-06T14:32:57.229577Z"
    }
   },
   "outputs": [],
   "source": [
    "df = po_dataset.head(1000000)\n"
   ]
  },
  {
   "cell_type": "code",
   "execution_count": 19,
   "id": "be947541-c96e-4226-bb3b-4df2b475ceca",
   "metadata": {
    "execution": {
     "iopub.execute_input": "2024-05-06T15:11:22.495365Z",
     "iopub.status.busy": "2024-05-06T15:11:22.494935Z",
     "iopub.status.idle": "2024-05-06T15:12:09.527003Z",
     "shell.execute_reply": "2024-05-06T15:12:09.526458Z",
     "shell.execute_reply.started": "2024-05-06T15:11:22.495338Z"
    }
   },
   "outputs": [
    {
     "name": "stdout",
     "output_type": "stream",
     "text": [
      "Start thinning of 3077 majority species...\n",
      "Thinned species 100/3077)\n",
      "Thinned species 200/3077)\n",
      "Thinned species 300/3077)\n",
      "Thinned species 400/3077)\n",
      "Thinned species 500/3077)\n",
      "Thinned species 600/3077)\n",
      "Thinned species 700/3077)\n",
      "Thinned species 800/3077)\n",
      "Thinned species 900/3077)\n",
      "Thinned species 1000/3077)\n",
      "Thinned species 1100/3077)\n",
      "Thinned species 1200/3077)\n",
      "Thinned species 1300/3077)\n",
      "Thinned species 1400/3077)\n",
      "Thinned species 1500/3077)\n",
      "Thinned species 1600/3077)\n",
      "Thinned species 1700/3077)\n",
      "Thinned species 1800/3077)\n",
      "Thinned species 1900/3077)\n",
      "Thinned species 2000/3077)\n",
      "Thinned species 2100/3077)\n",
      "Thinned species 2200/3077)\n",
      "Thinned species 2300/3077)\n",
      "Thinned species 2400/3077)\n",
      "Thinned species 2500/3077)\n",
      "Thinned species 2600/3077)\n",
      "Thinned species 2700/3077)\n",
      "Thinned species 2800/3077)\n",
      "Thinned species 2900/3077)\n",
      "Thinned species 3000/3077)\n",
      "Completed thinning the data in 46.6381 s.\n"
     ]
    }
   ],
   "source": [
    "df = po_dataset.copy()\n",
    "data_maj, cluster_densities_maj = thin_majority_species(df, thin_dist=5)"
   ]
  },
  {
   "cell_type": "code",
   "execution_count": 15,
   "id": "a852c1db-5988-4fec-965f-6ae23443e3c4",
   "metadata": {
    "execution": {
     "iopub.execute_input": "2024-05-06T14:33:37.476794Z",
     "iopub.status.busy": "2024-05-06T14:33:37.475692Z",
     "iopub.status.idle": "2024-05-06T14:33:37.720379Z",
     "shell.execute_reply": "2024-05-06T14:33:37.719642Z",
     "shell.execute_reply.started": "2024-05-06T14:33:37.476763Z"
    }
   },
   "outputs": [],
   "source": [
    "ff = df.merge(\n",
    "cluster_densities_maj.rename(\"cluster_density\"),\n",
    "left_index=True,\n",
    "right_index=True,\n",
    "how=\"left\"\n",
    "                )"
   ]
  },
  {
   "cell_type": "code",
   "execution_count": 18,
   "id": "6c358af4-d1a7-48ad-8a32-3e90f0994cb6",
   "metadata": {
    "execution": {
     "iopub.execute_input": "2024-05-06T14:33:55.800903Z",
     "iopub.status.busy": "2024-05-06T14:33:55.800452Z",
     "iopub.status.idle": "2024-05-06T14:33:55.809215Z",
     "shell.execute_reply": "2024-05-06T14:33:55.808731Z",
     "shell.execute_reply.started": "2024-05-06T14:33:55.800882Z"
    }
   },
   "outputs": [
    {
     "data": {
      "text/plain": [
       "0"
      ]
     },
     "execution_count": 18,
     "metadata": {},
     "output_type": "execute_result"
    }
   ],
   "source": [
    "ff[\"cluster_density\"].fillna(1).isnull().sum()"
   ]
  },
  {
   "cell_type": "code",
   "execution_count": 23,
   "id": "2f4ad078-b0bf-4ecc-9242-6c862555bb58",
   "metadata": {
    "execution": {
     "iopub.execute_input": "2024-05-06T13:23:36.707442Z",
     "iopub.status.busy": "2024-05-06T13:23:36.706902Z",
     "iopub.status.idle": "2024-05-06T13:23:36.712684Z",
     "shell.execute_reply": "2024-05-06T13:23:36.711700Z",
     "shell.execute_reply.started": "2024-05-06T13:23:36.707419Z"
    }
   },
   "outputs": [
    {
     "data": {
      "text/plain": [
       "877789"
      ]
     },
     "execution_count": 23,
     "metadata": {},
     "output_type": "execute_result"
    }
   ],
   "source": [
    "len(data)"
   ]
  },
  {
   "cell_type": "code",
   "execution_count": 24,
   "id": "b6ff1446-f3e1-4e03-9fff-2983c94b1baf",
   "metadata": {
    "execution": {
     "iopub.execute_input": "2024-05-06T13:23:37.456431Z",
     "iopub.status.busy": "2024-05-06T13:23:37.455670Z",
     "iopub.status.idle": "2024-05-06T13:23:37.460577Z",
     "shell.execute_reply": "2024-05-06T13:23:37.460177Z",
     "shell.execute_reply.started": "2024-05-06T13:23:37.456404Z"
    }
   },
   "outputs": [
    {
     "data": {
      "text/plain": [
       "886420"
      ]
     },
     "execution_count": 24,
     "metadata": {},
     "output_type": "execute_result"
    }
   ],
   "source": [
    "len(data_maj)"
   ]
  },
  {
   "cell_type": "code",
   "execution_count": 25,
   "id": "9e14f051-0de2-40c9-983d-a3c3322824f9",
   "metadata": {
    "execution": {
     "iopub.execute_input": "2024-05-06T13:23:50.771662Z",
     "iopub.status.busy": "2024-05-06T13:23:50.770641Z",
     "iopub.status.idle": "2024-05-06T13:23:50.776470Z",
     "shell.execute_reply": "2024-05-06T13:23:50.776034Z",
     "shell.execute_reply.started": "2024-05-06T13:23:50.771631Z"
    }
   },
   "outputs": [
    {
     "data": {
      "text/plain": [
       "1000000"
      ]
     },
     "execution_count": 25,
     "metadata": {},
     "output_type": "execute_result"
    }
   ],
   "source": [
    "len(df)"
   ]
  },
  {
   "cell_type": "code",
   "execution_count": 14,
   "id": "29d42579-70ff-4bf6-a819-ee1edbccf6e2",
   "metadata": {
    "execution": {
     "iopub.execute_input": "2024-05-06T13:18:07.318505Z",
     "iopub.status.busy": "2024-05-06T13:18:07.317897Z",
     "iopub.status.idle": "2024-05-06T13:18:07.322722Z",
     "shell.execute_reply": "2024-05-06T13:18:07.322300Z",
     "shell.execute_reply.started": "2024-05-06T13:18:07.318483Z"
    }
   },
   "outputs": [
    {
     "data": {
      "text/plain": [
       "4389736    1\n",
       "4728921    1\n",
       "1879529    1\n",
       "4893325    1\n",
       "4487643    1\n",
       "          ..\n",
       "3457773    6\n",
       "1598698    1\n",
       "2339314    1\n",
       "1700806    1\n",
       "1420282    2\n",
       "Length: 916718, dtype: int64"
      ]
     },
     "execution_count": 14,
     "metadata": {},
     "output_type": "execute_result"
    }
   ],
   "source": [
    "cluster_densities_maj"
   ]
  },
  {
   "cell_type": "code",
   "execution_count": 28,
   "id": "115f52d2-dba0-415f-a0ba-2ba6872833a6",
   "metadata": {
    "execution": {
     "iopub.execute_input": "2024-05-06T13:27:35.461909Z",
     "iopub.status.busy": "2024-05-06T13:27:35.461171Z",
     "iopub.status.idle": "2024-05-06T13:27:35.465198Z",
     "shell.execute_reply": "2024-05-06T13:27:35.464805Z",
     "shell.execute_reply.started": "2024-05-06T13:27:35.461887Z"
    }
   },
   "outputs": [
    {
     "data": {
      "text/plain": [
       "1803565"
      ]
     },
     "execution_count": 28,
     "metadata": {},
     "output_type": "execute_result"
    }
   ],
   "source": [
    "len(cluster_densities_maj) + len(data_maj)"
   ]
  },
  {
   "cell_type": "code",
   "execution_count": 16,
   "id": "0fb18825-1c3a-409c-9e12-5cee7f7e9067",
   "metadata": {
    "execution": {
     "iopub.execute_input": "2024-05-06T13:20:53.501830Z",
     "iopub.status.busy": "2024-05-06T13:20:53.501173Z",
     "iopub.status.idle": "2024-05-06T13:20:53.505132Z",
     "shell.execute_reply": "2024-05-06T13:20:53.504738Z",
     "shell.execute_reply.started": "2024-05-06T13:20:53.501807Z"
    }
   },
   "outputs": [
    {
     "data": {
      "text/plain": [
       "886627"
      ]
     },
     "execution_count": 16,
     "metadata": {},
     "output_type": "execute_result"
    }
   ],
   "source": [
    "len(data_maj)"
   ]
  },
  {
   "cell_type": "code",
   "execution_count": 17,
   "id": "b3533cd7-943b-4d81-9309-9794b720510a",
   "metadata": {
    "execution": {
     "iopub.execute_input": "2024-05-06T13:20:53.740272Z",
     "iopub.status.busy": "2024-05-06T13:20:53.739699Z",
     "iopub.status.idle": "2024-05-06T13:20:53.743479Z",
     "shell.execute_reply": "2024-05-06T13:20:53.743081Z",
     "shell.execute_reply.started": "2024-05-06T13:20:53.740251Z"
    }
   },
   "outputs": [
    {
     "data": {
      "text/plain": [
       "910981"
      ]
     },
     "execution_count": 17,
     "metadata": {},
     "output_type": "execute_result"
    }
   ],
   "source": [
    "len(data)"
   ]
  },
  {
   "cell_type": "code",
   "execution_count": 27,
   "id": "d2d88770-ec72-4af8-a58b-5c005a157c55",
   "metadata": {
    "execution": {
     "iopub.execute_input": "2024-05-06T13:26:56.443809Z",
     "iopub.status.busy": "2024-05-06T13:26:56.443425Z",
     "iopub.status.idle": "2024-05-06T13:26:56.447481Z",
     "shell.execute_reply": "2024-05-06T13:26:56.446963Z",
     "shell.execute_reply.started": "2024-05-06T13:26:56.443788Z"
    }
   },
   "outputs": [
    {
     "data": {
      "text/plain": [
       "1000000"
      ]
     },
     "execution_count": 27,
     "metadata": {},
     "output_type": "execute_result"
    }
   ],
   "source": [
    "len(cluster_densities)"
   ]
  },
  {
   "cell_type": "code",
   "execution_count": 7,
   "id": "ae33350a-23fa-4665-ad11-019c8c7064de",
   "metadata": {
    "execution": {
     "iopub.execute_input": "2024-05-06T13:15:06.579577Z",
     "iopub.status.busy": "2024-05-06T13:15:06.578956Z",
     "iopub.status.idle": "2024-05-06T13:15:06.599629Z",
     "shell.execute_reply": "2024-05-06T13:15:06.599164Z",
     "shell.execute_reply.started": "2024-05-06T13:15:06.579553Z"
    }
   },
   "outputs": [
    {
     "data": {
      "text/html": [
       "<div>\n",
       "<style scoped>\n",
       "    .dataframe tbody tr th:only-of-type {\n",
       "        vertical-align: middle;\n",
       "    }\n",
       "\n",
       "    .dataframe tbody tr th {\n",
       "        vertical-align: top;\n",
       "    }\n",
       "\n",
       "    .dataframe thead th {\n",
       "        text-align: right;\n",
       "    }\n",
       "</style>\n",
       "<table border=\"1\" class=\"dataframe\">\n",
       "  <thead>\n",
       "    <tr style=\"text-align: right;\">\n",
       "      <th></th>\n",
       "      <th>glcID</th>\n",
       "      <th>gbifID</th>\n",
       "      <th>observer</th>\n",
       "      <th>datasetName</th>\n",
       "      <th>date</th>\n",
       "      <th>dayOfYear</th>\n",
       "      <th>year</th>\n",
       "      <th>lon</th>\n",
       "      <th>lat</th>\n",
       "      <th>x_EPSG3035</th>\n",
       "      <th>y_EPSG3035</th>\n",
       "      <th>geoUncertaintyInM</th>\n",
       "      <th>speciesId</th>\n",
       "      <th>patchID</th>\n",
       "      <th>timeSerieID</th>\n",
       "    </tr>\n",
       "  </thead>\n",
       "  <tbody>\n",
       "    <tr>\n",
       "      <th>98094</th>\n",
       "      <td>1220433</td>\n",
       "      <td>3.951650e+09</td>\n",
       "      <td>NaN</td>\n",
       "      <td>Pl@ntNet automatic</td>\n",
       "      <td>2018-03-07</td>\n",
       "      <td>66</td>\n",
       "      <td>2018</td>\n",
       "      <td>-5.925807</td>\n",
       "      <td>36.65711</td>\n",
       "      <td>2896148.0</td>\n",
       "      <td>1658310.0</td>\n",
       "      <td>10.0</td>\n",
       "      <td>3007</td>\n",
       "      <td>3114069</td>\n",
       "      <td>96294</td>\n",
       "    </tr>\n",
       "    <tr>\n",
       "      <th>54578</th>\n",
       "      <td>3784431</td>\n",
       "      <td>2.836625e+09</td>\n",
       "      <td>NaN</td>\n",
       "      <td>Observation.org</td>\n",
       "      <td>2018-04-01</td>\n",
       "      <td>91</td>\n",
       "      <td>2018</td>\n",
       "      <td>-8.100728</td>\n",
       "      <td>37.25391</td>\n",
       "      <td>2719114.0</td>\n",
       "      <td>1765972.0</td>\n",
       "      <td>25.0</td>\n",
       "      <td>3007</td>\n",
       "      <td>3072126</td>\n",
       "      <td>54310</td>\n",
       "    </tr>\n",
       "    <tr>\n",
       "      <th>37647</th>\n",
       "      <td>12626</td>\n",
       "      <td>3.399277e+09</td>\n",
       "      <td>maria oct</td>\n",
       "      <td>iNaturalist RG</td>\n",
       "      <td>2021-10-27</td>\n",
       "      <td>300</td>\n",
       "      <td>2021</td>\n",
       "      <td>-8.564983</td>\n",
       "      <td>37.33362</td>\n",
       "      <td>2680817.0</td>\n",
       "      <td>1784441.0</td>\n",
       "      <td>4.0</td>\n",
       "      <td>3007</td>\n",
       "      <td>3055537</td>\n",
       "      <td>37707</td>\n",
       "    </tr>\n",
       "    <tr>\n",
       "      <th>406918</th>\n",
       "      <td>3636531</td>\n",
       "      <td>3.124537e+09</td>\n",
       "      <td>atalanta43</td>\n",
       "      <td>iNaturalist RG</td>\n",
       "      <td>2021-04-20</td>\n",
       "      <td>110</td>\n",
       "      <td>2021</td>\n",
       "      <td>-2.162528</td>\n",
       "      <td>37.34617</td>\n",
       "      <td>3239860.0</td>\n",
       "      <td>1671750.0</td>\n",
       "      <td>88.0</td>\n",
       "      <td>3007</td>\n",
       "      <td>3402709</td>\n",
       "      <td>385120</td>\n",
       "    </tr>\n",
       "    <tr>\n",
       "      <th>125871</th>\n",
       "      <td>450524</td>\n",
       "      <td>3.090525e+09</td>\n",
       "      <td>Carlos Bernal</td>\n",
       "      <td>iNaturalist RG</td>\n",
       "      <td>2021-04-02</td>\n",
       "      <td>92</td>\n",
       "      <td>2021</td>\n",
       "      <td>-4.885698</td>\n",
       "      <td>38.18803</td>\n",
       "      <td>3017035.0</td>\n",
       "      <td>1806051.0</td>\n",
       "      <td>59.0</td>\n",
       "      <td>3007</td>\n",
       "      <td>3141143</td>\n",
       "      <td>123358</td>\n",
       "    </tr>\n",
       "    <tr>\n",
       "      <th>...</th>\n",
       "      <td>...</td>\n",
       "      <td>...</td>\n",
       "      <td>...</td>\n",
       "      <td>...</td>\n",
       "      <td>...</td>\n",
       "      <td>...</td>\n",
       "      <td>...</td>\n",
       "      <td>...</td>\n",
       "      <td>...</td>\n",
       "      <td>...</td>\n",
       "      <td>...</td>\n",
       "      <td>...</td>\n",
       "      <td>...</td>\n",
       "      <td>...</td>\n",
       "      <td>...</td>\n",
       "    </tr>\n",
       "    <tr>\n",
       "      <th>2982794</th>\n",
       "      <td>1558270</td>\n",
       "      <td>2.851196e+09</td>\n",
       "      <td>Annie Evankow</td>\n",
       "      <td>iNaturalist RG</td>\n",
       "      <td>2020-08-15</td>\n",
       "      <td>228</td>\n",
       "      <td>2020</td>\n",
       "      <td>9.638341</td>\n",
       "      <td>62.29903</td>\n",
       "      <td>4302156.0</td>\n",
       "      <td>4355306.0</td>\n",
       "      <td>5.0</td>\n",
       "      <td>6641</td>\n",
       "      <td>5621357</td>\n",
       "      <td>2597313</td>\n",
       "    </tr>\n",
       "    <tr>\n",
       "      <th>1821331</th>\n",
       "      <td>2668836</td>\n",
       "      <td>1.949297e+09</td>\n",
       "      <td>Solbjørg Engen Torvik</td>\n",
       "      <td>NOR Species Observation</td>\n",
       "      <td>2018-10-01</td>\n",
       "      <td>274</td>\n",
       "      <td>2018</td>\n",
       "      <td>5.973303</td>\n",
       "      <td>59.02464</td>\n",
       "      <td>4089408.0</td>\n",
       "      <td>3998082.0</td>\n",
       "      <td>10.0</td>\n",
       "      <td>646</td>\n",
       "      <td>4758736</td>\n",
       "      <td>1735601</td>\n",
       "    </tr>\n",
       "    <tr>\n",
       "      <th>3569856</th>\n",
       "      <td>1102347</td>\n",
       "      <td>2.248003e+09</td>\n",
       "      <td>Kåre Arnstein Lye [1940-2021];John Sandve</td>\n",
       "      <td>NOR Species Observation</td>\n",
       "      <td>2019-05-22</td>\n",
       "      <td>142</td>\n",
       "      <td>2019</td>\n",
       "      <td>10.863810</td>\n",
       "      <td>59.07302</td>\n",
       "      <td>4370642.0</td>\n",
       "      <td>3997208.0</td>\n",
       "      <td>20.0</td>\n",
       "      <td>5818</td>\n",
       "      <td>5950963</td>\n",
       "      <td>2928214</td>\n",
       "    </tr>\n",
       "    <tr>\n",
       "      <th>4538246</th>\n",
       "      <td>4568827</td>\n",
       "      <td>3.952017e+09</td>\n",
       "      <td>NaN</td>\n",
       "      <td>Pl@ntNet automatic</td>\n",
       "      <td>2020-06-28</td>\n",
       "      <td>180</td>\n",
       "      <td>2020</td>\n",
       "      <td>15.761770</td>\n",
       "      <td>38.26065</td>\n",
       "      <td>4828246.0</td>\n",
       "      <td>1705655.0</td>\n",
       "      <td>24.5</td>\n",
       "      <td>1058</td>\n",
       "      <td>6686847</td>\n",
       "      <td>3665864</td>\n",
       "    </tr>\n",
       "    <tr>\n",
       "      <th>2593669</th>\n",
       "      <td>4640081</td>\n",
       "      <td>2.398064e+09</td>\n",
       "      <td>Sissel Rohølhaugen</td>\n",
       "      <td>NOR Species Observation</td>\n",
       "      <td>2017-06-21</td>\n",
       "      <td>172</td>\n",
       "      <td>2017</td>\n",
       "      <td>8.724160</td>\n",
       "      <td>59.45825</td>\n",
       "      <td>4248488.0</td>\n",
       "      <td>4040380.0</td>\n",
       "      <td>75.0</td>\n",
       "      <td>2818</td>\n",
       "      <td>5398492</td>\n",
       "      <td>2374008</td>\n",
       "    </tr>\n",
       "  </tbody>\n",
       "</table>\n",
       "<p>886627 rows × 15 columns</p>\n",
       "</div>"
      ],
      "text/plain": [
       "           glcID        gbifID                                   observer  \\\n",
       "98094    1220433  3.951650e+09                                        NaN   \n",
       "54578    3784431  2.836625e+09                                        NaN   \n",
       "37647      12626  3.399277e+09                                  maria oct   \n",
       "406918   3636531  3.124537e+09                                 atalanta43   \n",
       "125871    450524  3.090525e+09                              Carlos Bernal   \n",
       "...          ...           ...                                        ...   \n",
       "2982794  1558270  2.851196e+09                              Annie Evankow   \n",
       "1821331  2668836  1.949297e+09                      Solbjørg Engen Torvik   \n",
       "3569856  1102347  2.248003e+09  Kåre Arnstein Lye [1940-2021];John Sandve   \n",
       "4538246  4568827  3.952017e+09                                        NaN   \n",
       "2593669  4640081  2.398064e+09                         Sissel Rohølhaugen   \n",
       "\n",
       "                     datasetName        date  dayOfYear  year        lon  \\\n",
       "98094         Pl@ntNet automatic  2018-03-07         66  2018  -5.925807   \n",
       "54578            Observation.org  2018-04-01         91  2018  -8.100728   \n",
       "37647             iNaturalist RG  2021-10-27        300  2021  -8.564983   \n",
       "406918            iNaturalist RG  2021-04-20        110  2021  -2.162528   \n",
       "125871            iNaturalist RG  2021-04-02         92  2021  -4.885698   \n",
       "...                          ...         ...        ...   ...        ...   \n",
       "2982794           iNaturalist RG  2020-08-15        228  2020   9.638341   \n",
       "1821331  NOR Species Observation  2018-10-01        274  2018   5.973303   \n",
       "3569856  NOR Species Observation  2019-05-22        142  2019  10.863810   \n",
       "4538246       Pl@ntNet automatic  2020-06-28        180  2020  15.761770   \n",
       "2593669  NOR Species Observation  2017-06-21        172  2017   8.724160   \n",
       "\n",
       "              lat  x_EPSG3035  y_EPSG3035  geoUncertaintyInM  speciesId  \\\n",
       "98094    36.65711   2896148.0   1658310.0               10.0       3007   \n",
       "54578    37.25391   2719114.0   1765972.0               25.0       3007   \n",
       "37647    37.33362   2680817.0   1784441.0                4.0       3007   \n",
       "406918   37.34617   3239860.0   1671750.0               88.0       3007   \n",
       "125871   38.18803   3017035.0   1806051.0               59.0       3007   \n",
       "...           ...         ...         ...                ...        ...   \n",
       "2982794  62.29903   4302156.0   4355306.0                5.0       6641   \n",
       "1821331  59.02464   4089408.0   3998082.0               10.0        646   \n",
       "3569856  59.07302   4370642.0   3997208.0               20.0       5818   \n",
       "4538246  38.26065   4828246.0   1705655.0               24.5       1058   \n",
       "2593669  59.45825   4248488.0   4040380.0               75.0       2818   \n",
       "\n",
       "         patchID  timeSerieID  \n",
       "98094    3114069        96294  \n",
       "54578    3072126        54310  \n",
       "37647    3055537        37707  \n",
       "406918   3402709       385120  \n",
       "125871   3141143       123358  \n",
       "...          ...          ...  \n",
       "2982794  5621357      2597313  \n",
       "1821331  4758736      1735601  \n",
       "3569856  5950963      2928214  \n",
       "4538246  6686847      3665864  \n",
       "2593669  5398492      2374008  \n",
       "\n",
       "[886627 rows x 15 columns]"
      ]
     },
     "execution_count": 7,
     "metadata": {},
     "output_type": "execute_result"
    }
   ],
   "source": [
    "data_maj"
   ]
  },
  {
   "cell_type": "code",
   "execution_count": 19,
   "id": "271ca27e-98cf-4f98-a5a2-e8692a737f73",
   "metadata": {
    "collapsed": true,
    "execution": {
     "iopub.execute_input": "2024-04-24T14:36:55.740365Z",
     "iopub.status.busy": "2024-04-24T14:36:55.739835Z",
     "iopub.status.idle": "2024-04-24T14:36:55.760363Z",
     "shell.execute_reply": "2024-04-24T14:36:55.759561Z",
     "shell.execute_reply.started": "2024-04-24T14:36:55.740325Z"
    },
    "jupyter": {
     "outputs_hidden": true
    }
   },
   "outputs": [
    {
     "data": {
      "text/plain": [
       "(tensor([  0,   1,   2,   3,   4,   5,   6,   7,   8,   9,  10,  11,  12,  13,\n",
       "          14,  15,  16,  17,  18,  19,  20,  21,  22,  23,  24,  25,  26,  27,\n",
       "          28,  29,  30,  31,  32,  33,  34,  35,  36,  37,  38,  39,  40,  41,\n",
       "          42,  43,  44,  45,  46,  47,  48,  49,  50,  51,  52,  53,  54,  55,\n",
       "          56,  57,  58,  59,  60,  61,  62,  63,  64,  65,  66,  67,  68,  69,\n",
       "          70,  71,  72,  73,  74,  75,  76,  77,  78,  79,  80,  81,  82,  83,\n",
       "          84,  85,  86,  87,  88,  89,  90,  91,  92,  93,  94,  95,  96,  97,\n",
       "          98,  99, 100, 101, 102, 103, 104, 105, 106, 107, 108, 109, 110, 111,\n",
       "         112, 113, 114, 115, 116, 117, 118, 119, 120, 121, 122, 123, 124, 125,\n",
       "         126, 127, 128, 129, 130, 131, 132, 133, 134, 135, 136, 137, 138, 139,\n",
       "         140, 141, 142, 143, 144, 145, 146, 147, 148, 149, 150, 151, 152, 153,\n",
       "         154, 155, 156, 157, 158, 159, 160, 161, 162, 163, 164, 165, 166, 167,\n",
       "         168, 169, 170, 171, 172, 173, 174, 175, 176, 177, 178, 179, 180, 181,\n",
       "         182, 183, 184, 185, 186, 187, 188, 189, 190, 191, 192, 193, 194, 195,\n",
       "         196, 197, 198, 199, 200, 201, 202, 203, 204, 205, 206, 207, 208, 209,\n",
       "         210, 211, 212, 213, 214, 215, 216, 217, 218, 219, 220, 221, 222, 223,\n",
       "         224, 225, 226, 227, 228, 229, 230, 231, 232, 233, 234, 235, 236, 237,\n",
       "         238, 239, 240, 241, 242, 243, 244, 245, 246, 247, 248, 249, 250, 251,\n",
       "         252, 253, 254, 255, 256, 257, 258, 259, 260, 261, 262, 263, 264, 265,\n",
       "         266, 267, 268, 269, 270, 271, 272, 273, 274, 275, 276, 277, 278, 279,\n",
       "         280, 281, 282, 283, 284, 285, 286, 287, 288, 289, 290, 291, 292, 293,\n",
       "         294, 295, 296, 297, 298, 299, 300, 301, 302, 303, 304, 305, 306, 307,\n",
       "         308, 309, 310, 311, 312, 313, 314, 315, 316, 317, 318, 319, 320, 321,\n",
       "         322, 323, 324, 325, 326, 327, 328, 329, 330, 331, 332, 333, 334, 335,\n",
       "         336, 337, 338, 339, 340, 341, 342, 343, 344, 345, 346, 347, 348, 349,\n",
       "         350, 351, 352, 353, 354, 355, 356, 357, 358, 359, 360, 361, 362, 363,\n",
       "         364, 365, 366, 367, 368, 369, 370, 371, 372, 373, 374, 375, 376, 377,\n",
       "         378, 379, 380, 381, 382, 383, 384, 385, 386, 387, 388, 389, 390, 391,\n",
       "         392, 393, 394, 395, 396, 397, 398, 399, 400, 401, 402, 403, 404, 405,\n",
       "         406, 407, 408, 409, 410, 411, 412, 413, 414, 415, 416, 417, 418, 419,\n",
       "         420, 421, 422, 423, 424, 425, 426, 427, 428, 429, 430, 431, 432, 433,\n",
       "         434, 435, 436, 437, 438, 439, 440, 441, 442, 443, 444, 445, 446, 447,\n",
       "         448, 449, 450, 451, 452, 453, 454, 455, 456, 457, 458, 459, 460, 461,\n",
       "         462, 463, 464, 465, 466, 467, 468, 469, 470, 471, 472, 473, 474, 475,\n",
       "         476, 477, 478, 479, 480, 481, 482, 483, 484, 485, 486, 487, 488, 489,\n",
       "         490, 491, 492, 493, 494, 495, 496, 497, 498, 499, 500, 501, 502, 503,\n",
       "         504, 505, 506, 507, 508, 509, 510, 511, 512, 513, 514, 515, 516, 517,\n",
       "         518, 519, 520, 521, 522, 523, 524, 525, 526, 527, 528, 529, 530, 531,\n",
       "         532, 533, 534, 535, 536, 537, 538, 539, 540, 541, 542, 543, 544, 545,\n",
       "         546, 547, 548, 549, 550, 551, 552, 553, 554, 555, 556, 557, 558, 559,\n",
       "         560, 561, 562, 563, 564, 565, 566, 567, 568, 569, 570, 571, 572, 573,\n",
       "         574, 575, 576, 577, 578, 579, 580, 581, 582, 583, 584, 585, 586, 587,\n",
       "         588, 589, 590, 591, 592, 593, 594, 595, 596, 597, 598, 599, 600, 601,\n",
       "         602, 603, 604, 605, 606, 607, 608, 609, 610, 611, 612, 613, 614, 615,\n",
       "         616, 617, 618, 619, 620, 621, 622, 623, 624, 625, 626, 627, 628, 629,\n",
       "         630, 631, 632, 633, 634, 635, 636, 637, 638, 639, 640, 641, 642, 643,\n",
       "         644, 645, 646, 647, 648, 649, 650, 651, 652, 653, 654, 655, 656, 657,\n",
       "         658, 659, 660, 661, 662, 663, 664, 665, 666, 667, 668, 669, 670, 671,\n",
       "         672, 673, 674, 675, 676, 677, 678, 679, 680, 681, 682, 683, 684, 685,\n",
       "         686, 687, 688, 689, 690, 691, 692, 693, 694, 695, 696, 697, 698, 699,\n",
       "         700, 701, 702, 703, 704, 705, 706, 707, 708, 709, 710, 711, 712, 713,\n",
       "         714, 715, 716, 717, 718, 719, 720, 721, 722, 723, 724, 725, 726, 727,\n",
       "         728, 729, 730, 731, 732, 733, 734, 735, 736, 737, 738, 739, 740, 741,\n",
       "         742, 743, 744, 745, 746, 747, 748, 749, 750, 751, 752, 753, 754, 755,\n",
       "         756, 757, 758, 759, 760, 761, 762, 763, 764, 765, 766, 767, 768, 769,\n",
       "         770, 771, 772, 773, 774, 775, 776, 777, 778, 779, 780, 781, 782, 783,\n",
       "         784, 785, 786, 787, 788, 789, 790, 791, 792, 793, 794, 795, 796, 797,\n",
       "         798, 799, 800, 801, 802, 803, 804, 805, 806, 807, 808, 809, 810, 811,\n",
       "         812, 813, 814, 815, 816, 817, 818, 819, 820, 821, 822, 823, 824, 825,\n",
       "         826, 827, 828, 829, 830, 831, 832, 833, 834, 835, 836, 837, 838, 839,\n",
       "         840, 841, 842, 843, 844, 845, 846, 847, 848, 849, 850, 851, 852, 853,\n",
       "         854, 855, 856, 857, 858, 859, 860, 861, 862, 863, 864, 865, 866, 867,\n",
       "         868, 869, 870, 871, 872, 873, 874, 875, 876, 877, 878, 879, 880, 881,\n",
       "         882, 883, 884, 885, 886, 887, 888, 889, 890, 891, 892, 893, 894, 895,\n",
       "         896, 897, 898, 899, 900, 901, 902, 903, 904, 905, 906, 907, 908, 909,\n",
       "         910, 911, 912, 913, 914, 915, 916, 917, 918, 919, 920, 921, 922, 923,\n",
       "         924, 925, 926, 927, 928, 929, 930, 931, 932, 933, 934, 935, 936, 937,\n",
       "         938, 939, 940, 941, 942, 943, 944, 945, 946, 947, 948, 949, 950, 951,\n",
       "         952, 953, 954, 955, 956, 957, 958, 959, 960, 961, 962, 963, 964, 965,\n",
       "         966, 967, 968, 969, 970, 971, 972, 973, 974, 975, 976, 977, 978, 979,\n",
       "         980, 981, 982, 983, 984, 985, 986, 987, 988, 989, 990]),\n",
       " tensor([1, 1, 1, 1, 1, 1, 1, 1, 1, 1, 1, 1, 1, 1, 1, 1, 1, 1, 1, 1, 1, 1, 1, 1,\n",
       "         1, 1, 1, 1, 1, 1, 1, 1, 1, 1, 1, 1, 1, 1, 1, 1, 1, 1, 1, 1, 1, 1, 1, 1,\n",
       "         1, 1, 1, 1, 1, 1, 1, 1, 1, 1, 1, 1, 1, 1, 1, 1, 1, 1, 1, 1, 1, 1, 1, 1,\n",
       "         1, 1, 1, 1, 1, 1, 1, 1, 1, 1, 1, 1, 1, 1, 1, 1, 1, 1, 1, 1, 1, 1, 1, 1,\n",
       "         1, 1, 1, 1, 1, 1, 1, 1, 1, 1, 1, 1, 1, 1, 1, 1, 1, 1, 1, 1, 1, 1, 1, 1,\n",
       "         1, 2, 1, 1, 1, 1, 1, 1, 1, 1, 1, 1, 1, 1, 1, 1, 1, 1, 1, 1, 1, 1, 1, 1,\n",
       "         1, 1, 1, 1, 1, 1, 1, 1, 1, 1, 1, 1, 1, 1, 1, 1, 1, 1, 1, 1, 1, 1, 1, 1,\n",
       "         1, 1, 1, 1, 1, 1, 1, 1, 1, 1, 1, 1, 1, 1, 1, 1, 1, 1, 1, 1, 1, 1, 1, 1,\n",
       "         1, 1, 1, 1, 1, 1, 1, 1, 1, 1, 1, 1, 1, 1, 1, 1, 1, 1, 1, 1, 1, 1, 1, 1,\n",
       "         1, 1, 1, 1, 1, 1, 1, 1, 1, 1, 1, 1, 1, 1, 1, 1, 1, 1, 1, 1, 1, 1, 1, 1,\n",
       "         1, 1, 1, 1, 1, 1, 1, 1, 1, 1, 1, 1, 1, 1, 1, 1, 1, 1, 1, 1, 1, 1, 1, 1,\n",
       "         1, 1, 1, 1, 1, 1, 1, 1, 1, 1, 1, 1, 1, 1, 1, 1, 1, 1, 1, 1, 1, 1, 1, 1,\n",
       "         1, 1, 1, 1, 1, 1, 1, 1, 1, 1, 1, 1, 1, 1, 1, 1, 1, 1, 1, 1, 1, 1, 1, 1,\n",
       "         1, 1, 1, 1, 1, 1, 1, 1, 1, 1, 1, 1, 1, 1, 1, 1, 1, 1, 1, 1, 1, 1, 1, 1,\n",
       "         1, 1, 1, 1, 1, 1, 1, 1, 1, 1, 1, 1, 1, 1, 1, 1, 1, 1, 1, 1, 1, 1, 1, 1,\n",
       "         1, 1, 1, 1, 1, 1, 1, 1, 1, 1, 1, 1, 1, 1, 1, 1, 1, 1, 1, 1, 1, 1, 1, 1,\n",
       "         1, 1, 1, 1, 1, 1, 1, 1, 1, 1, 1, 1, 1, 1, 1, 1, 1, 1, 1, 1, 1, 1, 1, 1,\n",
       "         1, 1, 1, 1, 1, 1, 1, 1, 1, 1, 1, 1, 1, 1, 1, 1, 1, 1, 1, 1, 1, 1, 1, 1,\n",
       "         1, 1, 1, 1, 1, 1, 1, 1, 1, 1, 1, 1, 1, 1, 1, 1, 1, 1, 1, 1, 1, 1, 1, 1,\n",
       "         1, 1, 1, 1, 1, 1, 1, 1, 1, 1, 1, 1, 1, 1, 1, 1, 1, 1, 1, 1, 1, 1, 1, 1,\n",
       "         1, 1, 1, 1, 1, 1, 1, 2, 1, 1, 1, 1, 1, 1, 1, 1, 1, 1, 1, 1, 1, 1, 1, 1,\n",
       "         1, 1, 1, 1, 1, 1, 1, 1, 1, 1, 1, 1, 1, 1, 1, 1, 1, 1, 1, 2, 1, 1, 1, 1,\n",
       "         1, 1, 1, 1, 1, 1, 1, 1, 1, 1, 1, 1, 1, 1, 1, 1, 1, 1, 1, 1, 1, 2, 1, 1,\n",
       "         1, 1, 1, 1, 1, 1, 1, 1, 1, 1, 1, 1, 1, 1, 1, 1, 1, 1, 1, 1, 1, 1, 1, 1,\n",
       "         1, 1, 1, 1, 1, 1, 1, 1, 1, 1, 1, 1, 1, 1, 1, 1, 1, 1, 1, 1, 1, 1, 1, 1,\n",
       "         1, 1, 1, 1, 1, 1, 1, 1, 1, 1, 1, 1, 1, 1, 1, 1, 1, 1, 1, 1, 1, 1, 1, 1,\n",
       "         1, 1, 1, 1, 1, 1, 1, 1, 1, 1, 1, 1, 1, 1, 1, 1, 1, 1, 1, 1, 1, 1, 1, 2,\n",
       "         1, 1, 1, 1, 1, 1, 1, 1, 1, 1, 1, 1, 1, 1, 1, 1, 1, 1, 1, 1, 1, 1, 1, 1,\n",
       "         1, 1, 1, 1, 1, 1, 1, 1, 1, 1, 1, 1, 1, 1, 1, 1, 2, 1, 1, 1, 1, 1, 1, 1,\n",
       "         1, 1, 1, 1, 1, 1, 1, 1, 1, 2, 1, 1, 2, 1, 1, 1, 1, 1, 1, 1, 1, 1, 1, 1,\n",
       "         1, 1, 1, 1, 1, 1, 1, 1, 1, 1, 1, 1, 1, 1, 1, 1, 1, 1, 1, 1, 1, 1, 1, 1,\n",
       "         1, 1, 1, 1, 1, 1, 1, 1, 1, 1, 1, 1, 1, 1, 1, 1, 1, 1, 1, 1, 1, 1, 1, 1,\n",
       "         1, 1, 1, 1, 1, 1, 1, 1, 1, 1, 1, 1, 1, 1, 1, 1, 1, 1, 1, 1, 1, 1, 1, 1,\n",
       "         1, 1, 1, 1, 1, 1, 1, 1, 1, 1, 1, 1, 1, 1, 1, 1, 1, 1, 1, 1, 1, 1, 1, 1,\n",
       "         1, 1, 1, 1, 1, 1, 1, 1, 1, 1, 1, 1, 1, 1, 1, 1, 1, 1, 1, 1, 1, 1, 1, 1,\n",
       "         2, 1, 1, 1, 1, 1, 1, 1, 1, 1, 1, 1, 1, 1, 1, 1, 1, 1, 1, 1, 1, 1, 1, 1,\n",
       "         1, 1, 1, 1, 1, 1, 1, 1, 1, 1, 1, 1, 1, 1, 1, 1, 1, 1, 1, 1, 1, 1, 1, 1,\n",
       "         1, 1, 1, 1, 1, 1, 1, 1, 1, 1, 1, 1, 1, 1, 1, 1, 1, 1, 1, 1, 1, 1, 1, 1,\n",
       "         1, 1, 1, 1, 1, 1, 1, 1, 1, 1, 1, 1, 1, 1, 1, 1, 1, 1, 1, 1, 1, 1, 1, 1,\n",
       "         1, 1, 1, 1, 1, 1, 1, 1, 1, 1, 1, 1, 1, 1, 1, 1, 1, 1, 1, 1, 1, 1, 1, 1,\n",
       "         1, 1, 1, 1, 1, 1, 1, 1, 1, 1, 1, 1, 1, 1, 1, 1, 1, 1, 1, 1, 1, 1, 1, 1,\n",
       "         1, 1, 1, 1, 1, 1, 1]))"
      ]
     },
     "execution_count": 19,
     "metadata": {},
     "output_type": "execute_result"
    }
   ],
   "source": [
    "cluster2.unique(return_counts=True)"
   ]
  },
  {
   "cell_type": "code",
   "execution_count": 14,
   "id": "cd46b701-2185-47d9-bdeb-c07579a37181",
   "metadata": {
    "execution": {
     "iopub.execute_input": "2024-04-24T14:19:52.002243Z",
     "iopub.status.busy": "2024-04-24T14:19:52.000470Z",
     "iopub.status.idle": "2024-04-24T14:19:52.010130Z",
     "shell.execute_reply": "2024-04-24T14:19:52.008992Z",
     "shell.execute_reply.started": "2024-04-24T14:19:52.002197Z"
    }
   },
   "outputs": [
    {
     "data": {
      "text/plain": [
       "tensor(0)"
      ]
     },
     "execution_count": 14,
     "metadata": {},
     "output_type": "execute_result"
    }
   ],
   "source": [
    "cluster2.min()"
   ]
  },
  {
   "cell_type": "code",
   "execution_count": null,
   "id": "50ba823b-adf7-40db-a29a-2a3b71185992",
   "metadata": {},
   "outputs": [],
   "source": [
    "cluster.max()"
   ]
  },
  {
   "cell_type": "code",
   "execution_count": 15,
   "id": "e2efb522-eb42-4f89-bf4b-00372ba17aa0",
   "metadata": {
    "execution": {
     "iopub.execute_input": "2024-04-24T14:19:56.742528Z",
     "iopub.status.busy": "2024-04-24T14:19:56.741362Z",
     "iopub.status.idle": "2024-04-24T14:19:56.750356Z",
     "shell.execute_reply": "2024-04-24T14:19:56.749220Z",
     "shell.execute_reply.started": "2024-04-24T14:19:56.742482Z"
    }
   },
   "outputs": [
    {
     "data": {
      "text/plain": [
       "tensor(22613267726)"
      ]
     },
     "execution_count": 15,
     "metadata": {},
     "output_type": "execute_result"
    }
   ],
   "source": [
    "cluster.max()"
   ]
  },
  {
   "cell_type": "code",
   "execution_count": 9,
   "id": "5dcfc611-7390-4913-94b6-425fba328e5a",
   "metadata": {
    "execution": {
     "iopub.execute_input": "2024-04-24T14:19:02.178811Z",
     "iopub.status.busy": "2024-04-24T14:19:02.177380Z",
     "iopub.status.idle": "2024-04-24T14:19:02.185740Z",
     "shell.execute_reply": "2024-04-24T14:19:02.184585Z",
     "shell.execute_reply.started": "2024-04-24T14:19:02.178764Z"
    }
   },
   "outputs": [
    {
     "data": {
      "text/plain": [
       "1000"
      ]
     },
     "execution_count": 9,
     "metadata": {},
     "output_type": "execute_result"
    }
   ],
   "source": [
    "len(cluster2)"
   ]
  },
  {
   "cell_type": "code",
   "execution_count": null,
   "id": "3aecca33-c216-49af-8057-d3be86881d6b",
   "metadata": {},
   "outputs": [],
   "source": [
    "# Plot original coordinates\n",
    "fig = plt.figure()\n",
    "ax = fig.add_subplot(111, projection='3d')\n",
    "ax.scatter(coordinates[:, 0], coordinates[:, 1], coordinates[:, 2], c='b', label='Original Coordinates')\n",
    "ax.set_xlabel('X')\n",
    "ax.set_ylabel('Y')\n",
    "ax.set_zlabel('Z')\n",
    "ax.legend()\n",
    "\n",
    "# Plot processed coordinates\n",
    "ax.scatter(processed_coordinates[:, 0], processed_coordinates[:, 1], processed_coordinates[:, 2], c='r', label='Processed Coordinates')\n",
    "ax.legend()\n",
    "\n",
    "plt.show()"
   ]
  },
  {
   "cell_type": "markdown",
   "id": "7ae78535-9cf1-4de9-8486-787c1d549f0c",
   "metadata": {},
   "source": [
    "# Per species"
   ]
  },
  {
   "cell_type": "code",
   "execution_count": 7,
   "id": "97225eb6-b9b2-461a-993d-a29b6f6b0704",
   "metadata": {
    "execution": {
     "iopub.execute_input": "2024-04-24T14:12:32.103574Z",
     "iopub.status.busy": "2024-04-24T14:12:32.102746Z",
     "iopub.status.idle": "2024-04-24T14:12:32.107955Z",
     "shell.execute_reply": "2024-04-24T14:12:32.107081Z",
     "shell.execute_reply.started": "2024-04-24T14:12:32.103535Z"
    }
   },
   "outputs": [],
   "source": [
    "from grid_sampling_functionalities import sample_data\n",
    "from shapely.geometry import Point\n",
    "import geopandas as gpd"
   ]
  },
  {
   "cell_type": "code",
   "execution_count": 8,
   "id": "bf4dd980-9f50-4cbc-b87b-cb34fb484300",
   "metadata": {
    "execution": {
     "iopub.execute_input": "2024-04-24T14:12:35.600275Z",
     "iopub.status.busy": "2024-04-24T14:12:35.599456Z",
     "iopub.status.idle": "2024-04-24T14:12:35.833168Z",
     "shell.execute_reply": "2024-04-24T14:12:35.831977Z",
     "shell.execute_reply.started": "2024-04-24T14:12:35.600236Z"
    }
   },
   "outputs": [
    {
     "ename": "ValueError",
     "evalue": "too many values to unpack (expected 4)",
     "output_type": "error",
     "traceback": [
      "\u001b[0;31m---------------------------------------------------------------------------\u001b[0m",
      "\u001b[0;31mValueError\u001b[0m                                Traceback (most recent call last)",
      "Cell \u001b[0;32mIn[8], line 11\u001b[0m\n\u001b[1;32m      8\u001b[0m data[\u001b[38;5;124m'\u001b[39m\u001b[38;5;124mgeometry\u001b[39m\u001b[38;5;124m'\u001b[39m] \u001b[38;5;241m=\u001b[39m [Point(x, y) \u001b[38;5;28;01mfor\u001b[39;00m x, y \u001b[38;5;129;01min\u001b[39;00m \u001b[38;5;28mzip\u001b[39m(data[\u001b[38;5;124m'\u001b[39m\u001b[38;5;124mx_EPSG3035\u001b[39m\u001b[38;5;124m'\u001b[39m], data[\u001b[38;5;124m'\u001b[39m\u001b[38;5;124my_EPSG3035\u001b[39m\u001b[38;5;124m'\u001b[39m])]\n\u001b[1;32m      9\u001b[0m gdata \u001b[38;5;241m=\u001b[39m gpd\u001b[38;5;241m.\u001b[39mGeoDataFrame(data, geometry\u001b[38;5;241m=\u001b[39m\u001b[38;5;124m'\u001b[39m\u001b[38;5;124mgeometry\u001b[39m\u001b[38;5;124m'\u001b[39m, crs\u001b[38;5;241m=\u001b[39m\u001b[38;5;124m'\u001b[39m\u001b[38;5;124mEPSG:3035\u001b[39m\u001b[38;5;124m'\u001b[39m)\n\u001b[0;32m---> 11\u001b[0m processed_data, ids, cluster, cluster2 \u001b[38;5;241m=\u001b[39m sample_data(gdata, grid_size, radius_earth)\n",
      "\u001b[0;31mValueError\u001b[0m: too many values to unpack (expected 4)"
     ]
    }
   ],
   "source": [
    "grid_size = 50\n",
    "radius_earth = 6371\n",
    "speciesid = 1995\n",
    "\n",
    "data = po_dataset.loc[po_dataset[\"speciesId\"]==speciesid].copy()\n",
    "data.drop_duplicates(subset=['x_EPSG3035', 'y_EPSG3035'], inplace=True)\n",
    "\n",
    "data['geometry'] = [Point(x, y) for x, y in zip(data['x_EPSG3035'], data['y_EPSG3035'])]\n",
    "gdata = gpd.GeoDataFrame(data, geometry='geometry', crs='EPSG:3035')\n",
    "\n",
    "processed_data = sample_data(gdata, grid_size, radius_earth)"
   ]
  },
  {
   "cell_type": "code",
   "execution_count": 19,
   "id": "a9e35b5f-7eab-4642-934e-0f94fd5839a7",
   "metadata": {
    "editable": true,
    "execution": {
     "iopub.execute_input": "2024-04-22T07:40:02.299271Z",
     "iopub.status.busy": "2024-04-22T07:40:02.299040Z",
     "iopub.status.idle": "2024-04-22T07:40:02.879148Z",
     "shell.execute_reply": "2024-04-22T07:40:02.878524Z",
     "shell.execute_reply.started": "2024-04-22T07:40:02.299252Z"
    },
    "slideshow": {
     "slide_type": ""
    },
    "tags": []
   },
   "outputs": [
    {
     "data": {
      "image/png": "[encoded data removed]",
      "text/plain": [
       "<Figure size 2000x1000 with 2 Axes>"
      ]
     },
     "metadata": {},
     "output_type": "display_data"
    }
   ],
   "source": [
    "fig, axs = plt.subplots(1, 2, figsize=(20, 10))\n",
    "\n",
    "# Plot all points in the GeoDataFrame on the first subplot\n",
    "gdata.plot(ax=axs[0], markersize=10, color='blue', alpha=0.5, label='full data')\n",
    "axs[0].set_title('Full Data')\n",
    "\n",
    "# Plot points for the specific species ID on the second subplot\n",
    "processed_data.plot(ax=axs[1], markersize=10, color='red', alpha=0.5, label='thinned data')\n",
    "axs[1].set_title('Thinned Data')\n",
    "\n",
    "# Adjust layout\n",
    "plt.tight_layout()\n",
    "\n",
    "# Show the plots\n",
    "plt.show()"
   ]
  },
  {
   "cell_type": "code",
   "execution_count": null,
   "id": "fce2ee97-e874-4ad0-b435-8f7121dc9988",
   "metadata": {},
   "outputs": [],
   "source": []
  }
 ],
 "metadata": {
  "kernelspec": {
   "display_name": "sdm_sandbox",
   "language": "python",
   "name": "sdm_sandbox"
  },
  "language_info": {
   "codemirror_mode": {
    "name": "ipython",
    "version": 3
   },
   "file_extension": ".py",
   "mimetype": "text/x-python",
   "name": "python",
   "nbconvert_exporter": "python",
   "pygments_lexer": "ipython3",
   "version": "3.9.18"
  }
 },
 "nbformat": 4,
 "nbformat_minor": 5
}
